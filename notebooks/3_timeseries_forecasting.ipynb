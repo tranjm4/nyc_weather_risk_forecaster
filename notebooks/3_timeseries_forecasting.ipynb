{
 "cells": [
  {
   "cell_type": "markdown",
   "metadata": {},
   "source": [
    "# Traffic Accident Risk Forecasting with Time Series\n",
    "\n",
    "This notebook implements location-specific accident probability forecasting using time series methods.\n"
   ]
  },
  {
   "cell_type": "code",
   "execution_count": 1,
   "metadata": {},
   "outputs": [],
   "source": [
    "import pandas as pd\n",
    "import numpy as np\n",
    "import matplotlib.pyplot as plt\n",
    "import seaborn as sns\n",
    "from datetime import datetime, timedelta\n",
    "import warnings\n",
    "warnings.filterwarnings('ignore')\n",
    "\n",
    "import prince\n",
    "\n",
    "# Time series specific imports\n",
    "from statsmodels.tsa.seasonal import seasonal_decompose\n",
    "from statsmodels.tsa.arima.model import ARIMA\n",
    "from statsmodels.tsa.statespace.sarimax import SARIMAX\n",
    "from sklearn.preprocessing import StandardScaler\n",
    "from sklearn.metrics import mean_absolute_error, mean_squared_error\n",
    "from sklearn.model_selection import TimeSeriesSplit\n",
    "\n",
    "# Geospatial\n",
    "from sklearn.cluster import KMeans\n",
    "from scipy.spatial.distance import cdist\n",
    "\n",
    "import pymc as pm\n",
    "\n",
    "from tqdm import tqdm\n",
    "\n",
    "plt.style.use('seaborn-v0_8')\n",
    "pd.set_option('display.max_columns', None)\n",
    "pd.set_option('display.float_format', '{:.5f}'.format)\n",
    "\n",
    "\n",
    "import pickle\n",
    "def save_pkl(data, filepath):\n",
    "    \"\"\"\n",
    "    Pickles the provided data into the filepath\n",
    "    \"\"\"\n",
    "    with open(filepath, \"wb\") as f:\n",
    "        pickle.dump(data, f)\n",
    "\n",
    "def load_pkl(filepath):\n",
    "    \"\"\"\n",
    "    De-serializes the pkl file\n",
    "    \"\"\"\n",
    "    with open(filepath, \"rb\") as f:\n",
    "        return pickle.load(f)\n",
    "    \n",
    "import os\n",
    "try:\n",
    "    if run_once == False:\n",
    "        pass\n",
    "    else:\n",
    "        print(\"os.chdir('..') already run once -- will not run again\")\n",
    "except:\n",
    "    run_once = True\n",
    "    os.chdir(\"..\")"
   ]
  },
  {
   "cell_type": "code",
   "execution_count": null,
   "metadata": {},
   "outputs": [],
   "source": [
    "df = pd.read_csv(\"./data/merged.csv\")\n",
    "df[\"datetime\"] = pd.to_datetime(df[\"datetime\"])\n",
    "df.head()"
   ]
  },
  {
   "cell_type": "code",
   "execution_count": null,
   "metadata": {},
   "outputs": [
    {
     "data": {
      "text/html": [
       "<div>\n",
       "<style scoped>\n",
       "    .dataframe tbody tr th:only-of-type {\n",
       "        vertical-align: middle;\n",
       "    }\n",
       "\n",
       "    .dataframe tbody tr th {\n",
       "        vertical-align: top;\n",
       "    }\n",
       "\n",
       "    .dataframe thead th {\n",
       "        text-align: right;\n",
       "    }\n",
       "</style>\n",
       "<table border=\"1\" class=\"dataframe\">\n",
       "  <thead>\n",
       "    <tr style=\"text-align: right;\">\n",
       "      <th></th>\n",
       "      <th>temp</th>\n",
       "      <th>visibility</th>\n",
       "      <th>feels_like</th>\n",
       "      <th>temp_min</th>\n",
       "      <th>temp_max</th>\n",
       "      <th>wind_speed</th>\n",
       "      <th>wind_gust</th>\n",
       "      <th>rain_1h</th>\n",
       "      <th>rain_3h</th>\n",
       "      <th>snow_1h</th>\n",
       "      <th>snow_3h</th>\n",
       "      <th>clouds_all</th>\n",
       "      <th>weather_id</th>\n",
       "      <th>weather_main</th>\n",
       "      <th>weather_description</th>\n",
       "      <th>visibility_category</th>\n",
       "      <th>rain_1h_category</th>\n",
       "      <th>rain_3h_category</th>\n",
       "      <th>snow_1h_category</th>\n",
       "      <th>snow_3h_category</th>\n",
       "      <th>wind_intensity</th>\n",
       "    </tr>\n",
       "    <tr>\n",
       "      <th>datetime</th>\n",
       "      <th></th>\n",
       "      <th></th>\n",
       "      <th></th>\n",
       "      <th></th>\n",
       "      <th></th>\n",
       "      <th></th>\n",
       "      <th></th>\n",
       "      <th></th>\n",
       "      <th></th>\n",
       "      <th></th>\n",
       "      <th></th>\n",
       "      <th></th>\n",
       "      <th></th>\n",
       "      <th></th>\n",
       "      <th></th>\n",
       "      <th></th>\n",
       "      <th></th>\n",
       "      <th></th>\n",
       "      <th></th>\n",
       "      <th></th>\n",
       "      <th></th>\n",
       "    </tr>\n",
       "  </thead>\n",
       "  <tbody>\n",
       "    <tr>\n",
       "      <th>2012-12-31 19:00:00</th>\n",
       "      <td>3.06000</td>\n",
       "      <td>10000.00000</td>\n",
       "      <td>-2.60000</td>\n",
       "      <td>2.71000</td>\n",
       "      <td>3.25000</td>\n",
       "      <td>8.74000</td>\n",
       "      <td>12.85000</td>\n",
       "      <td>0.00000</td>\n",
       "      <td>0.00000</td>\n",
       "      <td>0.00000</td>\n",
       "      <td>0.00000</td>\n",
       "      <td>100</td>\n",
       "      <td>804</td>\n",
       "      <td>Clouds</td>\n",
       "      <td>overcast clouds</td>\n",
       "      <td>High Visibility</td>\n",
       "      <td>No Rain</td>\n",
       "      <td>No Rain</td>\n",
       "      <td>No Snow</td>\n",
       "      <td>No Snow</td>\n",
       "      <td>Moderate Wind</td>\n",
       "    </tr>\n",
       "    <tr>\n",
       "      <th>2012-12-31 20:00:00</th>\n",
       "      <td>3.07000</td>\n",
       "      <td>10000.00000</td>\n",
       "      <td>-1.84000</td>\n",
       "      <td>3.01000</td>\n",
       "      <td>3.93000</td>\n",
       "      <td>6.68000</td>\n",
       "      <td>11.82000</td>\n",
       "      <td>0.00000</td>\n",
       "      <td>0.00000</td>\n",
       "      <td>0.00000</td>\n",
       "      <td>0.00000</td>\n",
       "      <td>100</td>\n",
       "      <td>804</td>\n",
       "      <td>Clouds</td>\n",
       "      <td>overcast clouds</td>\n",
       "      <td>High Visibility</td>\n",
       "      <td>No Rain</td>\n",
       "      <td>No Rain</td>\n",
       "      <td>No Snow</td>\n",
       "      <td>No Snow</td>\n",
       "      <td>Moderate Wind</td>\n",
       "    </tr>\n",
       "    <tr>\n",
       "      <th>2012-12-31 21:00:00</th>\n",
       "      <td>3.07000</td>\n",
       "      <td>10000.00000</td>\n",
       "      <td>-1.84000</td>\n",
       "      <td>3.01000</td>\n",
       "      <td>3.93000</td>\n",
       "      <td>6.68000</td>\n",
       "      <td>9.77000</td>\n",
       "      <td>0.00000</td>\n",
       "      <td>0.00000</td>\n",
       "      <td>0.00000</td>\n",
       "      <td>0.00000</td>\n",
       "      <td>100</td>\n",
       "      <td>804</td>\n",
       "      <td>Clouds</td>\n",
       "      <td>overcast clouds</td>\n",
       "      <td>High Visibility</td>\n",
       "      <td>No Rain</td>\n",
       "      <td>No Rain</td>\n",
       "      <td>No Snow</td>\n",
       "      <td>No Snow</td>\n",
       "      <td>Moderate Wind</td>\n",
       "    </tr>\n",
       "    <tr>\n",
       "      <th>2012-12-31 22:00:00</th>\n",
       "      <td>3.38000</td>\n",
       "      <td>10000.00000</td>\n",
       "      <td>-1.83000</td>\n",
       "      <td>3.15000</td>\n",
       "      <td>4.35000</td>\n",
       "      <td>7.71000</td>\n",
       "      <td>12.85000</td>\n",
       "      <td>0.00000</td>\n",
       "      <td>0.00000</td>\n",
       "      <td>0.00000</td>\n",
       "      <td>0.00000</td>\n",
       "      <td>100</td>\n",
       "      <td>804</td>\n",
       "      <td>Clouds</td>\n",
       "      <td>overcast clouds</td>\n",
       "      <td>High Visibility</td>\n",
       "      <td>No Rain</td>\n",
       "      <td>No Rain</td>\n",
       "      <td>No Snow</td>\n",
       "      <td>No Snow</td>\n",
       "      <td>Moderate Wind</td>\n",
       "    </tr>\n",
       "    <tr>\n",
       "      <th>2012-12-31 23:00:00</th>\n",
       "      <td>3.38000</td>\n",
       "      <td>10000.00000</td>\n",
       "      <td>-2.01000</td>\n",
       "      <td>3.15000</td>\n",
       "      <td>4.35000</td>\n",
       "      <td>8.22000</td>\n",
       "      <td>12.85000</td>\n",
       "      <td>0.00000</td>\n",
       "      <td>0.00000</td>\n",
       "      <td>0.00000</td>\n",
       "      <td>0.00000</td>\n",
       "      <td>100</td>\n",
       "      <td>804</td>\n",
       "      <td>Clouds</td>\n",
       "      <td>overcast clouds</td>\n",
       "      <td>High Visibility</td>\n",
       "      <td>No Rain</td>\n",
       "      <td>No Rain</td>\n",
       "      <td>No Snow</td>\n",
       "      <td>No Snow</td>\n",
       "      <td>Moderate Wind</td>\n",
       "    </tr>\n",
       "  </tbody>\n",
       "</table>\n",
       "</div>"
      ],
      "text/plain": [
       "                       temp  visibility  feels_like  temp_min  temp_max  \\\n",
       "datetime                                                                  \n",
       "2012-12-31 19:00:00 3.06000 10000.00000    -2.60000   2.71000   3.25000   \n",
       "2012-12-31 20:00:00 3.07000 10000.00000    -1.84000   3.01000   3.93000   \n",
       "2012-12-31 21:00:00 3.07000 10000.00000    -1.84000   3.01000   3.93000   \n",
       "2012-12-31 22:00:00 3.38000 10000.00000    -1.83000   3.15000   4.35000   \n",
       "2012-12-31 23:00:00 3.38000 10000.00000    -2.01000   3.15000   4.35000   \n",
       "\n",
       "                     wind_speed  wind_gust  rain_1h  rain_3h  snow_1h  \\\n",
       "datetime                                                                \n",
       "2012-12-31 19:00:00     8.74000   12.85000  0.00000  0.00000  0.00000   \n",
       "2012-12-31 20:00:00     6.68000   11.82000  0.00000  0.00000  0.00000   \n",
       "2012-12-31 21:00:00     6.68000    9.77000  0.00000  0.00000  0.00000   \n",
       "2012-12-31 22:00:00     7.71000   12.85000  0.00000  0.00000  0.00000   \n",
       "2012-12-31 23:00:00     8.22000   12.85000  0.00000  0.00000  0.00000   \n",
       "\n",
       "                     snow_3h  clouds_all  weather_id weather_main  \\\n",
       "datetime                                                            \n",
       "2012-12-31 19:00:00  0.00000         100         804       Clouds   \n",
       "2012-12-31 20:00:00  0.00000         100         804       Clouds   \n",
       "2012-12-31 21:00:00  0.00000         100         804       Clouds   \n",
       "2012-12-31 22:00:00  0.00000         100         804       Clouds   \n",
       "2012-12-31 23:00:00  0.00000         100         804       Clouds   \n",
       "\n",
       "                    weather_description visibility_category rain_1h_category  \\\n",
       "datetime                                                                       \n",
       "2012-12-31 19:00:00     overcast clouds     High Visibility          No Rain   \n",
       "2012-12-31 20:00:00     overcast clouds     High Visibility          No Rain   \n",
       "2012-12-31 21:00:00     overcast clouds     High Visibility          No Rain   \n",
       "2012-12-31 22:00:00     overcast clouds     High Visibility          No Rain   \n",
       "2012-12-31 23:00:00     overcast clouds     High Visibility          No Rain   \n",
       "\n",
       "                    rain_3h_category snow_1h_category snow_3h_category  \\\n",
       "datetime                                                                 \n",
       "2012-12-31 19:00:00          No Rain          No Snow          No Snow   \n",
       "2012-12-31 20:00:00          No Rain          No Snow          No Snow   \n",
       "2012-12-31 21:00:00          No Rain          No Snow          No Snow   \n",
       "2012-12-31 22:00:00          No Rain          No Snow          No Snow   \n",
       "2012-12-31 23:00:00          No Rain          No Snow          No Snow   \n",
       "\n",
       "                    wind_intensity  \n",
       "datetime                            \n",
       "2012-12-31 19:00:00  Moderate Wind  \n",
       "2012-12-31 20:00:00  Moderate Wind  \n",
       "2012-12-31 21:00:00  Moderate Wind  \n",
       "2012-12-31 22:00:00  Moderate Wind  \n",
       "2012-12-31 23:00:00  Moderate Wind  "
      ]
     },
     "execution_count": 4,
     "metadata": {},
     "output_type": "execute_result"
    }
   ],
   "source": [
    "weather_df = pd.read_csv(\"./data/weather_data.csv\")\n",
    "weather_df[\"datetime\"] = pd.to_datetime(weather_df[\"datetime\"])\n",
    "weather_df = weather_df.set_index(\"datetime\")\n",
    "weather_df.head()"
   ]
  },
  {
   "cell_type": "markdown",
   "metadata": {},
   "source": [
    "## Step 1: Create Spatial Grid for Locations\n",
    "\n",
    "We'll create a grid-based approach to define \"locations\" for forecasting. This allows us to:\n",
    "- Aggregate accidents within geographic cells\n",
    "- Create consistent time series for each location\n",
    "- Scale to different resolution levels"
   ]
  },
  {
   "cell_type": "markdown",
   "metadata": {},
   "source": [
    "### 1.1 Visualizing Coordinates\n",
    "\n",
    "By cleaning our data, we guarantee that all points have coordinate locations\n",
    "\n",
    "We then plot the coordinates to ensure that we don't have any outlier locations, i.e., points that aren't inherently in NYC.\n",
    "\n",
    "It's also nice to look at how it shapes out the city and its streets :)"
   ]
  },
  {
   "cell_type": "code",
   "execution_count": null,
   "metadata": {},
   "outputs": [
    {
     "data": {
      "image/png": "[encoded data removed]",
      "text/plain": [
       "<Figure size 1200x800 with 1 Axes>"
      ]
     },
     "metadata": {},
     "output_type": "display_data"
    },
    {
     "name": "stdout",
     "output_type": "stream",
     "text": [
      "Longitude range: -74.254960 to -73.700550\n",
      "Latitude range: 40.498947 to 40.912884\n"
     ]
    }
   ],
   "source": [
    "# First, let's examine the spatial distribution\n",
    "plt.figure(figsize=(12, 8))\n",
    "plt.scatter(df['longitude'], df['latitude'], alpha=0.1, s=0.5)\n",
    "plt.title('NYC Accident Locations')\n",
    "plt.xlabel('Longitude')\n",
    "plt.ylabel('Latitude')\n",
    "plt.show()\n",
    "\n",
    "# Check coordinate ranges\n",
    "print(f\"Longitude range: {df['longitude'].min():.6f} to {df['longitude'].max():.6f}\")\n",
    "print(f\"Latitude range: {df['latitude'].min():.6f} to {df['latitude'].max():.6f}\")"
   ]
  },
  {
   "cell_type": "markdown",
   "metadata": {},
   "source": [
    "We can see that there are clear"
   ]
  },
  {
   "cell_type": "markdown",
   "metadata": {},
   "source": [
    "### 1.2 Spatial Grid\n",
    "\n",
    "We group the locations into square grids of `0.05 degrees` x `0.05 degrees`.\n",
    "\n",
    "Of course, smaller grid sizes would be preferable, especially in a densely populated area like NYC. However, given the large amount of data, any increased granularity will blow up the memory and runtime (we will eventually have ***100,000 datapoints per grid location***, which we will explain later)"
   ]
  },
  {
   "cell_type": "code",
   "execution_count": null,
   "metadata": {},
   "outputs": [
    {
     "name": "stdout",
     "output_type": "stream",
     "text": [
      "Number of unique grid locations: 71\n",
      "Accidents with valid coordinates: 1897041\n",
      "\n",
      "Top 10 locations by accident count:\n",
      "location_id\n",
      "40.75_-74.0     146648\n",
      "40.7_-74.0      126031\n",
      "40.7_-73.95     105810\n",
      "40.85_-73.9     102696\n",
      "40.8_-73.95      95115\n",
      "40.65_-73.95     93692\n",
      "40.75_-73.95     83638\n",
      "40.65_-73.9      79139\n",
      "40.75_-73.9      75259\n",
      "40.7_-73.9       69928\n",
      "Name: count, dtype: int64\n"
     ]
    }
   ],
   "source": [
    "def create_spatial_grid(df, bin_size: float = 0.01):\n",
    "    \"\"\"\n",
    "    Create spatial grid cells for aggregating accidents.\n",
    "    grid_size: degrees (approximately 1km = 0.01 degrees)\n",
    "    \"\"\"\n",
    "    # Remove rows with missing coordinates\n",
    "    df_clean = df.dropna(subset=['latitude', 'longitude']).copy()\n",
    "    \n",
    "    # Create grid coordinates\n",
    "    df_clean['grid_lat'] = ((df_clean['latitude'] / bin_size).round() * bin_size).round(3)\n",
    "    df_clean['grid_lon'] = ((df_clean['longitude'] / bin_size).round() * bin_size).round(3)\n",
    "    \n",
    "    # Create location identifier\n",
    "    df_clean['location_id'] = df_clean['grid_lat'].astype(str) + '_' + df_clean['grid_lon'].astype(str)\n",
    "    \n",
    "    return df_clean\n",
    "\n",
    "# Create spatial grid (0.01 degrees ≈ 1km)\n",
    "df_spatial = create_spatial_grid(df, bin_size=0.05)\n",
    "\n",
    "print(f\"Number of unique grid locations: {df_spatial['location_id'].nunique()}\")\n",
    "print(f\"Accidents with valid coordinates: {len(df_spatial)}\")\n",
    "\n",
    "# Show location distribution\n",
    "location_counts = df_spatial['location_id'].value_counts()\n",
    "print(f\"\\nTop 10 locations by accident count:\")\n",
    "print(location_counts.head(10))"
   ]
  },
  {
   "cell_type": "markdown",
   "metadata": {},
   "source": [
    "## Step 2: Exploratory Data Analysis\n",
    "\n",
    "Let's explore which factors may be of interest to us.\n",
    "\n",
    "We will:\n",
    "\n",
    "1.  Explore correspondence analysis between count data of categorical weather factors between accidents and the overall weather data."
   ]
  },
  {
   "cell_type": "markdown",
   "metadata": {},
   "source": [
    "### Step 2.1: Correspondence Analysis"
   ]
  },
  {
   "cell_type": "code",
   "execution_count": null,
   "metadata": {},
   "outputs": [
    {
     "data": {
      "text/html": [
       "<div>\n",
       "<style scoped>\n",
       "    .dataframe tbody tr th:only-of-type {\n",
       "        vertical-align: middle;\n",
       "    }\n",
       "\n",
       "    .dataframe tbody tr th {\n",
       "        vertical-align: top;\n",
       "    }\n",
       "\n",
       "    .dataframe thead th {\n",
       "        text-align: right;\n",
       "    }\n",
       "</style>\n",
       "<table border=\"1\" class=\"dataframe\">\n",
       "  <thead>\n",
       "    <tr style=\"text-align: right;\">\n",
       "      <th></th>\n",
       "      <th>value</th>\n",
       "      <th>freq</th>\n",
       "    </tr>\n",
       "  </thead>\n",
       "  <tbody>\n",
       "    <tr>\n",
       "      <th>0</th>\n",
       "      <td>High Visibility</td>\n",
       "      <td>0.94401</td>\n",
       "    </tr>\n",
       "    <tr>\n",
       "      <th>1</th>\n",
       "      <td>Medium Visibility</td>\n",
       "      <td>0.05167</td>\n",
       "    </tr>\n",
       "    <tr>\n",
       "      <th>2</th>\n",
       "      <td>Low Visibility</td>\n",
       "      <td>0.00432</td>\n",
       "    </tr>\n",
       "    <tr>\n",
       "      <th>3</th>\n",
       "      <td>No Rain</td>\n",
       "      <td>0.84199</td>\n",
       "    </tr>\n",
       "    <tr>\n",
       "      <th>4</th>\n",
       "      <td>Light Rain</td>\n",
       "      <td>0.14415</td>\n",
       "    </tr>\n",
       "    <tr>\n",
       "      <th>5</th>\n",
       "      <td>Moderate Rain</td>\n",
       "      <td>0.01296</td>\n",
       "    </tr>\n",
       "    <tr>\n",
       "      <th>6</th>\n",
       "      <td>Heavy Rain</td>\n",
       "      <td>0.00091</td>\n",
       "    </tr>\n",
       "    <tr>\n",
       "      <th>7</th>\n",
       "      <td>No Snow</td>\n",
       "      <td>0.98832</td>\n",
       "    </tr>\n",
       "    <tr>\n",
       "      <th>8</th>\n",
       "      <td>Light Snow</td>\n",
       "      <td>0.00920</td>\n",
       "    </tr>\n",
       "    <tr>\n",
       "      <th>9</th>\n",
       "      <td>Moderate Snow</td>\n",
       "      <td>0.00231</td>\n",
       "    </tr>\n",
       "    <tr>\n",
       "      <th>10</th>\n",
       "      <td>Heavy Snow</td>\n",
       "      <td>0.00017</td>\n",
       "    </tr>\n",
       "    <tr>\n",
       "      <th>11</th>\n",
       "      <td>Light Wind</td>\n",
       "      <td>0.57965</td>\n",
       "    </tr>\n",
       "    <tr>\n",
       "      <th>12</th>\n",
       "      <td>Moderate Wind</td>\n",
       "      <td>0.37340</td>\n",
       "    </tr>\n",
       "    <tr>\n",
       "      <th>13</th>\n",
       "      <td>Strong Wind</td>\n",
       "      <td>0.03096</td>\n",
       "    </tr>\n",
       "    <tr>\n",
       "      <th>14</th>\n",
       "      <td>Calm</td>\n",
       "      <td>0.01505</td>\n",
       "    </tr>\n",
       "    <tr>\n",
       "      <th>15</th>\n",
       "      <td>Very Strong Wind</td>\n",
       "      <td>0.00093</td>\n",
       "    </tr>\n",
       "  </tbody>\n",
       "</table>\n",
       "</div>"
      ],
      "text/plain": [
       "                value    freq\n",
       "0     High Visibility 0.94401\n",
       "1   Medium Visibility 0.05167\n",
       "2      Low Visibility 0.00432\n",
       "3             No Rain 0.84199\n",
       "4          Light Rain 0.14415\n",
       "5       Moderate Rain 0.01296\n",
       "6          Heavy Rain 0.00091\n",
       "7             No Snow 0.98832\n",
       "8          Light Snow 0.00920\n",
       "9       Moderate Snow 0.00231\n",
       "10         Heavy Snow 0.00017\n",
       "11         Light Wind 0.57965\n",
       "12      Moderate Wind 0.37340\n",
       "13        Strong Wind 0.03096\n",
       "14               Calm 0.01505\n",
       "15   Very Strong Wind 0.00093"
      ]
     },
     "execution_count": 6,
     "metadata": {},
     "output_type": "execute_result"
    }
   ],
   "source": [
    "weather_columns = [\"visibility_category\", \"rain_1h_category\", \"snow_1h_category\", \"wind_intensity\"]\n",
    "\n",
    "def get_count_data(pd_df: pd.DataFrame, columns: list[str] = weather_columns, normalize=False) -> pd.DataFrame:\n",
    "    \"\"\"\n",
    "    Retrieves count data of the provided dataframe and columns,\n",
    "    returns the resulting table\n",
    "    \"\"\"\n",
    "    result = pd.DataFrame()\n",
    "    \n",
    "    pd_df_columns = pd_df[columns]\n",
    "    \n",
    "    for col in columns:\n",
    "        # Get unique values for each column\n",
    "        count_values = pd_df_columns[col].value_counts(normalize=normalize)\n",
    "        for value, count in count_values.items():\n",
    "            if value == np.nan or value == \"nan\":\n",
    "                continue\n",
    "            result = pd.concat([result, pd.DataFrame({\n",
    "                'value': [value],\n",
    "                'freq': [count]\n",
    "            })], ignore_index=True)\n",
    "        \n",
    "\n",
    "    return result\n",
    "\n",
    "# Get accident rate data\n",
    "accident_rate_data = get_count_data(df_spatial, weather_columns, normalize=True)\n",
    "\n",
    "# Get weather rate data\n",
    "weather_rate_data = get_count_data(weather_df, weather_columns, normalize=True)\n",
    "\n",
    "weather_rate_data"
   ]
  },
  {
   "cell_type": "code",
   "execution_count": null,
   "metadata": {},
   "outputs": [
    {
     "data": {
      "text/html": [
       "\n",
       "<style>\n",
       "  #altair-viz-d2e0baa96fe44957a286b1faf8527c23.vega-embed {\n",
       "    width: 100%;\n",
       "    display: flex;\n",
       "  }\n",
       "\n",
       "  #altair-viz-d2e0baa96fe44957a286b1faf8527c23.vega-embed details,\n",
       "  #altair-viz-d2e0baa96fe44957a286b1faf8527c23.vega-embed details summary {\n",
       "    position: relative;\n",
       "  }\n",
       "</style>\n",
       "<div id=\"altair-viz-d2e0baa96fe44957a286b1faf8527c23\"></div>\n",
       "<script type=\"text/javascript\">\n",
       "  var VEGA_DEBUG = (typeof VEGA_DEBUG == \"undefined\") ? {} : VEGA_DEBUG;\n",
       "  (function(spec, embedOpt){\n",
       "    let outputDiv = document.currentScript.previousElementSibling;\n",
       "    if (outputDiv.id !== \"altair-viz-d2e0baa96fe44957a286b1faf8527c23\") {\n",
       "      outputDiv = document.getElementById(\"altair-viz-d2e0baa96fe44957a286b1faf8527c23\");\n",
       "    }\n",
       "\n",
       "    const paths = {\n",
       "      \"vega\": \"https://cdn.jsdelivr.net/npm/vega@5?noext\",\n",
       "      \"vega-lib\": \"https://cdn.jsdelivr.net/npm/vega-lib?noext\",\n",
       "      \"vega-lite\": \"https://cdn.jsdelivr.net/npm/vega-lite@5.20.1?noext\",\n",
       "      \"vega-embed\": \"https://cdn.jsdelivr.net/npm/vega-embed@6?noext\",\n",
       "    };\n",
       "\n",
       "    function maybeLoadScript(lib, version) {\n",
       "      var key = `${lib.replace(\"-\", \"\")}_version`;\n",
       "      return (VEGA_DEBUG[key] == version) ?\n",
       "        Promise.resolve(paths[lib]) :\n",
       "        new Promise(function(resolve, reject) {\n",
       "          var s = document.createElement('script');\n",
       "          document.getElementsByTagName(\"head\")[0].appendChild(s);\n",
       "          s.async = true;\n",
       "          s.onload = () => {\n",
       "            VEGA_DEBUG[key] = version;\n",
       "            return resolve(paths[lib]);\n",
       "          };\n",
       "          s.onerror = () => reject(`Error loading script: ${paths[lib]}`);\n",
       "          s.src = paths[lib];\n",
       "        });\n",
       "    }\n",
       "\n",
       "    function showError(err) {\n",
       "      outputDiv.innerHTML = `<div class=\"error\" style=\"color:red;\">${err}</div>`;\n",
       "      throw err;\n",
       "    }\n",
       "\n",
       "    function displayChart(vegaEmbed) {\n",
       "      vegaEmbed(outputDiv, spec, embedOpt)\n",
       "        .catch(err => showError(`Javascript Error: ${err.message}<br>This usually means there's a typo in your chart specification. See the javascript console for the full traceback.`));\n",
       "    }\n",
       "\n",
       "    if(typeof define === \"function\" && define.amd) {\n",
       "      requirejs.config({paths});\n",
       "      let deps = [\"vega-embed\"];\n",
       "      require(deps, displayChart, err => showError(`Error loading script: ${err.message}`));\n",
       "    } else {\n",
       "      maybeLoadScript(\"vega\", \"5\")\n",
       "        .then(() => maybeLoadScript(\"vega-lite\", \"5.20.1\"))\n",
       "        .then(() => maybeLoadScript(\"vega-embed\", \"6\"))\n",
       "        .catch(showError)\n",
       "        .then(() => displayChart(vegaEmbed));\n",
       "    }\n",
       "  })({\"config\": {\"view\": {\"continuousWidth\": 300, \"continuousHeight\": 300}, \"axis\": {\"labelFont\": \"Monospace\", \"labelFontSize\": 16, \"titleAlign\": \"center\", \"titleFont\": \"Monospace\", \"titleFontSize\": 20}, \"text\": {\"font\": \"Monospace\", \"fontSize\": 12}}, \"layer\": [{\"data\": {\"name\": \"data-075962a16cd7eba1f04816ef37b2c05f\"}, \"mark\": {\"type\": \"circle\", \"size\": 50}, \"encoding\": {\"color\": {\"field\": \"variable\", \"type\": \"nominal\"}, \"tooltip\": [{\"field\": \"variable\", \"type\": \"nominal\"}, {\"field\": \"value\", \"type\": \"nominal\"}, {\"field\": \"component 0\", \"type\": \"quantitative\"}, {\"field\": \"component 0\", \"type\": \"quantitative\"}], \"x\": {\"axis\": {\"title\": \"component 0 \\u2014 100.00%\"}, \"field\": \"component 0\", \"scale\": {\"zero\": false}, \"type\": \"quantitative\"}, \"y\": {\"axis\": {\"title\": \"component 0 \\u2014 100.00%\"}, \"field\": \"component 0\", \"scale\": {\"zero\": false}, \"type\": \"quantitative\"}}, \"name\": \"view_1\"}, {\"data\": {\"name\": \"data-075962a16cd7eba1f04816ef37b2c05f\"}, \"mark\": {\"type\": \"text\"}, \"encoding\": {\"text\": {\"field\": \"label\", \"type\": \"nominal\"}, \"x\": {\"axis\": {\"title\": \"component 0 \\u2014 100.00%\"}, \"field\": \"component 0\", \"scale\": {\"zero\": false}, \"type\": \"quantitative\"}, \"y\": {\"axis\": {\"title\": \"component 0 \\u2014 100.00%\"}, \"field\": \"component 0\", \"scale\": {\"zero\": false}, \"type\": \"quantitative\"}}}, {\"data\": {\"name\": \"data-1ee5f8d07c58685d1b2ff1504ae10ef2\"}, \"mark\": {\"type\": \"circle\", \"size\": 50}, \"encoding\": {\"color\": {\"field\": \"variable\", \"type\": \"nominal\"}, \"tooltip\": [{\"field\": \"variable\", \"type\": \"nominal\"}, {\"field\": \"value\", \"type\": \"nominal\"}, {\"field\": \"component 0\", \"type\": \"quantitative\"}, {\"field\": \"component 0\", \"type\": \"quantitative\"}], \"x\": {\"axis\": {\"title\": \"component 0 \\u2014 100.00%\"}, \"field\": \"component 0\", \"scale\": {\"zero\": false}, \"type\": \"quantitative\"}, \"y\": {\"axis\": {\"title\": \"component 0 \\u2014 100.00%\"}, \"field\": \"component 0\", \"scale\": {\"zero\": false}, \"type\": \"quantitative\"}}}, {\"data\": {\"name\": \"data-1ee5f8d07c58685d1b2ff1504ae10ef2\"}, \"mark\": {\"type\": \"text\"}, \"encoding\": {\"text\": {\"field\": \"label\", \"type\": \"nominal\"}, \"x\": {\"axis\": {\"title\": \"component 0 \\u2014 100.00%\"}, \"field\": \"component 0\", \"scale\": {\"zero\": false}, \"type\": \"quantitative\"}, \"y\": {\"axis\": {\"title\": \"component 0 \\u2014 100.00%\"}, \"field\": \"component 0\", \"scale\": {\"zero\": false}, \"type\": \"quantitative\"}}}], \"height\": 600, \"params\": [{\"name\": \"param_1\", \"select\": {\"type\": \"interval\", \"encodings\": [\"x\", \"y\"]}, \"bind\": \"scales\", \"views\": [\"view_1\"]}], \"title\": {\"text\": \"Correspondence Analysis of Weather Conditions and Accident Incidents\", \"font\": \"Monospace\", \"fontSize\": 20}, \"width\": 800, \"$schema\": \"https://vega.github.io/schema/vega-lite/v5.20.1.json\", \"datasets\": {\"data-075962a16cd7eba1f04816ef37b2c05f\": [{\"component 0\": -0.0028193644172727073, \"variable\": \"value\", \"value\": \"High Visibility\", \"label\": \"High Visibility\"}, {\"component 0\": 0.031024532451557008, \"variable\": \"value\", \"value\": \"Medium Visibility\", \"label\": \"Medium Visibility\"}, {\"component 0\": 0.18782398193739924, \"variable\": \"value\", \"value\": \"Low Visibility\", \"label\": \"Low Visibility\"}, {\"component 0\": -0.008837114891545539, \"variable\": \"value\", \"value\": \"No Rain\", \"label\": \"No Rain\"}, {\"component 0\": 0.040937455948930945, \"variable\": \"value\", \"value\": \"Light Rain\", \"label\": \"Light Rain\"}, {\"component 0\": 0.0859636051452346, \"variable\": \"value\", \"value\": \"Moderate Rain\", \"label\": \"Moderate Rain\"}, {\"component 0\": 0.004265922333474337, \"variable\": \"value\", \"value\": \"Heavy Rain\", \"label\": \"Heavy Rain\"}, {\"component 0\": -0.0014409998521141554, \"variable\": \"value\", \"value\": \"No Snow\", \"label\": \"No Snow\"}, {\"component 0\": 0.06904381705518337, \"variable\": \"value\", \"value\": \"Light Snow\", \"label\": \"Light Snow\"}, {\"component 0\": 0.2309975289751215, \"variable\": \"value\", \"value\": \"Moderate Snow\", \"label\": \"Moderate Snow\"}, {\"component 0\": 0.20968565505875897, \"variable\": \"value\", \"value\": \"Heavy Snow\", \"label\": \"Heavy Snow\"}, {\"component 0\": -0.02778340755992137, \"variable\": \"value\", \"value\": \"Light Wind\", \"label\": \"Light Wind\"}, {\"component 0\": 0.038450225286515816, \"variable\": \"value\", \"value\": \"Moderate Wind\", \"label\": \"Moderate Wind\"}, {\"component 0\": 0.047524537755320784, \"variable\": \"value\", \"value\": \"Strong Wind\", \"label\": \"Strong Wind\"}, {\"component 0\": -0.0678716687189494, \"variable\": \"value\", \"value\": \"Calm\", \"label\": \"Calm\"}, {\"component 0\": 0.13845160399111373, \"variable\": \"value\", \"value\": \"Very Strong Wind\", \"label\": \"Very Strong Wind\"}], \"data-1ee5f8d07c58685d1b2ff1504ae10ef2\": [{\"component 0\": 0.022672188344935118, \"variable\": \"column\", \"value\": \"incidents\", \"label\": \"incidents\"}, {\"component 0\": -0.022672188344945082, \"variable\": \"column\", \"value\": \"weather\", \"label\": \"weather\"}]}}, {\"mode\": \"vega-lite\"});\n",
       "</script>"
      ],
      "text/plain": [
       "alt.LayerChart(...)"
      ]
     },
     "execution_count": 7,
     "metadata": {},
     "output_type": "execute_result"
    },
    {
     "data": {
      "text/plain": [
       "<Figure size 1200x1200 with 0 Axes>"
      ]
     },
     "metadata": {},
     "output_type": "display_data"
    }
   ],
   "source": [
    "accident_pivot = accident_rate_data.set_index('value')['freq']\n",
    "weather_pivot = weather_rate_data.set_index('value')['freq']\n",
    "contingency = pd.DataFrame({\n",
    "    'incidents': accident_pivot,\n",
    "    'weather': weather_pivot\n",
    "}).fillna(0)\n",
    "\n",
    "import altair as alt\n",
    "\n",
    "fig = plt.figure(figsize=(12, 12))\n",
    "ca = prince.CA(n_components=1)\n",
    "ca = ca.fit(contingency)\n",
    "chart = ca.plot(contingency, show_row_labels=True, show_column_labels=True, x_component=0, y_component=0)\n",
    "chart = chart.configure_text(\n",
    "    fontSize=12,     # Override text size specifically\n",
    "    font='Monospace'     # Change font family\n",
    ").properties(\n",
    "    width=800,\n",
    "    height=600\n",
    ").configure_axis(\n",
    "    labelFontSize=16,\n",
    "    labelFont='Monospace',\n",
    "    titleFont='Monospace',\n",
    "    titleFontSize=20,\n",
    "    titleAlign='center'\n",
    ").properties(\n",
    "    title = alt.Title(text=\"Correspondence Analysis of Weather Conditions and Accident Incidents\", fontSize=20, font=\"Monospace\"),\n",
    ")\n",
    "chart"
   ]
  },
  {
   "cell_type": "markdown",
   "metadata": {},
   "source": [
    "We can visualize the association between typical weather conditions and the weather conditions at the times of vehicle incidents (seen by the ***weather*** point in the bottom-left corner and the ***incidents*** point above).\n",
    "\n",
    "Points farther up (e.g., ***Low Visibility***, ***Very Strong Wind***, ***Heavy Snow***, ***Moderate Snow***) represent higher risks of incidents.\n",
    "\n",
    "Let's break down the various weather categories:\n",
    "\n",
    "&emsp; `Snow`: There is a clear gradient:\n",
    "\n",
    "&emsp;&emsp;&emsp;- ***No Snow***: 0\n",
    "\n",
    "&emsp;&emsp;&emsp;- ***Light Snow***: 0.07\n",
    "\n",
    "&emsp;&emsp;&emsp;- ***Moderate Snow***: 0.24\n",
    "\n",
    "&emsp;&emsp;&emsp;- ***Heavy Snow***: 0.22\n",
    "\n",
    "&emsp; `Visibility`: There is a clear gradient:\n",
    "\n",
    "&emsp;&emsp;&emsp;- ***High Visibility***: -0.02, near typical weather conditions\n",
    "\n",
    "&emsp;&emsp;&emsp;- ***Medium Visibility***: 0.01, near 'incident'\n",
    "\n",
    "&emsp;&emsp;&emsp;- ***Low Visibility***: 0.17\n",
    "\n",
    "&emsp; `Rain` There is a curious pattern with rain, where:\n",
    "\n",
    "&emsp;&emsp;&emsp;- ***No Rain***: ~ 0\n",
    "\n",
    "&emsp;&emsp;&emsp;- ***Light Rain***: 0.04\n",
    "\n",
    "&emsp;&emsp;&emsp;- ***Moderate Rain*** ~ 0.09\n",
    "\n",
    "&emsp;&emsp;&emsp;- ***Heavy Rain*** ~ 0.01\n",
    "\n",
    "&emsp;&emsp;&emsp;We see an odd occurrence, where ***Heavy Rain*** isn't associated with higher incident risks.\n",
    "\n",
    "&emsp; `Wind`: Wind displays a clear gradient from ***Very Strong Wind***\n",
    "\n",
    "&emsp;&emsp;&emsp;- ***Light Wind***: -0.02\n",
    "\n",
    "&emsp;&emsp;&emsp;- ***Moderate Wind***: 0.05\n",
    "\n",
    "&emsp;&emsp;&emsp;- ***Strong Wind***: 0.05\n",
    "\n",
    "&emsp;&emsp;&emsp;- ***Very Strong Wind***: 0.14"
   ]
  },
  {
   "cell_type": "markdown",
   "metadata": {},
   "source": [
    "## Step 3: Time Series Aggregation\n",
    "\n",
    "We would like our data in an aggregated format for each grid location.\n",
    "\n",
    "Our current DataFrame only consists of entries of accidents. We would like to have full hourly coverage, and sum the number of accidents within each hour.\n",
    "\n",
    "By doing so, we will have ***about 100,000 rows per location*** (about 102,479 hours from 2013 to Sept 9, 2025, the time I'm writing this)."
   ]
  },
  {
   "cell_type": "code",
   "execution_count": null,
   "metadata": {},
   "outputs": [
    {
     "name": "stdout",
     "output_type": "stream",
     "text": [
      "Locations with >= 100 accidents: 56\n"
     ]
    },
    {
     "name": "stderr",
     "output_type": "stream",
     "text": [
      "Aggregating locations...: 100%|██████████| 56/56 [00:09<00:00,  5.77it/s]\n"
     ]
    },
    {
     "name": "stdout",
     "output_type": "stream",
     "text": [
      "Created time series for 56 locations\n",
      "Sample location time series shape: (110237, 27)\n"
     ]
    },
    {
     "data": {
      "text/html": [
       "<div>\n",
       "<style scoped>\n",
       "    .dataframe tbody tr th:only-of-type {\n",
       "        vertical-align: middle;\n",
       "    }\n",
       "\n",
       "    .dataframe tbody tr th {\n",
       "        vertical-align: top;\n",
       "    }\n",
       "\n",
       "    .dataframe thead th {\n",
       "        text-align: right;\n",
       "    }\n",
       "</style>\n",
       "<table border=\"1\" class=\"dataframe\">\n",
       "  <thead>\n",
       "    <tr style=\"text-align: right;\">\n",
       "      <th></th>\n",
       "      <th>accident_count</th>\n",
       "      <th>number_of_persons_injured</th>\n",
       "      <th>number_of_persons_killed</th>\n",
       "      <th>grid_lat</th>\n",
       "      <th>grid_lon</th>\n",
       "      <th>temp</th>\n",
       "      <th>visibility</th>\n",
       "      <th>feels_like</th>\n",
       "      <th>temp_min</th>\n",
       "      <th>temp_max</th>\n",
       "      <th>wind_speed</th>\n",
       "      <th>wind_gust</th>\n",
       "      <th>rain_1h</th>\n",
       "      <th>rain_3h</th>\n",
       "      <th>snow_1h</th>\n",
       "      <th>snow_3h</th>\n",
       "      <th>clouds_all</th>\n",
       "      <th>weather_id</th>\n",
       "      <th>weather_main</th>\n",
       "      <th>weather_description</th>\n",
       "      <th>visibility_category</th>\n",
       "      <th>rain_1h_category</th>\n",
       "      <th>rain_3h_category</th>\n",
       "      <th>snow_1h_category</th>\n",
       "      <th>snow_3h_category</th>\n",
       "      <th>wind_intensity</th>\n",
       "      <th>location_id</th>\n",
       "    </tr>\n",
       "    <tr>\n",
       "      <th>datetime</th>\n",
       "      <th></th>\n",
       "      <th></th>\n",
       "      <th></th>\n",
       "      <th></th>\n",
       "      <th></th>\n",
       "      <th></th>\n",
       "      <th></th>\n",
       "      <th></th>\n",
       "      <th></th>\n",
       "      <th></th>\n",
       "      <th></th>\n",
       "      <th></th>\n",
       "      <th></th>\n",
       "      <th></th>\n",
       "      <th></th>\n",
       "      <th></th>\n",
       "      <th></th>\n",
       "      <th></th>\n",
       "      <th></th>\n",
       "      <th></th>\n",
       "      <th></th>\n",
       "      <th></th>\n",
       "      <th></th>\n",
       "      <th></th>\n",
       "      <th></th>\n",
       "      <th></th>\n",
       "      <th></th>\n",
       "    </tr>\n",
       "  </thead>\n",
       "  <tbody>\n",
       "    <tr>\n",
       "      <th>2012-12-31 19:00:00</th>\n",
       "      <td>3</td>\n",
       "      <td>0</td>\n",
       "      <td>0</td>\n",
       "      <td>40.75000</td>\n",
       "      <td>-74.00000</td>\n",
       "      <td>3.06000</td>\n",
       "      <td>10000.00000</td>\n",
       "      <td>-2.60000</td>\n",
       "      <td>2.71000</td>\n",
       "      <td>3.25000</td>\n",
       "      <td>8.74000</td>\n",
       "      <td>12.85000</td>\n",
       "      <td>0.00000</td>\n",
       "      <td>0.00000</td>\n",
       "      <td>0.00000</td>\n",
       "      <td>0.00000</td>\n",
       "      <td>100.00000</td>\n",
       "      <td>804.00000</td>\n",
       "      <td>Clouds</td>\n",
       "      <td>overcast clouds</td>\n",
       "      <td>High Visibility</td>\n",
       "      <td>No Rain</td>\n",
       "      <td>No Rain</td>\n",
       "      <td>No Snow</td>\n",
       "      <td>No Snow</td>\n",
       "      <td>Moderate Wind</td>\n",
       "      <td>40.75_-74.0</td>\n",
       "    </tr>\n",
       "    <tr>\n",
       "      <th>2012-12-31 20:00:00</th>\n",
       "      <td>1</td>\n",
       "      <td>0</td>\n",
       "      <td>0</td>\n",
       "      <td>40.75000</td>\n",
       "      <td>-74.00000</td>\n",
       "      <td>3.07000</td>\n",
       "      <td>10000.00000</td>\n",
       "      <td>-1.84000</td>\n",
       "      <td>3.01000</td>\n",
       "      <td>3.93000</td>\n",
       "      <td>6.68000</td>\n",
       "      <td>11.82000</td>\n",
       "      <td>0.00000</td>\n",
       "      <td>0.00000</td>\n",
       "      <td>0.00000</td>\n",
       "      <td>0.00000</td>\n",
       "      <td>100.00000</td>\n",
       "      <td>804.00000</td>\n",
       "      <td>Clouds</td>\n",
       "      <td>overcast clouds</td>\n",
       "      <td>High Visibility</td>\n",
       "      <td>No Rain</td>\n",
       "      <td>No Rain</td>\n",
       "      <td>No Snow</td>\n",
       "      <td>No Snow</td>\n",
       "      <td>Moderate Wind</td>\n",
       "      <td>40.75_-74.0</td>\n",
       "    </tr>\n",
       "    <tr>\n",
       "      <th>2012-12-31 21:00:00</th>\n",
       "      <td>3</td>\n",
       "      <td>0</td>\n",
       "      <td>0</td>\n",
       "      <td>40.75000</td>\n",
       "      <td>-74.00000</td>\n",
       "      <td>3.07000</td>\n",
       "      <td>10000.00000</td>\n",
       "      <td>-1.84000</td>\n",
       "      <td>3.01000</td>\n",
       "      <td>3.93000</td>\n",
       "      <td>6.68000</td>\n",
       "      <td>9.77000</td>\n",
       "      <td>0.00000</td>\n",
       "      <td>0.00000</td>\n",
       "      <td>0.00000</td>\n",
       "      <td>0.00000</td>\n",
       "      <td>100.00000</td>\n",
       "      <td>804.00000</td>\n",
       "      <td>Clouds</td>\n",
       "      <td>overcast clouds</td>\n",
       "      <td>High Visibility</td>\n",
       "      <td>No Rain</td>\n",
       "      <td>No Rain</td>\n",
       "      <td>No Snow</td>\n",
       "      <td>No Snow</td>\n",
       "      <td>Moderate Wind</td>\n",
       "      <td>40.75_-74.0</td>\n",
       "    </tr>\n",
       "    <tr>\n",
       "      <th>2012-12-31 22:00:00</th>\n",
       "      <td>2</td>\n",
       "      <td>0</td>\n",
       "      <td>0</td>\n",
       "      <td>40.75000</td>\n",
       "      <td>-74.00000</td>\n",
       "      <td>3.38000</td>\n",
       "      <td>10000.00000</td>\n",
       "      <td>-1.83000</td>\n",
       "      <td>3.15000</td>\n",
       "      <td>4.35000</td>\n",
       "      <td>7.71000</td>\n",
       "      <td>12.85000</td>\n",
       "      <td>0.00000</td>\n",
       "      <td>0.00000</td>\n",
       "      <td>0.00000</td>\n",
       "      <td>0.00000</td>\n",
       "      <td>100.00000</td>\n",
       "      <td>804.00000</td>\n",
       "      <td>Clouds</td>\n",
       "      <td>overcast clouds</td>\n",
       "      <td>High Visibility</td>\n",
       "      <td>No Rain</td>\n",
       "      <td>No Rain</td>\n",
       "      <td>No Snow</td>\n",
       "      <td>No Snow</td>\n",
       "      <td>Moderate Wind</td>\n",
       "      <td>40.75_-74.0</td>\n",
       "    </tr>\n",
       "    <tr>\n",
       "      <th>2012-12-31 23:00:00</th>\n",
       "      <td>0</td>\n",
       "      <td>0</td>\n",
       "      <td>0</td>\n",
       "      <td>40.75000</td>\n",
       "      <td>-74.00000</td>\n",
       "      <td>3.38000</td>\n",
       "      <td>10000.00000</td>\n",
       "      <td>-2.01000</td>\n",
       "      <td>3.15000</td>\n",
       "      <td>4.35000</td>\n",
       "      <td>8.22000</td>\n",
       "      <td>12.85000</td>\n",
       "      <td>0.00000</td>\n",
       "      <td>0.00000</td>\n",
       "      <td>0.00000</td>\n",
       "      <td>0.00000</td>\n",
       "      <td>100.00000</td>\n",
       "      <td>804.00000</td>\n",
       "      <td>Clouds</td>\n",
       "      <td>overcast clouds</td>\n",
       "      <td>High Visibility</td>\n",
       "      <td>No Rain</td>\n",
       "      <td>No Rain</td>\n",
       "      <td>No Snow</td>\n",
       "      <td>No Snow</td>\n",
       "      <td>Moderate Wind</td>\n",
       "      <td>40.75_-74.0</td>\n",
       "    </tr>\n",
       "  </tbody>\n",
       "</table>\n",
       "</div>"
      ],
      "text/plain": [
       "                     accident_count  number_of_persons_injured  \\\n",
       "datetime                                                         \n",
       "2012-12-31 19:00:00               3                          0   \n",
       "2012-12-31 20:00:00               1                          0   \n",
       "2012-12-31 21:00:00               3                          0   \n",
       "2012-12-31 22:00:00               2                          0   \n",
       "2012-12-31 23:00:00               0                          0   \n",
       "\n",
       "                     number_of_persons_killed  grid_lat  grid_lon    temp  \\\n",
       "datetime                                                                    \n",
       "2012-12-31 19:00:00                         0  40.75000 -74.00000 3.06000   \n",
       "2012-12-31 20:00:00                         0  40.75000 -74.00000 3.07000   \n",
       "2012-12-31 21:00:00                         0  40.75000 -74.00000 3.07000   \n",
       "2012-12-31 22:00:00                         0  40.75000 -74.00000 3.38000   \n",
       "2012-12-31 23:00:00                         0  40.75000 -74.00000 3.38000   \n",
       "\n",
       "                     visibility  feels_like  temp_min  temp_max  wind_speed  \\\n",
       "datetime                                                                      \n",
       "2012-12-31 19:00:00 10000.00000    -2.60000   2.71000   3.25000     8.74000   \n",
       "2012-12-31 20:00:00 10000.00000    -1.84000   3.01000   3.93000     6.68000   \n",
       "2012-12-31 21:00:00 10000.00000    -1.84000   3.01000   3.93000     6.68000   \n",
       "2012-12-31 22:00:00 10000.00000    -1.83000   3.15000   4.35000     7.71000   \n",
       "2012-12-31 23:00:00 10000.00000    -2.01000   3.15000   4.35000     8.22000   \n",
       "\n",
       "                     wind_gust  rain_1h  rain_3h  snow_1h  snow_3h  \\\n",
       "datetime                                                             \n",
       "2012-12-31 19:00:00   12.85000  0.00000  0.00000  0.00000  0.00000   \n",
       "2012-12-31 20:00:00   11.82000  0.00000  0.00000  0.00000  0.00000   \n",
       "2012-12-31 21:00:00    9.77000  0.00000  0.00000  0.00000  0.00000   \n",
       "2012-12-31 22:00:00   12.85000  0.00000  0.00000  0.00000  0.00000   \n",
       "2012-12-31 23:00:00   12.85000  0.00000  0.00000  0.00000  0.00000   \n",
       "\n",
       "                     clouds_all  weather_id weather_main weather_description  \\\n",
       "datetime                                                                       \n",
       "2012-12-31 19:00:00   100.00000   804.00000       Clouds     overcast clouds   \n",
       "2012-12-31 20:00:00   100.00000   804.00000       Clouds     overcast clouds   \n",
       "2012-12-31 21:00:00   100.00000   804.00000       Clouds     overcast clouds   \n",
       "2012-12-31 22:00:00   100.00000   804.00000       Clouds     overcast clouds   \n",
       "2012-12-31 23:00:00   100.00000   804.00000       Clouds     overcast clouds   \n",
       "\n",
       "                    visibility_category rain_1h_category rain_3h_category  \\\n",
       "datetime                                                                    \n",
       "2012-12-31 19:00:00     High Visibility          No Rain          No Rain   \n",
       "2012-12-31 20:00:00     High Visibility          No Rain          No Rain   \n",
       "2012-12-31 21:00:00     High Visibility          No Rain          No Rain   \n",
       "2012-12-31 22:00:00     High Visibility          No Rain          No Rain   \n",
       "2012-12-31 23:00:00     High Visibility          No Rain          No Rain   \n",
       "\n",
       "                    snow_1h_category snow_3h_category wind_intensity  \\\n",
       "datetime                                                               \n",
       "2012-12-31 19:00:00          No Snow          No Snow  Moderate Wind   \n",
       "2012-12-31 20:00:00          No Snow          No Snow  Moderate Wind   \n",
       "2012-12-31 21:00:00          No Snow          No Snow  Moderate Wind   \n",
       "2012-12-31 22:00:00          No Snow          No Snow  Moderate Wind   \n",
       "2012-12-31 23:00:00          No Snow          No Snow  Moderate Wind   \n",
       "\n",
       "                     location_id  \n",
       "datetime                          \n",
       "2012-12-31 19:00:00  40.75_-74.0  \n",
       "2012-12-31 20:00:00  40.75_-74.0  \n",
       "2012-12-31 21:00:00  40.75_-74.0  \n",
       "2012-12-31 22:00:00  40.75_-74.0  \n",
       "2012-12-31 23:00:00  40.75_-74.0  "
      ]
     },
     "execution_count": 8,
     "metadata": {},
     "output_type": "execute_result"
    }
   ],
   "source": [
    "def create_time_series_data(df, weather_df, time_freq='H', min_accidents=50):\n",
    "    \"\"\"\n",
    "    Create time series dataset from accident data.\n",
    "    \n",
    "    Args:\n",
    "        df (pd.DataFrame): accidents dataframe\n",
    "        weather_df (pd.DataFrame): weather dataframe (for filling empty time values)\n",
    "        time_freq: pandas frequency string ('H' for hourly, 'D' for daily)\n",
    "        min_accidents: minimum total accidents per location to include\n",
    "    \"\"\"\n",
    "    # Filter locations with sufficient data\n",
    "    location_counts = df['location_id'].value_counts()\n",
    "    valid_locations = location_counts[location_counts >= min_accidents].index # filter out the bins below min_accidents\n",
    "    df_filtered = df[df['location_id'].isin(valid_locations)].copy() # get rows where the location is within a filtered bin\n",
    "    \n",
    "    print(f\"Locations with >= {min_accidents} accidents: {len(valid_locations)}\")\n",
    "    \n",
    "    # Create time series by location\n",
    "    time_series_data = []\n",
    "    \n",
    "    for location in tqdm(valid_locations, desc=\"Aggregating locations...\"):\n",
    "        location_data = df_filtered[df_filtered['location_id'] == location].copy() # get the location's data\n",
    "        \n",
    "        # Aggregate by time period\n",
    "        ts = location_data.set_index('datetime').resample(time_freq).agg({\n",
    "            'collision_id': 'count',  # accident count\n",
    "            'number_of_persons_injured': 'sum',\n",
    "            'number_of_persons_killed': 'sum',\n",
    "            'grid_lat': 'first',\n",
    "            'grid_lon': 'first'\n",
    "        }).rename(columns={'collision_id': 'accident_count'})\n",
    "        \n",
    "        # Fill the missing time periods with the existing weather data\n",
    "        # Left join on the times\n",
    "        ts = ts.merge(weather_df, left_index=True, right_index=True, how=\"left\")\n",
    "        ts['grid_lon'] = ts['grid_lon'].fillna(method=\"ffill\")\n",
    "        ts['grid_lat'] = ts['grid_lat'].fillna(method=\"ffill\")\n",
    "        ts['location_id'] = location\n",
    "        time_series_data.append(ts)\n",
    "    \n",
    "    return time_series_data, valid_locations\n",
    "\n",
    "# Create hourly time series data\n",
    "ts_data, valid_locations = create_time_series_data(df_spatial, weather_df, time_freq='H', min_accidents=100)\n",
    "\n",
    "print(f\"Created time series for {len(ts_data)} locations\")\n",
    "print(f\"Sample location time series shape: {ts_data[0].shape}\")\n",
    "ts_data[0].head()"
   ]
  },
  {
   "cell_type": "markdown",
   "metadata": {},
   "source": [
    "We would like to merge the DataFrame into a single one. This makes it easier for future processing.\n",
    "\n",
    "We use the grid location as an identifier."
   ]
  },
  {
   "cell_type": "code",
   "execution_count": null,
   "metadata": {},
   "outputs": [
    {
     "name": "stderr",
     "output_type": "stream",
     "text": [
      "Merging to single DataFrame...: 100%|██████████| 56/56 [00:01<00:00, 29.32it/s]\n"
     ]
    }
   ],
   "source": [
    "def merge_ts_data(df_list: list[pd.DataFrame], valid_locations: list[str]) -> pd.DataFrame:\n",
    "    \"\"\"Merges the lists into a single DataFrame\"\"\"\n",
    "    all_data = []\n",
    "    \n",
    "    for i, (ts_df, location_id) in tqdm(enumerate(zip(df_list, valid_locations)), desc=\"Merging to single DataFrame...\", total=len(df_list)):\n",
    "        # Work on a copy of the individual DataFrame\n",
    "        df_copy = ts_df.copy()\n",
    "        df_copy[\"bin_id\"] = i\n",
    "        df_copy[\"location_id\"] = location_id\n",
    "        df_copy[\"datetime\"] = df_copy.index\n",
    "        df_copy[\"hour_index\"] = range(len(df_copy))\n",
    "        df_copy[\"x_bin\"] = df_copy[\"grid_lon\"].iloc[0]\n",
    "        df_copy[\"y_bin\"] = df_copy[\"grid_lat\"].iloc[0]\n",
    "        \n",
    "        all_data.append(df_copy)  # Append the modified copy\n",
    "    \n",
    "    merged_df = pd.concat(all_data, ignore_index=True)\n",
    "    return merged_df\n",
    "\n",
    "\n",
    "merged_ts_df = merge_ts_data(ts_data, valid_locations).dropna()"
   ]
  },
  {
   "cell_type": "code",
   "execution_count": null,
   "metadata": {},
   "outputs": [
    {
     "data": {
      "text/html": [
       "<div>\n",
       "<style scoped>\n",
       "    .dataframe tbody tr th:only-of-type {\n",
       "        vertical-align: middle;\n",
       "    }\n",
       "\n",
       "    .dataframe tbody tr th {\n",
       "        vertical-align: top;\n",
       "    }\n",
       "\n",
       "    .dataframe thead th {\n",
       "        text-align: right;\n",
       "    }\n",
       "</style>\n",
       "<table border=\"1\" class=\"dataframe\">\n",
       "  <thead>\n",
       "    <tr style=\"text-align: right;\">\n",
       "      <th></th>\n",
       "      <th>accident_count</th>\n",
       "      <th>number_of_persons_injured</th>\n",
       "      <th>number_of_persons_killed</th>\n",
       "      <th>grid_lat</th>\n",
       "      <th>grid_lon</th>\n",
       "      <th>temp</th>\n",
       "      <th>visibility</th>\n",
       "      <th>feels_like</th>\n",
       "      <th>temp_min</th>\n",
       "      <th>temp_max</th>\n",
       "      <th>wind_speed</th>\n",
       "      <th>wind_gust</th>\n",
       "      <th>rain_1h</th>\n",
       "      <th>rain_3h</th>\n",
       "      <th>snow_1h</th>\n",
       "      <th>snow_3h</th>\n",
       "      <th>clouds_all</th>\n",
       "      <th>weather_id</th>\n",
       "      <th>weather_main</th>\n",
       "      <th>weather_description</th>\n",
       "      <th>visibility_category</th>\n",
       "      <th>rain_1h_category</th>\n",
       "      <th>rain_3h_category</th>\n",
       "      <th>snow_1h_category</th>\n",
       "      <th>snow_3h_category</th>\n",
       "      <th>wind_intensity</th>\n",
       "      <th>location_id</th>\n",
       "      <th>bin_id</th>\n",
       "      <th>datetime</th>\n",
       "      <th>hour_index</th>\n",
       "      <th>x_bin</th>\n",
       "      <th>y_bin</th>\n",
       "    </tr>\n",
       "  </thead>\n",
       "  <tbody>\n",
       "    <tr>\n",
       "      <th>4750544</th>\n",
       "      <td>0</td>\n",
       "      <td>0</td>\n",
       "      <td>0</td>\n",
       "      <td>40.85000</td>\n",
       "      <td>-73.80000</td>\n",
       "      <td>10.65000</td>\n",
       "      <td>10000.00000</td>\n",
       "      <td>9.13000</td>\n",
       "      <td>9.93000</td>\n",
       "      <td>11.15000</td>\n",
       "      <td>9.77000</td>\n",
       "      <td>15.26740</td>\n",
       "      <td>0.00000</td>\n",
       "      <td>0.00000</td>\n",
       "      <td>0.00000</td>\n",
       "      <td>0.00000</td>\n",
       "      <td>20.00000</td>\n",
       "      <td>801.00000</td>\n",
       "      <td>Clouds</td>\n",
       "      <td>few clouds</td>\n",
       "      <td>High Visibility</td>\n",
       "      <td>No Rain</td>\n",
       "      <td>No Rain</td>\n",
       "      <td>No Snow</td>\n",
       "      <td>No Snow</td>\n",
       "      <td>Moderate Wind</td>\n",
       "      <td>40.85_-73.8</td>\n",
       "      <td>43</td>\n",
       "      <td>2014-04-08 23:00:00</td>\n",
       "      <td>11035</td>\n",
       "      <td>-73.80000</td>\n",
       "      <td>40.85000</td>\n",
       "    </tr>\n",
       "    <tr>\n",
       "      <th>4060150</th>\n",
       "      <td>0</td>\n",
       "      <td>0</td>\n",
       "      <td>0</td>\n",
       "      <td>40.75000</td>\n",
       "      <td>-73.70000</td>\n",
       "      <td>18.85000</td>\n",
       "      <td>10000.00000</td>\n",
       "      <td>18.80000</td>\n",
       "      <td>18.15000</td>\n",
       "      <td>19.52000</td>\n",
       "      <td>4.63000</td>\n",
       "      <td>7.23521</td>\n",
       "      <td>0.00000</td>\n",
       "      <td>0.00000</td>\n",
       "      <td>0.00000</td>\n",
       "      <td>0.00000</td>\n",
       "      <td>0.00000</td>\n",
       "      <td>800.00000</td>\n",
       "      <td>Clear</td>\n",
       "      <td>sky is clear</td>\n",
       "      <td>High Visibility</td>\n",
       "      <td>No Rain</td>\n",
       "      <td>No Rain</td>\n",
       "      <td>No Snow</td>\n",
       "      <td>No Snow</td>\n",
       "      <td>Light Wind</td>\n",
       "      <td>40.75_-73.7</td>\n",
       "      <td>36</td>\n",
       "      <td>2023-06-29 05:00:00</td>\n",
       "      <td>91946</td>\n",
       "      <td>-73.70000</td>\n",
       "      <td>40.75000</td>\n",
       "    </tr>\n",
       "    <tr>\n",
       "      <th>452809</th>\n",
       "      <td>0</td>\n",
       "      <td>0</td>\n",
       "      <td>0</td>\n",
       "      <td>40.80000</td>\n",
       "      <td>-73.95000</td>\n",
       "      <td>15.09000</td>\n",
       "      <td>1207.00000</td>\n",
       "      <td>15.14000</td>\n",
       "      <td>12.18000</td>\n",
       "      <td>15.21000</td>\n",
       "      <td>2.60000</td>\n",
       "      <td>4.06297</td>\n",
       "      <td>0.00000</td>\n",
       "      <td>0.00000</td>\n",
       "      <td>0.00000</td>\n",
       "      <td>0.00000</td>\n",
       "      <td>100.00000</td>\n",
       "      <td>701.00000</td>\n",
       "      <td>Mist</td>\n",
       "      <td>mist</td>\n",
       "      <td>Medium Visibility</td>\n",
       "      <td>No Rain</td>\n",
       "      <td>No Rain</td>\n",
       "      <td>No Snow</td>\n",
       "      <td>No Snow</td>\n",
       "      <td>Light Wind</td>\n",
       "      <td>40.8_-73.95</td>\n",
       "      <td>4</td>\n",
       "      <td>2014-05-10 02:00:00</td>\n",
       "      <td>11863</td>\n",
       "      <td>-73.95000</td>\n",
       "      <td>40.80000</td>\n",
       "    </tr>\n",
       "    <tr>\n",
       "      <th>5671175</th>\n",
       "      <td>0</td>\n",
       "      <td>0</td>\n",
       "      <td>0</td>\n",
       "      <td>40.80000</td>\n",
       "      <td>-73.75000</td>\n",
       "      <td>4.13000</td>\n",
       "      <td>10000.00000</td>\n",
       "      <td>-0.29000</td>\n",
       "      <td>3.93000</td>\n",
       "      <td>4.35000</td>\n",
       "      <td>6.20000</td>\n",
       "      <td>9.68862</td>\n",
       "      <td>0.00000</td>\n",
       "      <td>0.00000</td>\n",
       "      <td>0.00000</td>\n",
       "      <td>0.00000</td>\n",
       "      <td>100.00000</td>\n",
       "      <td>804.00000</td>\n",
       "      <td>Clouds</td>\n",
       "      <td>overcast clouds</td>\n",
       "      <td>High Visibility</td>\n",
       "      <td>No Rain</td>\n",
       "      <td>No Rain</td>\n",
       "      <td>No Snow</td>\n",
       "      <td>No Snow</td>\n",
       "      <td>Moderate Wind</td>\n",
       "      <td>40.8_-73.75</td>\n",
       "      <td>51</td>\n",
       "      <td>2018-11-21 01:00:00</td>\n",
       "      <td>51605</td>\n",
       "      <td>-73.75000</td>\n",
       "      <td>40.80000</td>\n",
       "    </tr>\n",
       "    <tr>\n",
       "      <th>2645075</th>\n",
       "      <td>0</td>\n",
       "      <td>0</td>\n",
       "      <td>0</td>\n",
       "      <td>40.65000</td>\n",
       "      <td>-73.75000</td>\n",
       "      <td>26.99000</td>\n",
       "      <td>10000.00000</td>\n",
       "      <td>28.84000</td>\n",
       "      <td>26.10000</td>\n",
       "      <td>27.93000</td>\n",
       "      <td>4.12000</td>\n",
       "      <td>6.43825</td>\n",
       "      <td>0.25000</td>\n",
       "      <td>0.25000</td>\n",
       "      <td>0.00000</td>\n",
       "      <td>0.00000</td>\n",
       "      <td>20.00000</td>\n",
       "      <td>500.00000</td>\n",
       "      <td>Rain</td>\n",
       "      <td>light rain</td>\n",
       "      <td>High Visibility</td>\n",
       "      <td>Light Rain</td>\n",
       "      <td>Light Rain</td>\n",
       "      <td>No Snow</td>\n",
       "      <td>No Snow</td>\n",
       "      <td>Light Wind</td>\n",
       "      <td>40.65_-73.75</td>\n",
       "      <td>23</td>\n",
       "      <td>2025-07-09 23:00:00</td>\n",
       "      <td>109757</td>\n",
       "      <td>-73.75000</td>\n",
       "      <td>40.65000</td>\n",
       "    </tr>\n",
       "  </tbody>\n",
       "</table>\n",
       "</div>"
      ],
      "text/plain": [
       "         accident_count  number_of_persons_injured  number_of_persons_killed  \\\n",
       "4750544               0                          0                         0   \n",
       "4060150               0                          0                         0   \n",
       "452809                0                          0                         0   \n",
       "5671175               0                          0                         0   \n",
       "2645075               0                          0                         0   \n",
       "\n",
       "         grid_lat  grid_lon     temp  visibility  feels_like  temp_min  \\\n",
       "4750544  40.85000 -73.80000 10.65000 10000.00000     9.13000   9.93000   \n",
       "4060150  40.75000 -73.70000 18.85000 10000.00000    18.80000  18.15000   \n",
       "452809   40.80000 -73.95000 15.09000  1207.00000    15.14000  12.18000   \n",
       "5671175  40.80000 -73.75000  4.13000 10000.00000    -0.29000   3.93000   \n",
       "2645075  40.65000 -73.75000 26.99000 10000.00000    28.84000  26.10000   \n",
       "\n",
       "         temp_max  wind_speed  wind_gust  rain_1h  rain_3h  snow_1h  snow_3h  \\\n",
       "4750544  11.15000     9.77000   15.26740  0.00000  0.00000  0.00000  0.00000   \n",
       "4060150  19.52000     4.63000    7.23521  0.00000  0.00000  0.00000  0.00000   \n",
       "452809   15.21000     2.60000    4.06297  0.00000  0.00000  0.00000  0.00000   \n",
       "5671175   4.35000     6.20000    9.68862  0.00000  0.00000  0.00000  0.00000   \n",
       "2645075  27.93000     4.12000    6.43825  0.25000  0.25000  0.00000  0.00000   \n",
       "\n",
       "         clouds_all  weather_id weather_main weather_description  \\\n",
       "4750544    20.00000   801.00000       Clouds          few clouds   \n",
       "4060150     0.00000   800.00000        Clear        sky is clear   \n",
       "452809    100.00000   701.00000         Mist                mist   \n",
       "5671175   100.00000   804.00000       Clouds     overcast clouds   \n",
       "2645075    20.00000   500.00000         Rain          light rain   \n",
       "\n",
       "        visibility_category rain_1h_category rain_3h_category  \\\n",
       "4750544     High Visibility          No Rain          No Rain   \n",
       "4060150     High Visibility          No Rain          No Rain   \n",
       "452809    Medium Visibility          No Rain          No Rain   \n",
       "5671175     High Visibility          No Rain          No Rain   \n",
       "2645075     High Visibility       Light Rain       Light Rain   \n",
       "\n",
       "        snow_1h_category snow_3h_category wind_intensity   location_id  \\\n",
       "4750544          No Snow          No Snow  Moderate Wind   40.85_-73.8   \n",
       "4060150          No Snow          No Snow     Light Wind   40.75_-73.7   \n",
       "452809           No Snow          No Snow     Light Wind   40.8_-73.95   \n",
       "5671175          No Snow          No Snow  Moderate Wind   40.8_-73.75   \n",
       "2645075          No Snow          No Snow     Light Wind  40.65_-73.75   \n",
       "\n",
       "         bin_id            datetime  hour_index     x_bin    y_bin  \n",
       "4750544      43 2014-04-08 23:00:00       11035 -73.80000 40.85000  \n",
       "4060150      36 2023-06-29 05:00:00       91946 -73.70000 40.75000  \n",
       "452809        4 2014-05-10 02:00:00       11863 -73.95000 40.80000  \n",
       "5671175      51 2018-11-21 01:00:00       51605 -73.75000 40.80000  \n",
       "2645075      23 2025-07-09 23:00:00      109757 -73.75000 40.65000  "
      ]
     },
     "execution_count": 11,
     "metadata": {},
     "output_type": "execute_result"
    }
   ],
   "source": [
    "merged_ts_df.sample(5)"
   ]
  },
  {
   "cell_type": "markdown",
   "metadata": {},
   "source": [
    "### Checkpoint"
   ]
  },
  {
   "cell_type": "code",
   "execution_count": null,
   "metadata": {},
   "outputs": [],
   "source": [
    "save_pkl(merged_ts_df, \"./data/aggregated_50bins.csv\")"
   ]
  },
  {
   "cell_type": "markdown",
   "metadata": {},
   "source": [
    "## Step 4: Feature Engineering"
   ]
  },
  {
   "cell_type": "code",
   "execution_count": 2,
   "metadata": {},
   "outputs": [],
   "source": [
    "merged_ts_df = load_pkl(\"./data/aggregated_50bins.csv\")"
   ]
  },
  {
   "cell_type": "markdown",
   "metadata": {},
   "source": [
    "### Step 4.1: Temporal Features\n",
    "\n",
    "We would like to create temporal features to include potentially significant factors. This includes:\n",
    "\n",
    "- the hour of the day (e.g., midnight is less likely than 8 AM rush hour)\n",
    "\n",
    "- whether or not it's rush hour\n",
    "\n",
    "- the day of the year (e.g., no school during summer -> potentially less traffic (seasonal patterns))"
   ]
  },
  {
   "cell_type": "code",
   "execution_count": 3,
   "metadata": {},
   "outputs": [
    {
     "name": "stdout",
     "output_type": "stream",
     "text": [
      "Added temporal features to all locations\n",
      "Sample features:\n",
      "   accident_count  hour  is_rush_hour    temp\n",
      "0               3    19             1 3.06000\n",
      "1               1    20             0 3.07000\n",
      "2               3    21             0 3.07000\n",
      "3               2    22             0 3.38000\n",
      "4               0    23             0 3.38000\n",
      "5               2     0             0 3.39000\n",
      "6               1     1             0 4.14000\n",
      "7               4     2             0 3.38000\n",
      "8               1     3             0 4.14000\n",
      "9               4     4             0 4.14000\n"
     ]
    }
   ],
   "source": [
    "def add_temporal_features(ts_df):\n",
    "    \"\"\"Add temporal features to time series dataframe.\"\"\"\n",
    "    ts_df = ts_df.copy()\n",
    "    \n",
    "    # Extract time components\n",
    "    # ts_df['hour'] = ts_df.index.hour\n",
    "    # ts_df['is_weekend'] = (ts_df.index.dayofweek >= 5).astype(int)\n",
    "    # day_of_year = ts_df.index.dayofyear\n",
    "    dt = ts_df[\"datetime\"].dt\n",
    "    \n",
    "    ts_df['hour'] = dt.hour\n",
    "    ts_df['is_weekend'] = (dt.dayofweek >= 5).astype(int)\n",
    "    day_of_year = dt.dayofyear\n",
    "    \n",
    "    # Rush hour indicators\n",
    "    ts_df['is_morning_rush'] = ((ts_df['hour'] >= 7) & (ts_df['hour'] <= 9)).astype(int)\n",
    "    ts_df['is_evening_rush'] = ((ts_df['hour'] >= 17) & (ts_df['hour'] <= 19)).astype(int)\n",
    "    ts_df['is_rush_hour'] = (ts_df['is_morning_rush'] | ts_df['is_evening_rush']).astype(int)\n",
    "    \n",
    "    # Seasonal features\n",
    "    ts_df['sin_hour'] = np.sin(2 * np.pi * ts_df['hour'] / 24)\n",
    "    ts_df['cos_hour'] = np.cos(2 * np.pi * ts_df['hour'] / 24)\n",
    "    ts_df['sin_day'] = np.sin(2 * np.pi * day_of_year / 365)\n",
    "    ts_df['cos_day'] = np.cos(2 * np.pi * day_of_year / 365)\n",
    "    \n",
    "    return ts_df\n",
    "\n",
    "# Add temporal features\n",
    "merged_featured = add_temporal_features(merged_ts_df)\n",
    "\n",
    "print(\"Added temporal features to all locations\")\n",
    "print(\"Sample features:\")\n",
    "print(merged_featured[['accident_count', 'hour', 'is_rush_hour', 'temp']].head(10))"
   ]
  },
  {
   "cell_type": "markdown",
   "metadata": {},
   "source": [
    "### Step 4.2: Rescaling Features\n",
    "\n",
    "We would like to standardize our features:\n",
    "\n",
    "- Log transformation for ***visibility***\n",
    "\n",
    "    - A change from 100m visibility to 200m is much more significant than from 5000m to 5100m. Thus, a log scale would likely be preferred.\n",
    "\n",
    "- Standardization for ***rain, snow, wind*** measurements"
   ]
  },
  {
   "cell_type": "code",
   "execution_count": 4,
   "metadata": {},
   "outputs": [],
   "source": [
    "from sklearn.preprocessing import StandardScaler, RobustScaler\n",
    "\n",
    "def rescale_features(ts_df: pd.DataFrame):\n",
    "    \"\"\"Rescales features for improved learning\"\"\"\n",
    "    # Log transform visibility\n",
    "    df = ts_df.copy()\n",
    "    df[\"log10_visibility\"] = np.log10(df[\"visibility\"])\n",
    "    \n",
    "    # Normalize rain\n",
    "    rain_scaler = RobustScaler()\n",
    "    df[\"normalized_rain\"] = rain_scaler.fit_transform(df[[\"rain_1h\"]])\n",
    "    \n",
    "    # Normalize snow\n",
    "    snow_scaler = RobustScaler()\n",
    "    df[\"normalized_snow\"] = snow_scaler.fit_transform(df[[\"snow_1h\"]])\n",
    "    \n",
    "    # Normalize wind gusts\n",
    "    wind_scaler = RobustScaler()\n",
    "    df[\"normalized_wind_gust\"] = wind_scaler.fit_transform(df[[\"wind_gust\"]])\n",
    "    \n",
    "    return df"
   ]
  },
  {
   "cell_type": "code",
   "execution_count": 5,
   "metadata": {},
   "outputs": [],
   "source": [
    "merged_featured_rescaled = rescale_features(merged_featured)"
   ]
  },
  {
   "cell_type": "code",
   "execution_count": null,
   "metadata": {},
   "outputs": [
    {
     "data": {
      "text/html": [
       "<div>\n",
       "<style scoped>\n",
       "    .dataframe tbody tr th:only-of-type {\n",
       "        vertical-align: middle;\n",
       "    }\n",
       "\n",
       "    .dataframe tbody tr th {\n",
       "        vertical-align: top;\n",
       "    }\n",
       "\n",
       "    .dataframe thead th {\n",
       "        text-align: right;\n",
       "    }\n",
       "</style>\n",
       "<table border=\"1\" class=\"dataframe\">\n",
       "  <thead>\n",
       "    <tr style=\"text-align: right;\">\n",
       "      <th></th>\n",
       "      <th>normalized_rain</th>\n",
       "      <th>normalized_snow</th>\n",
       "      <th>normalized_wind_gust</th>\n",
       "      <th>log10_visibility</th>\n",
       "    </tr>\n",
       "  </thead>\n",
       "  <tbody>\n",
       "    <tr>\n",
       "      <th>count</th>\n",
       "      <td>6165771.00000</td>\n",
       "      <td>6165771.00000</td>\n",
       "      <td>6165771.00000</td>\n",
       "      <td>6165771.00000</td>\n",
       "    </tr>\n",
       "    <tr>\n",
       "      <th>mean</th>\n",
       "      <td>0.15826</td>\n",
       "      <td>0.00814</td>\n",
       "      <td>0.10688</td>\n",
       "      <td>3.96376</td>\n",
       "    </tr>\n",
       "    <tr>\n",
       "      <th>std</th>\n",
       "      <td>0.82303</td>\n",
       "      <td>0.11648</td>\n",
       "      <td>0.81163</td>\n",
       "      <td>0.14081</td>\n",
       "    </tr>\n",
       "    <tr>\n",
       "      <th>min</th>\n",
       "      <td>0.00000</td>\n",
       "      <td>0.00000</td>\n",
       "      <td>-1.56885</td>\n",
       "      <td>2.30320</td>\n",
       "    </tr>\n",
       "    <tr>\n",
       "      <th>25%</th>\n",
       "      <td>0.00000</td>\n",
       "      <td>0.00000</td>\n",
       "      <td>-0.41401</td>\n",
       "      <td>4.00000</td>\n",
       "    </tr>\n",
       "    <tr>\n",
       "      <th>50%</th>\n",
       "      <td>0.00000</td>\n",
       "      <td>0.00000</td>\n",
       "      <td>0.00000</td>\n",
       "      <td>4.00000</td>\n",
       "    </tr>\n",
       "    <tr>\n",
       "      <th>75%</th>\n",
       "      <td>0.00000</td>\n",
       "      <td>0.00000</td>\n",
       "      <td>0.58599</td>\n",
       "      <td>4.00000</td>\n",
       "    </tr>\n",
       "    <tr>\n",
       "      <th>max</th>\n",
       "      <td>36.58000</td>\n",
       "      <td>5.80000</td>\n",
       "      <td>5.75373</td>\n",
       "      <td>4.00000</td>\n",
       "    </tr>\n",
       "  </tbody>\n",
       "</table>\n",
       "</div>"
      ],
      "text/plain": [
       "       normalized_rain  normalized_snow  normalized_wind_gust  \\\n",
       "count    6165771.00000    6165771.00000         6165771.00000   \n",
       "mean           0.15826          0.00814               0.10688   \n",
       "std            0.82303          0.11648               0.81163   \n",
       "min            0.00000          0.00000              -1.56885   \n",
       "25%            0.00000          0.00000              -0.41401   \n",
       "50%            0.00000          0.00000               0.00000   \n",
       "75%            0.00000          0.00000               0.58599   \n",
       "max           36.58000          5.80000               5.75373   \n",
       "\n",
       "       log10_visibility  \n",
       "count     6165771.00000  \n",
       "mean            3.96376  \n",
       "std             0.14081  \n",
       "min             2.30320  \n",
       "25%             4.00000  \n",
       "50%             4.00000  \n",
       "75%             4.00000  \n",
       "max             4.00000  "
      ]
     },
     "execution_count": 19,
     "metadata": {},
     "output_type": "execute_result"
    }
   ],
   "source": [
    "merged_featured_rescaled[[\"normalized_rain\", \"normalized_snow\", \"normalized_wind_gust\", \"log10_visibility\"]].describe()"
   ]
  },
  {
   "cell_type": "markdown",
   "metadata": {},
   "source": [
    "We see that the rain still has extremely large outliers. We should consider windsorization (capping extreme outliers at a fixed percentile) before standardization."
   ]
  },
  {
   "cell_type": "code",
   "execution_count": 6,
   "metadata": {},
   "outputs": [
    {
     "name": "stdout",
     "output_type": "stream",
     "text": [
      "rain_1h:\n",
      "  Original max: 36.58\n",
      "  Winsorized max: 6.01\n",
      "  99.5th percentile: 4.57\n",
      "            rain_1h\n",
      "count 6165771.00000\n",
      "mean        0.14502\n",
      "std         0.57872\n",
      "min         0.00000\n",
      "25%         0.00000\n",
      "50%         0.00000\n",
      "75%         0.00000\n",
      "max         6.01000\n"
     ]
    }
   ],
   "source": [
    "from scipy.stats import mstats\n",
    "def winsorize_features(df: pd.DataFrame, lower_pct = 0.01, upper_pct = 0.997):\n",
    "    \"\"\"Windsorizes extreme outliers in data\"\"\"\n",
    "    df = df.copy()\n",
    "    cols = [\"rain_1h\"]\n",
    "    for col in cols:\n",
    "        if col in df.columns:\n",
    "            original_max = df[col].max()\n",
    "            df[col] = mstats.winsorize(df[col], limits=[lower_pct, 1 - upper_pct])\n",
    "            \n",
    "            print(f\"{col}:\")\n",
    "            print(f\"  Original max: {original_max:.2f}\")\n",
    "            print(f\"  Winsorized max: {df[col].max():.2f}\")\n",
    "            print(f\"  99.5th percentile: {df[col].quantile(0.995):.2f}\")\n",
    "            \n",
    "    return df\n",
    "\n",
    "cols = [\"rain_1h\"]\n",
    "winsorized_features = winsorize_features(merged_featured)\n",
    "print(winsorized_features[cols].describe())"
   ]
  },
  {
   "cell_type": "markdown",
   "metadata": {},
   "source": [
    "Now we can standardize our features"
   ]
  },
  {
   "cell_type": "code",
   "execution_count": 7,
   "metadata": {},
   "outputs": [
    {
     "data": {
      "text/html": [
       "<div>\n",
       "<style scoped>\n",
       "    .dataframe tbody tr th:only-of-type {\n",
       "        vertical-align: middle;\n",
       "    }\n",
       "\n",
       "    .dataframe tbody tr th {\n",
       "        vertical-align: top;\n",
       "    }\n",
       "\n",
       "    .dataframe thead th {\n",
       "        text-align: right;\n",
       "    }\n",
       "</style>\n",
       "<table border=\"1\" class=\"dataframe\">\n",
       "  <thead>\n",
       "    <tr style=\"text-align: right;\">\n",
       "      <th></th>\n",
       "      <th>normalized_rain</th>\n",
       "      <th>normalized_snow</th>\n",
       "      <th>normalized_wind_gust</th>\n",
       "      <th>log10_visibility</th>\n",
       "    </tr>\n",
       "  </thead>\n",
       "  <tbody>\n",
       "    <tr>\n",
       "      <th>count</th>\n",
       "      <td>6165771.00000</td>\n",
       "      <td>6165771.00000</td>\n",
       "      <td>6165771.00000</td>\n",
       "      <td>6165771.00000</td>\n",
       "    </tr>\n",
       "    <tr>\n",
       "      <th>mean</th>\n",
       "      <td>0.14502</td>\n",
       "      <td>0.00814</td>\n",
       "      <td>0.10688</td>\n",
       "      <td>3.96376</td>\n",
       "    </tr>\n",
       "    <tr>\n",
       "      <th>std</th>\n",
       "      <td>0.57872</td>\n",
       "      <td>0.11648</td>\n",
       "      <td>0.81163</td>\n",
       "      <td>0.14081</td>\n",
       "    </tr>\n",
       "    <tr>\n",
       "      <th>min</th>\n",
       "      <td>0.00000</td>\n",
       "      <td>0.00000</td>\n",
       "      <td>-1.56885</td>\n",
       "      <td>2.30320</td>\n",
       "    </tr>\n",
       "    <tr>\n",
       "      <th>25%</th>\n",
       "      <td>0.00000</td>\n",
       "      <td>0.00000</td>\n",
       "      <td>-0.41401</td>\n",
       "      <td>4.00000</td>\n",
       "    </tr>\n",
       "    <tr>\n",
       "      <th>50%</th>\n",
       "      <td>0.00000</td>\n",
       "      <td>0.00000</td>\n",
       "      <td>0.00000</td>\n",
       "      <td>4.00000</td>\n",
       "    </tr>\n",
       "    <tr>\n",
       "      <th>75%</th>\n",
       "      <td>0.00000</td>\n",
       "      <td>0.00000</td>\n",
       "      <td>0.58599</td>\n",
       "      <td>4.00000</td>\n",
       "    </tr>\n",
       "    <tr>\n",
       "      <th>max</th>\n",
       "      <td>6.01000</td>\n",
       "      <td>5.80000</td>\n",
       "      <td>5.75373</td>\n",
       "      <td>4.00000</td>\n",
       "    </tr>\n",
       "  </tbody>\n",
       "</table>\n",
       "</div>"
      ],
      "text/plain": [
       "       normalized_rain  normalized_snow  normalized_wind_gust  \\\n",
       "count    6165771.00000    6165771.00000         6165771.00000   \n",
       "mean           0.14502          0.00814               0.10688   \n",
       "std            0.57872          0.11648               0.81163   \n",
       "min            0.00000          0.00000              -1.56885   \n",
       "25%            0.00000          0.00000              -0.41401   \n",
       "50%            0.00000          0.00000               0.00000   \n",
       "75%            0.00000          0.00000               0.58599   \n",
       "max            6.01000          5.80000               5.75373   \n",
       "\n",
       "       log10_visibility  \n",
       "count     6165771.00000  \n",
       "mean            3.96376  \n",
       "std             0.14081  \n",
       "min             2.30320  \n",
       "25%             4.00000  \n",
       "50%             4.00000  \n",
       "75%             4.00000  \n",
       "max             4.00000  "
      ]
     },
     "execution_count": 7,
     "metadata": {},
     "output_type": "execute_result"
    }
   ],
   "source": [
    "df_standardized = rescale_features(winsorized_features)\n",
    "df_standardized[[\"normalized_rain\", \"normalized_snow\", \"normalized_wind_gust\", \"log10_visibility\"]].describe()"
   ]
  },
  {
   "cell_type": "markdown",
   "metadata": {},
   "source": [
    "### Step 4.2.1 One-Hot Encoding Features\n",
    "\n",
    "Because we observed some interesting patterns in the ***Correspondence Analysis (see Step 2)***, we should consider one-hot encoding our data to account for potential nonlinear patterns.\n",
    "\n",
    "- For example, ***Heavy Rain*** exhibited less inherent 'risk' than ***Moderate Rain***. Because of this observation, one-hot encoding, while typically not advisable for ordinal and numerical factors, can be a reasonable approach to ignore the ordinal structure and potentially learn these nonlinear patterns"
   ]
  },
  {
   "cell_type": "code",
   "execution_count": 8,
   "metadata": {},
   "outputs": [],
   "source": [
    "def onehot_encode_features(df: pd.DataFrame, cols: list[str]):\n",
    "    \"\"\"One-hot encodes the given columns\"\"\"\n",
    "    return pd.get_dummies(df, columns=cols, dtype=int)\n",
    "\n",
    "df_encoded = onehot_encode_features(df_standardized, cols=[\"snow_1h_category\", \"rain_1h_category\", \"wind_intensity\"])\n",
    "    "
   ]
  },
  {
   "cell_type": "code",
   "execution_count": 9,
   "metadata": {},
   "outputs": [
    {
     "data": {
      "text/html": [
       "<div>\n",
       "<style scoped>\n",
       "    .dataframe tbody tr th:only-of-type {\n",
       "        vertical-align: middle;\n",
       "    }\n",
       "\n",
       "    .dataframe tbody tr th {\n",
       "        vertical-align: top;\n",
       "    }\n",
       "\n",
       "    .dataframe thead th {\n",
       "        text-align: right;\n",
       "    }\n",
       "</style>\n",
       "<table border=\"1\" class=\"dataframe\">\n",
       "  <thead>\n",
       "    <tr style=\"text-align: right;\">\n",
       "      <th></th>\n",
       "      <th>accident_count</th>\n",
       "      <th>number_of_persons_injured</th>\n",
       "      <th>number_of_persons_killed</th>\n",
       "      <th>grid_lat</th>\n",
       "      <th>grid_lon</th>\n",
       "      <th>temp</th>\n",
       "      <th>visibility</th>\n",
       "      <th>feels_like</th>\n",
       "      <th>temp_min</th>\n",
       "      <th>temp_max</th>\n",
       "      <th>wind_speed</th>\n",
       "      <th>wind_gust</th>\n",
       "      <th>rain_1h</th>\n",
       "      <th>rain_3h</th>\n",
       "      <th>snow_1h</th>\n",
       "      <th>snow_3h</th>\n",
       "      <th>clouds_all</th>\n",
       "      <th>weather_id</th>\n",
       "      <th>weather_main</th>\n",
       "      <th>weather_description</th>\n",
       "      <th>visibility_category</th>\n",
       "      <th>rain_3h_category</th>\n",
       "      <th>snow_3h_category</th>\n",
       "      <th>location_id</th>\n",
       "      <th>bin_id</th>\n",
       "      <th>datetime</th>\n",
       "      <th>hour_index</th>\n",
       "      <th>x_bin</th>\n",
       "      <th>y_bin</th>\n",
       "      <th>hour</th>\n",
       "      <th>is_weekend</th>\n",
       "      <th>is_morning_rush</th>\n",
       "      <th>is_evening_rush</th>\n",
       "      <th>is_rush_hour</th>\n",
       "      <th>sin_hour</th>\n",
       "      <th>cos_hour</th>\n",
       "      <th>sin_day</th>\n",
       "      <th>cos_day</th>\n",
       "      <th>log10_visibility</th>\n",
       "      <th>normalized_rain</th>\n",
       "      <th>normalized_snow</th>\n",
       "      <th>normalized_wind_gust</th>\n",
       "      <th>snow_1h_category_Heavy Snow</th>\n",
       "      <th>snow_1h_category_Light Snow</th>\n",
       "      <th>snow_1h_category_Moderate Snow</th>\n",
       "      <th>snow_1h_category_No Snow</th>\n",
       "      <th>rain_1h_category_Heavy Rain</th>\n",
       "      <th>rain_1h_category_Light Rain</th>\n",
       "      <th>rain_1h_category_Moderate Rain</th>\n",
       "      <th>rain_1h_category_No Rain</th>\n",
       "      <th>wind_intensity_Calm</th>\n",
       "      <th>wind_intensity_Light Wind</th>\n",
       "      <th>wind_intensity_Moderate Wind</th>\n",
       "      <th>wind_intensity_Strong Wind</th>\n",
       "      <th>wind_intensity_Very Strong Wind</th>\n",
       "    </tr>\n",
       "  </thead>\n",
       "  <tbody>\n",
       "    <tr>\n",
       "      <th>0</th>\n",
       "      <td>3</td>\n",
       "      <td>0</td>\n",
       "      <td>0</td>\n",
       "      <td>40.75000</td>\n",
       "      <td>-74.00000</td>\n",
       "      <td>3.06000</td>\n",
       "      <td>10000.00000</td>\n",
       "      <td>-2.60000</td>\n",
       "      <td>2.71000</td>\n",
       "      <td>3.25000</td>\n",
       "      <td>8.74000</td>\n",
       "      <td>12.85000</td>\n",
       "      <td>0.00000</td>\n",
       "      <td>0.00000</td>\n",
       "      <td>0.00000</td>\n",
       "      <td>0.00000</td>\n",
       "      <td>100.00000</td>\n",
       "      <td>804.00000</td>\n",
       "      <td>Clouds</td>\n",
       "      <td>overcast clouds</td>\n",
       "      <td>High Visibility</td>\n",
       "      <td>No Rain</td>\n",
       "      <td>No Snow</td>\n",
       "      <td>40.75_-74.0</td>\n",
       "      <td>0</td>\n",
       "      <td>2012-12-31 19:00:00</td>\n",
       "      <td>0</td>\n",
       "      <td>-74.00000</td>\n",
       "      <td>40.75000</td>\n",
       "      <td>19</td>\n",
       "      <td>0</td>\n",
       "      <td>0</td>\n",
       "      <td>1</td>\n",
       "      <td>1</td>\n",
       "      <td>-0.96593</td>\n",
       "      <td>0.25882</td>\n",
       "      <td>0.01721</td>\n",
       "      <td>0.99985</td>\n",
       "      <td>4.00000</td>\n",
       "      <td>0.00000</td>\n",
       "      <td>0.00000</td>\n",
       "      <td>1.08375</td>\n",
       "      <td>0</td>\n",
       "      <td>0</td>\n",
       "      <td>0</td>\n",
       "      <td>1</td>\n",
       "      <td>0</td>\n",
       "      <td>0</td>\n",
       "      <td>0</td>\n",
       "      <td>1</td>\n",
       "      <td>0</td>\n",
       "      <td>0</td>\n",
       "      <td>1</td>\n",
       "      <td>0</td>\n",
       "      <td>0</td>\n",
       "    </tr>\n",
       "    <tr>\n",
       "      <th>1</th>\n",
       "      <td>1</td>\n",
       "      <td>0</td>\n",
       "      <td>0</td>\n",
       "      <td>40.75000</td>\n",
       "      <td>-74.00000</td>\n",
       "      <td>3.07000</td>\n",
       "      <td>10000.00000</td>\n",
       "      <td>-1.84000</td>\n",
       "      <td>3.01000</td>\n",
       "      <td>3.93000</td>\n",
       "      <td>6.68000</td>\n",
       "      <td>11.82000</td>\n",
       "      <td>0.00000</td>\n",
       "      <td>0.00000</td>\n",
       "      <td>0.00000</td>\n",
       "      <td>0.00000</td>\n",
       "      <td>100.00000</td>\n",
       "      <td>804.00000</td>\n",
       "      <td>Clouds</td>\n",
       "      <td>overcast clouds</td>\n",
       "      <td>High Visibility</td>\n",
       "      <td>No Rain</td>\n",
       "      <td>No Snow</td>\n",
       "      <td>40.75_-74.0</td>\n",
       "      <td>0</td>\n",
       "      <td>2012-12-31 20:00:00</td>\n",
       "      <td>1</td>\n",
       "      <td>-74.00000</td>\n",
       "      <td>40.75000</td>\n",
       "      <td>20</td>\n",
       "      <td>0</td>\n",
       "      <td>0</td>\n",
       "      <td>0</td>\n",
       "      <td>0</td>\n",
       "      <td>-0.86603</td>\n",
       "      <td>0.50000</td>\n",
       "      <td>0.01721</td>\n",
       "      <td>0.99985</td>\n",
       "      <td>4.00000</td>\n",
       "      <td>0.00000</td>\n",
       "      <td>0.00000</td>\n",
       "      <td>0.87112</td>\n",
       "      <td>0</td>\n",
       "      <td>0</td>\n",
       "      <td>0</td>\n",
       "      <td>1</td>\n",
       "      <td>0</td>\n",
       "      <td>0</td>\n",
       "      <td>0</td>\n",
       "      <td>1</td>\n",
       "      <td>0</td>\n",
       "      <td>0</td>\n",
       "      <td>1</td>\n",
       "      <td>0</td>\n",
       "      <td>0</td>\n",
       "    </tr>\n",
       "    <tr>\n",
       "      <th>2</th>\n",
       "      <td>3</td>\n",
       "      <td>0</td>\n",
       "      <td>0</td>\n",
       "      <td>40.75000</td>\n",
       "      <td>-74.00000</td>\n",
       "      <td>3.07000</td>\n",
       "      <td>10000.00000</td>\n",
       "      <td>-1.84000</td>\n",
       "      <td>3.01000</td>\n",
       "      <td>3.93000</td>\n",
       "      <td>6.68000</td>\n",
       "      <td>9.77000</td>\n",
       "      <td>0.00000</td>\n",
       "      <td>0.00000</td>\n",
       "      <td>0.00000</td>\n",
       "      <td>0.00000</td>\n",
       "      <td>100.00000</td>\n",
       "      <td>804.00000</td>\n",
       "      <td>Clouds</td>\n",
       "      <td>overcast clouds</td>\n",
       "      <td>High Visibility</td>\n",
       "      <td>No Rain</td>\n",
       "      <td>No Snow</td>\n",
       "      <td>40.75_-74.0</td>\n",
       "      <td>0</td>\n",
       "      <td>2012-12-31 21:00:00</td>\n",
       "      <td>2</td>\n",
       "      <td>-74.00000</td>\n",
       "      <td>40.75000</td>\n",
       "      <td>21</td>\n",
       "      <td>0</td>\n",
       "      <td>0</td>\n",
       "      <td>0</td>\n",
       "      <td>0</td>\n",
       "      <td>-0.70711</td>\n",
       "      <td>0.70711</td>\n",
       "      <td>0.01721</td>\n",
       "      <td>0.99985</td>\n",
       "      <td>4.00000</td>\n",
       "      <td>0.00000</td>\n",
       "      <td>0.00000</td>\n",
       "      <td>0.44795</td>\n",
       "      <td>0</td>\n",
       "      <td>0</td>\n",
       "      <td>0</td>\n",
       "      <td>1</td>\n",
       "      <td>0</td>\n",
       "      <td>0</td>\n",
       "      <td>0</td>\n",
       "      <td>1</td>\n",
       "      <td>0</td>\n",
       "      <td>0</td>\n",
       "      <td>1</td>\n",
       "      <td>0</td>\n",
       "      <td>0</td>\n",
       "    </tr>\n",
       "    <tr>\n",
       "      <th>3</th>\n",
       "      <td>2</td>\n",
       "      <td>0</td>\n",
       "      <td>0</td>\n",
       "      <td>40.75000</td>\n",
       "      <td>-74.00000</td>\n",
       "      <td>3.38000</td>\n",
       "      <td>10000.00000</td>\n",
       "      <td>-1.83000</td>\n",
       "      <td>3.15000</td>\n",
       "      <td>4.35000</td>\n",
       "      <td>7.71000</td>\n",
       "      <td>12.85000</td>\n",
       "      <td>0.00000</td>\n",
       "      <td>0.00000</td>\n",
       "      <td>0.00000</td>\n",
       "      <td>0.00000</td>\n",
       "      <td>100.00000</td>\n",
       "      <td>804.00000</td>\n",
       "      <td>Clouds</td>\n",
       "      <td>overcast clouds</td>\n",
       "      <td>High Visibility</td>\n",
       "      <td>No Rain</td>\n",
       "      <td>No Snow</td>\n",
       "      <td>40.75_-74.0</td>\n",
       "      <td>0</td>\n",
       "      <td>2012-12-31 22:00:00</td>\n",
       "      <td>3</td>\n",
       "      <td>-74.00000</td>\n",
       "      <td>40.75000</td>\n",
       "      <td>22</td>\n",
       "      <td>0</td>\n",
       "      <td>0</td>\n",
       "      <td>0</td>\n",
       "      <td>0</td>\n",
       "      <td>-0.50000</td>\n",
       "      <td>0.86603</td>\n",
       "      <td>0.01721</td>\n",
       "      <td>0.99985</td>\n",
       "      <td>4.00000</td>\n",
       "      <td>0.00000</td>\n",
       "      <td>0.00000</td>\n",
       "      <td>1.08375</td>\n",
       "      <td>0</td>\n",
       "      <td>0</td>\n",
       "      <td>0</td>\n",
       "      <td>1</td>\n",
       "      <td>0</td>\n",
       "      <td>0</td>\n",
       "      <td>0</td>\n",
       "      <td>1</td>\n",
       "      <td>0</td>\n",
       "      <td>0</td>\n",
       "      <td>1</td>\n",
       "      <td>0</td>\n",
       "      <td>0</td>\n",
       "    </tr>\n",
       "    <tr>\n",
       "      <th>4</th>\n",
       "      <td>0</td>\n",
       "      <td>0</td>\n",
       "      <td>0</td>\n",
       "      <td>40.75000</td>\n",
       "      <td>-74.00000</td>\n",
       "      <td>3.38000</td>\n",
       "      <td>10000.00000</td>\n",
       "      <td>-2.01000</td>\n",
       "      <td>3.15000</td>\n",
       "      <td>4.35000</td>\n",
       "      <td>8.22000</td>\n",
       "      <td>12.85000</td>\n",
       "      <td>0.00000</td>\n",
       "      <td>0.00000</td>\n",
       "      <td>0.00000</td>\n",
       "      <td>0.00000</td>\n",
       "      <td>100.00000</td>\n",
       "      <td>804.00000</td>\n",
       "      <td>Clouds</td>\n",
       "      <td>overcast clouds</td>\n",
       "      <td>High Visibility</td>\n",
       "      <td>No Rain</td>\n",
       "      <td>No Snow</td>\n",
       "      <td>40.75_-74.0</td>\n",
       "      <td>0</td>\n",
       "      <td>2012-12-31 23:00:00</td>\n",
       "      <td>4</td>\n",
       "      <td>-74.00000</td>\n",
       "      <td>40.75000</td>\n",
       "      <td>23</td>\n",
       "      <td>0</td>\n",
       "      <td>0</td>\n",
       "      <td>0</td>\n",
       "      <td>0</td>\n",
       "      <td>-0.25882</td>\n",
       "      <td>0.96593</td>\n",
       "      <td>0.01721</td>\n",
       "      <td>0.99985</td>\n",
       "      <td>4.00000</td>\n",
       "      <td>0.00000</td>\n",
       "      <td>0.00000</td>\n",
       "      <td>1.08375</td>\n",
       "      <td>0</td>\n",
       "      <td>0</td>\n",
       "      <td>0</td>\n",
       "      <td>1</td>\n",
       "      <td>0</td>\n",
       "      <td>0</td>\n",
       "      <td>0</td>\n",
       "      <td>1</td>\n",
       "      <td>0</td>\n",
       "      <td>0</td>\n",
       "      <td>1</td>\n",
       "      <td>0</td>\n",
       "      <td>0</td>\n",
       "    </tr>\n",
       "    <tr>\n",
       "      <th>...</th>\n",
       "      <td>...</td>\n",
       "      <td>...</td>\n",
       "      <td>...</td>\n",
       "      <td>...</td>\n",
       "      <td>...</td>\n",
       "      <td>...</td>\n",
       "      <td>...</td>\n",
       "      <td>...</td>\n",
       "      <td>...</td>\n",
       "      <td>...</td>\n",
       "      <td>...</td>\n",
       "      <td>...</td>\n",
       "      <td>...</td>\n",
       "      <td>...</td>\n",
       "      <td>...</td>\n",
       "      <td>...</td>\n",
       "      <td>...</td>\n",
       "      <td>...</td>\n",
       "      <td>...</td>\n",
       "      <td>...</td>\n",
       "      <td>...</td>\n",
       "      <td>...</td>\n",
       "      <td>...</td>\n",
       "      <td>...</td>\n",
       "      <td>...</td>\n",
       "      <td>...</td>\n",
       "      <td>...</td>\n",
       "      <td>...</td>\n",
       "      <td>...</td>\n",
       "      <td>...</td>\n",
       "      <td>...</td>\n",
       "      <td>...</td>\n",
       "      <td>...</td>\n",
       "      <td>...</td>\n",
       "      <td>...</td>\n",
       "      <td>...</td>\n",
       "      <td>...</td>\n",
       "      <td>...</td>\n",
       "      <td>...</td>\n",
       "      <td>...</td>\n",
       "      <td>...</td>\n",
       "      <td>...</td>\n",
       "      <td>...</td>\n",
       "      <td>...</td>\n",
       "      <td>...</td>\n",
       "      <td>...</td>\n",
       "      <td>...</td>\n",
       "      <td>...</td>\n",
       "      <td>...</td>\n",
       "      <td>...</td>\n",
       "      <td>...</td>\n",
       "      <td>...</td>\n",
       "      <td>...</td>\n",
       "      <td>...</td>\n",
       "      <td>...</td>\n",
       "    </tr>\n",
       "    <tr>\n",
       "      <th>6166500</th>\n",
       "      <td>0</td>\n",
       "      <td>0</td>\n",
       "      <td>0</td>\n",
       "      <td>40.55000</td>\n",
       "      <td>-73.85000</td>\n",
       "      <td>27.49000</td>\n",
       "      <td>10000.00000</td>\n",
       "      <td>29.40000</td>\n",
       "      <td>26.05000</td>\n",
       "      <td>28.38000</td>\n",
       "      <td>4.63000</td>\n",
       "      <td>7.23521</td>\n",
       "      <td>0.00000</td>\n",
       "      <td>0.00000</td>\n",
       "      <td>0.00000</td>\n",
       "      <td>0.00000</td>\n",
       "      <td>0.00000</td>\n",
       "      <td>800.00000</td>\n",
       "      <td>Clear</td>\n",
       "      <td>sky is clear</td>\n",
       "      <td>High Visibility</td>\n",
       "      <td>No Rain</td>\n",
       "      <td>No Snow</td>\n",
       "      <td>40.55_-73.85</td>\n",
       "      <td>55</td>\n",
       "      <td>2025-07-24 22:00:00</td>\n",
       "      <td>109115</td>\n",
       "      <td>-73.85000</td>\n",
       "      <td>40.55000</td>\n",
       "      <td>22</td>\n",
       "      <td>0</td>\n",
       "      <td>0</td>\n",
       "      <td>0</td>\n",
       "      <td>0</td>\n",
       "      <td>-0.50000</td>\n",
       "      <td>0.86603</td>\n",
       "      <td>-0.37771</td>\n",
       "      <td>-0.92592</td>\n",
       "      <td>4.00000</td>\n",
       "      <td>0.00000</td>\n",
       "      <td>0.00000</td>\n",
       "      <td>-0.07530</td>\n",
       "      <td>0</td>\n",
       "      <td>0</td>\n",
       "      <td>0</td>\n",
       "      <td>1</td>\n",
       "      <td>0</td>\n",
       "      <td>0</td>\n",
       "      <td>0</td>\n",
       "      <td>1</td>\n",
       "      <td>0</td>\n",
       "      <td>1</td>\n",
       "      <td>0</td>\n",
       "      <td>0</td>\n",
       "      <td>0</td>\n",
       "    </tr>\n",
       "    <tr>\n",
       "      <th>6166501</th>\n",
       "      <td>0</td>\n",
       "      <td>0</td>\n",
       "      <td>0</td>\n",
       "      <td>40.55000</td>\n",
       "      <td>-73.85000</td>\n",
       "      <td>26.11000</td>\n",
       "      <td>10000.00000</td>\n",
       "      <td>26.11000</td>\n",
       "      <td>24.93000</td>\n",
       "      <td>27.15000</td>\n",
       "      <td>6.17000</td>\n",
       "      <td>9.64174</td>\n",
       "      <td>0.00000</td>\n",
       "      <td>0.00000</td>\n",
       "      <td>0.00000</td>\n",
       "      <td>0.00000</td>\n",
       "      <td>0.00000</td>\n",
       "      <td>800.00000</td>\n",
       "      <td>Clear</td>\n",
       "      <td>sky is clear</td>\n",
       "      <td>High Visibility</td>\n",
       "      <td>No Rain</td>\n",
       "      <td>No Snow</td>\n",
       "      <td>40.55_-73.85</td>\n",
       "      <td>55</td>\n",
       "      <td>2025-07-24 23:00:00</td>\n",
       "      <td>109116</td>\n",
       "      <td>-73.85000</td>\n",
       "      <td>40.55000</td>\n",
       "      <td>23</td>\n",
       "      <td>0</td>\n",
       "      <td>0</td>\n",
       "      <td>0</td>\n",
       "      <td>0</td>\n",
       "      <td>-0.25882</td>\n",
       "      <td>0.96593</td>\n",
       "      <td>-0.37771</td>\n",
       "      <td>-0.92592</td>\n",
       "      <td>4.00000</td>\n",
       "      <td>0.00000</td>\n",
       "      <td>0.00000</td>\n",
       "      <td>0.42147</td>\n",
       "      <td>0</td>\n",
       "      <td>0</td>\n",
       "      <td>0</td>\n",
       "      <td>1</td>\n",
       "      <td>0</td>\n",
       "      <td>0</td>\n",
       "      <td>0</td>\n",
       "      <td>1</td>\n",
       "      <td>0</td>\n",
       "      <td>0</td>\n",
       "      <td>1</td>\n",
       "      <td>0</td>\n",
       "      <td>0</td>\n",
       "    </tr>\n",
       "    <tr>\n",
       "      <th>6166502</th>\n",
       "      <td>0</td>\n",
       "      <td>0</td>\n",
       "      <td>0</td>\n",
       "      <td>40.55000</td>\n",
       "      <td>-73.85000</td>\n",
       "      <td>25.71000</td>\n",
       "      <td>10000.00000</td>\n",
       "      <td>26.16000</td>\n",
       "      <td>24.94000</td>\n",
       "      <td>26.61000</td>\n",
       "      <td>4.63000</td>\n",
       "      <td>8.23000</td>\n",
       "      <td>0.00000</td>\n",
       "      <td>0.00000</td>\n",
       "      <td>0.00000</td>\n",
       "      <td>0.00000</td>\n",
       "      <td>0.00000</td>\n",
       "      <td>800.00000</td>\n",
       "      <td>Clear</td>\n",
       "      <td>sky is clear</td>\n",
       "      <td>High Visibility</td>\n",
       "      <td>No Rain</td>\n",
       "      <td>No Snow</td>\n",
       "      <td>40.55_-73.85</td>\n",
       "      <td>55</td>\n",
       "      <td>2025-07-25 00:00:00</td>\n",
       "      <td>109117</td>\n",
       "      <td>-73.85000</td>\n",
       "      <td>40.55000</td>\n",
       "      <td>0</td>\n",
       "      <td>0</td>\n",
       "      <td>0</td>\n",
       "      <td>0</td>\n",
       "      <td>0</td>\n",
       "      <td>0.00000</td>\n",
       "      <td>1.00000</td>\n",
       "      <td>-0.39359</td>\n",
       "      <td>-0.91929</td>\n",
       "      <td>4.00000</td>\n",
       "      <td>0.00000</td>\n",
       "      <td>0.00000</td>\n",
       "      <td>0.13005</td>\n",
       "      <td>0</td>\n",
       "      <td>0</td>\n",
       "      <td>0</td>\n",
       "      <td>1</td>\n",
       "      <td>0</td>\n",
       "      <td>0</td>\n",
       "      <td>0</td>\n",
       "      <td>1</td>\n",
       "      <td>0</td>\n",
       "      <td>1</td>\n",
       "      <td>0</td>\n",
       "      <td>0</td>\n",
       "      <td>0</td>\n",
       "    </tr>\n",
       "    <tr>\n",
       "      <th>6166503</th>\n",
       "      <td>0</td>\n",
       "      <td>0</td>\n",
       "      <td>0</td>\n",
       "      <td>40.55000</td>\n",
       "      <td>-73.85000</td>\n",
       "      <td>25.60000</td>\n",
       "      <td>10000.00000</td>\n",
       "      <td>26.04000</td>\n",
       "      <td>24.93000</td>\n",
       "      <td>26.15000</td>\n",
       "      <td>4.63000</td>\n",
       "      <td>7.23521</td>\n",
       "      <td>0.00000</td>\n",
       "      <td>0.00000</td>\n",
       "      <td>0.00000</td>\n",
       "      <td>0.00000</td>\n",
       "      <td>0.00000</td>\n",
       "      <td>800.00000</td>\n",
       "      <td>Clear</td>\n",
       "      <td>sky is clear</td>\n",
       "      <td>High Visibility</td>\n",
       "      <td>No Rain</td>\n",
       "      <td>No Snow</td>\n",
       "      <td>40.55_-73.85</td>\n",
       "      <td>55</td>\n",
       "      <td>2025-07-25 01:00:00</td>\n",
       "      <td>109118</td>\n",
       "      <td>-73.85000</td>\n",
       "      <td>40.55000</td>\n",
       "      <td>1</td>\n",
       "      <td>0</td>\n",
       "      <td>0</td>\n",
       "      <td>0</td>\n",
       "      <td>0</td>\n",
       "      <td>0.25882</td>\n",
       "      <td>0.96593</td>\n",
       "      <td>-0.39359</td>\n",
       "      <td>-0.91929</td>\n",
       "      <td>4.00000</td>\n",
       "      <td>0.00000</td>\n",
       "      <td>0.00000</td>\n",
       "      <td>-0.07530</td>\n",
       "      <td>0</td>\n",
       "      <td>0</td>\n",
       "      <td>0</td>\n",
       "      <td>1</td>\n",
       "      <td>0</td>\n",
       "      <td>0</td>\n",
       "      <td>0</td>\n",
       "      <td>1</td>\n",
       "      <td>0</td>\n",
       "      <td>1</td>\n",
       "      <td>0</td>\n",
       "      <td>0</td>\n",
       "      <td>0</td>\n",
       "    </tr>\n",
       "    <tr>\n",
       "      <th>6166504</th>\n",
       "      <td>1</td>\n",
       "      <td>0</td>\n",
       "      <td>0</td>\n",
       "      <td>40.55000</td>\n",
       "      <td>-73.85000</td>\n",
       "      <td>25.65000</td>\n",
       "      <td>10000.00000</td>\n",
       "      <td>26.07000</td>\n",
       "      <td>24.40000</td>\n",
       "      <td>26.16000</td>\n",
       "      <td>4.63000</td>\n",
       "      <td>7.23521</td>\n",
       "      <td>0.00000</td>\n",
       "      <td>0.00000</td>\n",
       "      <td>0.00000</td>\n",
       "      <td>0.00000</td>\n",
       "      <td>20.00000</td>\n",
       "      <td>801.00000</td>\n",
       "      <td>Clouds</td>\n",
       "      <td>few clouds</td>\n",
       "      <td>High Visibility</td>\n",
       "      <td>No Rain</td>\n",
       "      <td>No Snow</td>\n",
       "      <td>40.55_-73.85</td>\n",
       "      <td>55</td>\n",
       "      <td>2025-07-25 02:00:00</td>\n",
       "      <td>109119</td>\n",
       "      <td>-73.85000</td>\n",
       "      <td>40.55000</td>\n",
       "      <td>2</td>\n",
       "      <td>0</td>\n",
       "      <td>0</td>\n",
       "      <td>0</td>\n",
       "      <td>0</td>\n",
       "      <td>0.50000</td>\n",
       "      <td>0.86603</td>\n",
       "      <td>-0.39359</td>\n",
       "      <td>-0.91929</td>\n",
       "      <td>4.00000</td>\n",
       "      <td>0.00000</td>\n",
       "      <td>0.00000</td>\n",
       "      <td>-0.07530</td>\n",
       "      <td>0</td>\n",
       "      <td>0</td>\n",
       "      <td>0</td>\n",
       "      <td>1</td>\n",
       "      <td>0</td>\n",
       "      <td>0</td>\n",
       "      <td>0</td>\n",
       "      <td>1</td>\n",
       "      <td>0</td>\n",
       "      <td>1</td>\n",
       "      <td>0</td>\n",
       "      <td>0</td>\n",
       "      <td>0</td>\n",
       "    </tr>\n",
       "  </tbody>\n",
       "</table>\n",
       "<p>6165771 rows × 55 columns</p>\n",
       "</div>"
      ],
      "text/plain": [
       "         accident_count  number_of_persons_injured  number_of_persons_killed  \\\n",
       "0                     3                          0                         0   \n",
       "1                     1                          0                         0   \n",
       "2                     3                          0                         0   \n",
       "3                     2                          0                         0   \n",
       "4                     0                          0                         0   \n",
       "...                 ...                        ...                       ...   \n",
       "6166500               0                          0                         0   \n",
       "6166501               0                          0                         0   \n",
       "6166502               0                          0                         0   \n",
       "6166503               0                          0                         0   \n",
       "6166504               1                          0                         0   \n",
       "\n",
       "         grid_lat  grid_lon     temp  visibility  feels_like  temp_min  \\\n",
       "0        40.75000 -74.00000  3.06000 10000.00000    -2.60000   2.71000   \n",
       "1        40.75000 -74.00000  3.07000 10000.00000    -1.84000   3.01000   \n",
       "2        40.75000 -74.00000  3.07000 10000.00000    -1.84000   3.01000   \n",
       "3        40.75000 -74.00000  3.38000 10000.00000    -1.83000   3.15000   \n",
       "4        40.75000 -74.00000  3.38000 10000.00000    -2.01000   3.15000   \n",
       "...           ...       ...      ...         ...         ...       ...   \n",
       "6166500  40.55000 -73.85000 27.49000 10000.00000    29.40000  26.05000   \n",
       "6166501  40.55000 -73.85000 26.11000 10000.00000    26.11000  24.93000   \n",
       "6166502  40.55000 -73.85000 25.71000 10000.00000    26.16000  24.94000   \n",
       "6166503  40.55000 -73.85000 25.60000 10000.00000    26.04000  24.93000   \n",
       "6166504  40.55000 -73.85000 25.65000 10000.00000    26.07000  24.40000   \n",
       "\n",
       "         temp_max  wind_speed  wind_gust  rain_1h  rain_3h  snow_1h  snow_3h  \\\n",
       "0         3.25000     8.74000   12.85000  0.00000  0.00000  0.00000  0.00000   \n",
       "1         3.93000     6.68000   11.82000  0.00000  0.00000  0.00000  0.00000   \n",
       "2         3.93000     6.68000    9.77000  0.00000  0.00000  0.00000  0.00000   \n",
       "3         4.35000     7.71000   12.85000  0.00000  0.00000  0.00000  0.00000   \n",
       "4         4.35000     8.22000   12.85000  0.00000  0.00000  0.00000  0.00000   \n",
       "...           ...         ...        ...      ...      ...      ...      ...   \n",
       "6166500  28.38000     4.63000    7.23521  0.00000  0.00000  0.00000  0.00000   \n",
       "6166501  27.15000     6.17000    9.64174  0.00000  0.00000  0.00000  0.00000   \n",
       "6166502  26.61000     4.63000    8.23000  0.00000  0.00000  0.00000  0.00000   \n",
       "6166503  26.15000     4.63000    7.23521  0.00000  0.00000  0.00000  0.00000   \n",
       "6166504  26.16000     4.63000    7.23521  0.00000  0.00000  0.00000  0.00000   \n",
       "\n",
       "         clouds_all  weather_id weather_main weather_description  \\\n",
       "0         100.00000   804.00000       Clouds     overcast clouds   \n",
       "1         100.00000   804.00000       Clouds     overcast clouds   \n",
       "2         100.00000   804.00000       Clouds     overcast clouds   \n",
       "3         100.00000   804.00000       Clouds     overcast clouds   \n",
       "4         100.00000   804.00000       Clouds     overcast clouds   \n",
       "...             ...         ...          ...                 ...   \n",
       "6166500     0.00000   800.00000        Clear        sky is clear   \n",
       "6166501     0.00000   800.00000        Clear        sky is clear   \n",
       "6166502     0.00000   800.00000        Clear        sky is clear   \n",
       "6166503     0.00000   800.00000        Clear        sky is clear   \n",
       "6166504    20.00000   801.00000       Clouds          few clouds   \n",
       "\n",
       "        visibility_category rain_3h_category snow_3h_category   location_id  \\\n",
       "0           High Visibility          No Rain          No Snow   40.75_-74.0   \n",
       "1           High Visibility          No Rain          No Snow   40.75_-74.0   \n",
       "2           High Visibility          No Rain          No Snow   40.75_-74.0   \n",
       "3           High Visibility          No Rain          No Snow   40.75_-74.0   \n",
       "4           High Visibility          No Rain          No Snow   40.75_-74.0   \n",
       "...                     ...              ...              ...           ...   \n",
       "6166500     High Visibility          No Rain          No Snow  40.55_-73.85   \n",
       "6166501     High Visibility          No Rain          No Snow  40.55_-73.85   \n",
       "6166502     High Visibility          No Rain          No Snow  40.55_-73.85   \n",
       "6166503     High Visibility          No Rain          No Snow  40.55_-73.85   \n",
       "6166504     High Visibility          No Rain          No Snow  40.55_-73.85   \n",
       "\n",
       "         bin_id            datetime  hour_index     x_bin    y_bin  hour  \\\n",
       "0             0 2012-12-31 19:00:00           0 -74.00000 40.75000    19   \n",
       "1             0 2012-12-31 20:00:00           1 -74.00000 40.75000    20   \n",
       "2             0 2012-12-31 21:00:00           2 -74.00000 40.75000    21   \n",
       "3             0 2012-12-31 22:00:00           3 -74.00000 40.75000    22   \n",
       "4             0 2012-12-31 23:00:00           4 -74.00000 40.75000    23   \n",
       "...         ...                 ...         ...       ...      ...   ...   \n",
       "6166500      55 2025-07-24 22:00:00      109115 -73.85000 40.55000    22   \n",
       "6166501      55 2025-07-24 23:00:00      109116 -73.85000 40.55000    23   \n",
       "6166502      55 2025-07-25 00:00:00      109117 -73.85000 40.55000     0   \n",
       "6166503      55 2025-07-25 01:00:00      109118 -73.85000 40.55000     1   \n",
       "6166504      55 2025-07-25 02:00:00      109119 -73.85000 40.55000     2   \n",
       "\n",
       "         is_weekend  is_morning_rush  is_evening_rush  is_rush_hour  sin_hour  \\\n",
       "0                 0                0                1             1  -0.96593   \n",
       "1                 0                0                0             0  -0.86603   \n",
       "2                 0                0                0             0  -0.70711   \n",
       "3                 0                0                0             0  -0.50000   \n",
       "4                 0                0                0             0  -0.25882   \n",
       "...             ...              ...              ...           ...       ...   \n",
       "6166500           0                0                0             0  -0.50000   \n",
       "6166501           0                0                0             0  -0.25882   \n",
       "6166502           0                0                0             0   0.00000   \n",
       "6166503           0                0                0             0   0.25882   \n",
       "6166504           0                0                0             0   0.50000   \n",
       "\n",
       "         cos_hour  sin_day  cos_day  log10_visibility  normalized_rain  \\\n",
       "0         0.25882  0.01721  0.99985           4.00000          0.00000   \n",
       "1         0.50000  0.01721  0.99985           4.00000          0.00000   \n",
       "2         0.70711  0.01721  0.99985           4.00000          0.00000   \n",
       "3         0.86603  0.01721  0.99985           4.00000          0.00000   \n",
       "4         0.96593  0.01721  0.99985           4.00000          0.00000   \n",
       "...           ...      ...      ...               ...              ...   \n",
       "6166500   0.86603 -0.37771 -0.92592           4.00000          0.00000   \n",
       "6166501   0.96593 -0.37771 -0.92592           4.00000          0.00000   \n",
       "6166502   1.00000 -0.39359 -0.91929           4.00000          0.00000   \n",
       "6166503   0.96593 -0.39359 -0.91929           4.00000          0.00000   \n",
       "6166504   0.86603 -0.39359 -0.91929           4.00000          0.00000   \n",
       "\n",
       "         normalized_snow  normalized_wind_gust  snow_1h_category_Heavy Snow  \\\n",
       "0                0.00000               1.08375                            0   \n",
       "1                0.00000               0.87112                            0   \n",
       "2                0.00000               0.44795                            0   \n",
       "3                0.00000               1.08375                            0   \n",
       "4                0.00000               1.08375                            0   \n",
       "...                  ...                   ...                          ...   \n",
       "6166500          0.00000              -0.07530                            0   \n",
       "6166501          0.00000               0.42147                            0   \n",
       "6166502          0.00000               0.13005                            0   \n",
       "6166503          0.00000              -0.07530                            0   \n",
       "6166504          0.00000              -0.07530                            0   \n",
       "\n",
       "         snow_1h_category_Light Snow  snow_1h_category_Moderate Snow  \\\n",
       "0                                  0                               0   \n",
       "1                                  0                               0   \n",
       "2                                  0                               0   \n",
       "3                                  0                               0   \n",
       "4                                  0                               0   \n",
       "...                              ...                             ...   \n",
       "6166500                            0                               0   \n",
       "6166501                            0                               0   \n",
       "6166502                            0                               0   \n",
       "6166503                            0                               0   \n",
       "6166504                            0                               0   \n",
       "\n",
       "         snow_1h_category_No Snow  rain_1h_category_Heavy Rain  \\\n",
       "0                               1                            0   \n",
       "1                               1                            0   \n",
       "2                               1                            0   \n",
       "3                               1                            0   \n",
       "4                               1                            0   \n",
       "...                           ...                          ...   \n",
       "6166500                         1                            0   \n",
       "6166501                         1                            0   \n",
       "6166502                         1                            0   \n",
       "6166503                         1                            0   \n",
       "6166504                         1                            0   \n",
       "\n",
       "         rain_1h_category_Light Rain  rain_1h_category_Moderate Rain  \\\n",
       "0                                  0                               0   \n",
       "1                                  0                               0   \n",
       "2                                  0                               0   \n",
       "3                                  0                               0   \n",
       "4                                  0                               0   \n",
       "...                              ...                             ...   \n",
       "6166500                            0                               0   \n",
       "6166501                            0                               0   \n",
       "6166502                            0                               0   \n",
       "6166503                            0                               0   \n",
       "6166504                            0                               0   \n",
       "\n",
       "         rain_1h_category_No Rain  wind_intensity_Calm  \\\n",
       "0                               1                    0   \n",
       "1                               1                    0   \n",
       "2                               1                    0   \n",
       "3                               1                    0   \n",
       "4                               1                    0   \n",
       "...                           ...                  ...   \n",
       "6166500                         1                    0   \n",
       "6166501                         1                    0   \n",
       "6166502                         1                    0   \n",
       "6166503                         1                    0   \n",
       "6166504                         1                    0   \n",
       "\n",
       "         wind_intensity_Light Wind  wind_intensity_Moderate Wind  \\\n",
       "0                                0                             1   \n",
       "1                                0                             1   \n",
       "2                                0                             1   \n",
       "3                                0                             1   \n",
       "4                                0                             1   \n",
       "...                            ...                           ...   \n",
       "6166500                          1                             0   \n",
       "6166501                          0                             1   \n",
       "6166502                          1                             0   \n",
       "6166503                          1                             0   \n",
       "6166504                          1                             0   \n",
       "\n",
       "         wind_intensity_Strong Wind  wind_intensity_Very Strong Wind  \n",
       "0                                 0                                0  \n",
       "1                                 0                                0  \n",
       "2                                 0                                0  \n",
       "3                                 0                                0  \n",
       "4                                 0                                0  \n",
       "...                             ...                              ...  \n",
       "6166500                           0                                0  \n",
       "6166501                           0                                0  \n",
       "6166502                           0                                0  \n",
       "6166503                           0                                0  \n",
       "6166504                           0                                0  \n",
       "\n",
       "[6165771 rows x 55 columns]"
      ]
     },
     "execution_count": 9,
     "metadata": {},
     "output_type": "execute_result"
    }
   ],
   "source": [
    "df_encoded"
   ]
  },
  {
   "cell_type": "markdown",
   "metadata": {},
   "source": [
    "### Checkpoint"
   ]
  },
  {
   "cell_type": "code",
   "execution_count": 10,
   "metadata": {},
   "outputs": [],
   "source": [
    "save_pkl(df_encoded, \"./data/ts_agg_encoded_50bins.pkl\")"
   ]
  },
  {
   "cell_type": "markdown",
   "metadata": {},
   "source": [
    "## Step 5: Model Learning\n",
    "\n",
    "Forecasting the risk of future accidents is equivalent to predicting the rate of accidents for a future hour (i.e., predicting the underlying intensity of a **Poisson distribution**)\n",
    "\n",
    "We can look at the **Cox process**, which is a doubly-stochastic process in which the intensity also varies stochastically over the state space.\n",
    "    \n",
    "&emsp;(This differs from the Poisson distribution, where the intensity is assumed to be fixed)\n",
    "\n",
    "This framework suits our problem, as we can transform our problem into learning this intensity rate (i.e., the Poisson distribution) at each location given temporal weather data."
   ]
  },
  {
   "cell_type": "code",
   "execution_count": 12,
   "metadata": {},
   "outputs": [],
   "source": [
    "df_encoded = load_pkl(\"./data/ts_agg_encoded_50bins.pkl\")"
   ]
  },
  {
   "cell_type": "markdown",
   "metadata": {},
   "source": [
    "### Step 5.1 Non-Spatial Poisson Regression\n",
    "\n",
    "We explore a non-spatial approach to learning patterns as a starting point.\n",
    "\n",
    "We use a Bayesian approach to learning the underlying Poisson intensity given weather conditions, not considering spatial features."
   ]
  },
  {
   "cell_type": "markdown",
   "metadata": {},
   "source": [
    "Let's filter out some of our features to trim down on dimensionality (for now).\n",
    "\n",
    "For future work, we should explore of other combinations of these features."
   ]
  },
  {
   "cell_type": "code",
   "execution_count": 14,
   "metadata": {},
   "outputs": [
    {
     "name": "stdout",
     "output_type": "stream",
     "text": [
      "<class 'pandas.core.frame.DataFrame'>\n",
      "Index: 6165771 entries, 0 to 6166504\n",
      "Data columns (total 11 columns):\n",
      " #   Column                Dtype  \n",
      "---  ------                -----  \n",
      " 0   accident_count        int64  \n",
      " 1   grid_lat              float64\n",
      " 2   grid_lon              float64\n",
      " 3   bin_id                int64  \n",
      " 4   location_id           object \n",
      " 5   is_weekend            int64  \n",
      " 6   is_rush_hour          int64  \n",
      " 7   normalized_rain       float64\n",
      " 8   normalized_snow       float64\n",
      " 9   normalized_wind_gust  float64\n",
      " 10  log10_visibility      float64\n",
      "dtypes: float64(6), int64(4), object(1)\n",
      "memory usage: 564.5+ MB\n"
     ]
    }
   ],
   "source": [
    "feature_columns = [\n",
    "    \"accident_count\", \n",
    "    \"grid_lat\", \n",
    "    \"grid_lon\", \n",
    "    \"bin_id\", \n",
    "    \"location_id\", \n",
    "    # \"hour\", \n",
    "    \"is_weekend\", \n",
    "    # \"is_morning_rush\",\n",
    "    # \"is_evening_rush\",\n",
    "    \"is_rush_hour\",\n",
    "    # \"sin_hour\",\n",
    "    # \"cos_hour\",\n",
    "    # \"sin_day\",\n",
    "    # \"cos_day\",\n",
    "    \"normalized_rain\",\n",
    "    \"normalized_snow\",\n",
    "    \"normalized_wind_gust\",\n",
    "    \"log10_visibility\"\n",
    "    # 'snow_1h_category_Heavy Snow',\n",
    "    # 'snow_1h_category_Light Snow', \n",
    "    # 'snow_1h_category_Moderate Snow',\n",
    "    # 'snow_1h_category_No Snow', \n",
    "    # 'rain_1h_category_Heavy Rain',\n",
    "    # 'rain_1h_category_Light Rain',\n",
    "    # 'rain_1h_category_Moderate Rain',\n",
    "    # 'rain_1h_category_No Rain',\n",
    "    # 'wind_intensity_Calm',\n",
    "    # 'wind_intensity_Light Wind',\n",
    "    # 'wind_intensity_Moderate Wind',\n",
    "    # 'wind_intensity_Strong Wind',\n",
    "    # 'wind_intensity_Very Strong Wind'\n",
    "]\n",
    "\n",
    "observed_data = df_encoded[feature_columns].dropna()\n",
    "observed_data.info()"
   ]
  },
  {
   "cell_type": "markdown",
   "metadata": {},
   "source": [
    "#### Step 5.1.1 Gaussian Priors for Features\n",
    "\n",
    "We can introduce some Gaussian priors before we learn our posterior."
   ]
  },
  {
   "cell_type": "code",
   "execution_count": 15,
   "metadata": {},
   "outputs": [],
   "source": [
    "priors = {\n",
    "    \"is_weekend\": (-0.1, 0.3),\n",
    "    \"is_rush_hour\": (0.2, 0.3),\n",
    "    \"normalized_rain\": (0.1, 0.3),\n",
    "    \"normalized_snow\": (0.1, 0.3),\n",
    "    \"normalized_wind_gust\": (0.1, 0.3),\n",
    "    \"log10_visibility\": (-0.1, 0.2),\n",
    "    \"snow_1h_category_Heavy Snow\": (0, 0.3),\n",
    "    \"snow_1h_category_Light Snow\": (0.1, 0.3),\n",
    "    \"snow_1h_category_Moderate Snow\": (0.2, 0.3),\n",
    "    \"rain_1h_category_Light Rain\": (0, 0.3),\n",
    "    \"rain_1h_category_Moderate Rain\": (0.2, 0.3),\n",
    "    \"rain_1h_category_Heavy Rain\": (0.1, 0.3),\n",
    "    \"wind_intensity_Light Wind\": (0, 0.2),\n",
    "    \"wind_intensity_Moderate Wind\": (0, 0.3),\n",
    "    \"wind_intensity_Strong Wind\": (0.1, 0.3),\n",
    "    \"wind_intensity_Very Strong Wind\": (0.15, 0.3)\n",
    "}"
   ]
  },
  {
   "cell_type": "code",
   "execution_count": null,
   "metadata": {},
   "outputs": [],
   "source": [
    "from typing_extensions import TypedDict\n",
    "from typing import Any, List, Optional\n",
    "\n",
    "class BayesianModel(TypedDict):\n",
    "    approx: Any\n",
    "    summary: Any\n",
    "    model_features: List[str]\n",
    "    model: Any\n",
    "\n",
    "def non_spatial_models(df, feature_columns, priors = None) -> BayesianModel:\n",
    "    response_col = \"accident_count\"\n",
    "    spatial_cols = [\"grid_lat\", \"grid_lon\"]\n",
    "    id_cols = [\"bin_id\", \"location_id\", \"hour\"]\n",
    "    model_features = [col for col in feature_columns \n",
    "                      if col not in [response_col] + spatial_cols + id_cols]\n",
    "    print(f\"Learning model with {len(model_features)} factors\")\n",
    "    results = {}\n",
    "    # We independently run our Bayesian inference on our bins\n",
    "    for location_id in tqdm(df[\"location_id\"].unique(), desc=\"Running variational inference on individiual bins...\"):\n",
    "        location_data = df[df[\"location_id\"] == location_id]\n",
    "        \n",
    "        X_loc = location_data[model_features].values\n",
    "        y_loc = location_data[response_col].values\n",
    "        \n",
    "        print(f\"\\tObservations: {len(location_data)}, Accidents: {y_loc.sum()}\")\n",
    "        \n",
    "        with pm.Model() as model_loc:\n",
    "            # Create beta coefficients\n",
    "            betas = []\n",
    "            for feature in model_features:\n",
    "                if priors:\n",
    "                    mu, sigma = priors[feature]\n",
    "                    betas.append(pm.Normal(f\"beta_{feature}\", mu=mu, sigma=sigma))\n",
    "                else:\n",
    "                    betas.append(pm.Normal(f\"beta_{feature}\", mu=0, sigma=0.7))\n",
    "            \n",
    "            # Stack into vector for efficient computation\n",
    "            beta = pm.math.stack(betas)\n",
    "            intercept = pm.Normal(\"intercept\", mu=0, sigma=1)\n",
    "            \n",
    "            # Linear combination using dot product\n",
    "            linear_combination = pm.math.dot(X_loc, beta)\n",
    "            expected_count = pm.math.exp(intercept + linear_combination)\n",
    "            \n",
    "            # Likelihood\n",
    "            pm.Poisson(\"accidents\", expected_count, observed=y_loc)\n",
    "            \n",
    "        with model_loc:\n",
    "            approx_loc = pm.fit(n=10000, method=\"advi\")\n",
    "            trace_loc = approx_loc.sample(1000)\n",
    "            \n",
    "        results[location_id] = {\n",
    "            \"approx\": approx_loc,\n",
    "            \"summary\": pm.summary(trace_loc),\n",
    "            \"model_features\": model_features,\n",
    "            \"model\": model_loc\n",
    "        }\n",
    "        \n",
    "    return results\n",
    "    "
   ]
  },
  {
   "cell_type": "code",
   "execution_count": 15,
   "metadata": {},
   "outputs": [
    {
     "name": "stdout",
     "output_type": "stream",
     "text": [
      "Learning model with 12 factors\n"
     ]
    },
    {
     "name": "stderr",
     "output_type": "stream",
     "text": [
      "Running variational inference on individiual bins...:   0%|          | 0/56 [00:00<?, ?it/s]"
     ]
    },
    {
     "name": "stdout",
     "output_type": "stream",
     "text": [
      "\tObservations: 110224, Accidents: 146648\n"
     ]
    },
    {
     "data": {
      "text/html": [
       "<pre style=\"white-space:pre;overflow-x:auto;line-height:normal;font-family:Menlo,'DejaVu Sans Mono',consolas,'Courier New',monospace\"></pre>\n"
      ],
      "text/plain": []
     },
     "metadata": {},
     "output_type": "display_data"
    },
    {
     "name": "stderr",
     "output_type": "stream",
     "text": [
      "Finished [100%]: Average Loss = 1.9534e+05\n",
      "arviz - WARNING - Shape validation failed: input_shape: (1, 1000), minimum_shape: (chains=2, draws=4)\n",
      "Running variational inference on individiual bins...:   2%|▏         | 1/56 [00:31<29:09, 31.80s/it]"
     ]
    },
    {
     "name": "stdout",
     "output_type": "stream",
     "text": [
      "\tObservations: 110224, Accidents: 126029\n"
     ]
    },
    {
     "data": {
      "text/html": [
       "<pre style=\"white-space:pre;overflow-x:auto;line-height:normal;font-family:Menlo,'DejaVu Sans Mono',consolas,'Courier New',monospace\"></pre>\n"
      ],
      "text/plain": []
     },
     "metadata": {},
     "output_type": "display_data"
    },
    {
     "name": "stderr",
     "output_type": "stream",
     "text": [
      "Finished [100%]: Average Loss = 1.7568e+05\n",
      "arviz - WARNING - Shape validation failed: input_shape: (1, 1000), minimum_shape: (chains=2, draws=4)\n",
      "Running variational inference on individiual bins...:   4%|▎         | 2/56 [01:04<29:19, 32.58s/it]"
     ]
    },
    {
     "name": "stdout",
     "output_type": "stream",
     "text": [
      "\tObservations: 110223, Accidents: 105810\n"
     ]
    },
    {
     "data": {
      "text/html": [
       "<pre style=\"white-space:pre;overflow-x:auto;line-height:normal;font-family:Menlo,'DejaVu Sans Mono',consolas,'Courier New',monospace\"></pre>\n"
      ],
      "text/plain": []
     },
     "metadata": {},
     "output_type": "display_data"
    },
    {
     "name": "stderr",
     "output_type": "stream",
     "text": [
      "Finished [100%]: Average Loss = 1.547e+05\n",
      "arviz - WARNING - Shape validation failed: input_shape: (1, 1000), minimum_shape: (chains=2, draws=4)\n",
      "Running variational inference on individiual bins...:   5%|▌         | 3/56 [01:37<28:39, 32.45s/it]"
     ]
    },
    {
     "name": "stdout",
     "output_type": "stream",
     "text": [
      "\tObservations: 110222, Accidents: 102696\n"
     ]
    },
    {
     "data": {
      "text/html": [
       "<pre style=\"white-space:pre;overflow-x:auto;line-height:normal;font-family:Menlo,'DejaVu Sans Mono',consolas,'Courier New',monospace\"></pre>\n"
      ],
      "text/plain": []
     },
     "metadata": {},
     "output_type": "display_data"
    },
    {
     "name": "stderr",
     "output_type": "stream",
     "text": [
      "Finished [100%]: Average Loss = 1.5243e+05\n",
      "arviz - WARNING - Shape validation failed: input_shape: (1, 1000), minimum_shape: (chains=2, draws=4)\n",
      "Running variational inference on individiual bins...:   7%|▋         | 4/56 [02:10<28:23, 32.76s/it]"
     ]
    },
    {
     "name": "stdout",
     "output_type": "stream",
     "text": [
      "\tObservations: 110218, Accidents: 95115\n"
     ]
    },
    {
     "data": {
      "text/html": [
       "<pre style=\"white-space:pre;overflow-x:auto;line-height:normal;font-family:Menlo,'DejaVu Sans Mono',consolas,'Courier New',monospace\"></pre>\n"
      ],
      "text/plain": []
     },
     "metadata": {},
     "output_type": "display_data"
    },
    {
     "name": "stderr",
     "output_type": "stream",
     "text": [
      "Finished [100%]: Average Loss = 1.4695e+05\n",
      "arviz - WARNING - Shape validation failed: input_shape: (1, 1000), minimum_shape: (chains=2, draws=4)\n",
      "Running variational inference on individiual bins...:   9%|▉         | 5/56 [02:58<32:31, 38.26s/it]"
     ]
    },
    {
     "name": "stdout",
     "output_type": "stream",
     "text": [
      "\tObservations: 110223, Accidents: 93692\n"
     ]
    },
    {
     "data": {
      "text/html": [
       "<pre style=\"white-space:pre;overflow-x:auto;line-height:normal;font-family:Menlo,'DejaVu Sans Mono',consolas,'Courier New',monospace\"></pre>\n"
      ],
      "text/plain": []
     },
     "metadata": {},
     "output_type": "display_data"
    },
    {
     "name": "stderr",
     "output_type": "stream",
     "text": [
      "Finished [100%]: Average Loss = 1.4482e+05\n",
      "arviz - WARNING - Shape validation failed: input_shape: (1, 1000), minimum_shape: (chains=2, draws=4)\n",
      "Running variational inference on individiual bins...:  11%|█         | 6/56 [03:46<34:40, 41.62s/it]"
     ]
    },
    {
     "name": "stdout",
     "output_type": "stream",
     "text": [
      "\tObservations: 110220, Accidents: 83636\n"
     ]
    },
    {
     "data": {
      "text/html": [
       "<pre style=\"white-space:pre;overflow-x:auto;line-height:normal;font-family:Menlo,'DejaVu Sans Mono',consolas,'Courier New',monospace\"></pre>\n"
      ],
      "text/plain": []
     },
     "metadata": {},
     "output_type": "display_data"
    },
    {
     "name": "stderr",
     "output_type": "stream",
     "text": [
      "Finished [100%]: Average Loss = 1.3813e+05\n",
      "arviz - WARNING - Shape validation failed: input_shape: (1, 1000), minimum_shape: (chains=2, draws=4)\n",
      "Running variational inference on individiual bins...:  12%|█▎        | 7/56 [04:35<36:03, 44.16s/it]"
     ]
    },
    {
     "name": "stdout",
     "output_type": "stream",
     "text": [
      "\tObservations: 110223, Accidents: 79138\n"
     ]
    },
    {
     "data": {
      "text/html": [
       "<pre style=\"white-space:pre;overflow-x:auto;line-height:normal;font-family:Menlo,'DejaVu Sans Mono',consolas,'Courier New',monospace\"></pre>\n"
      ],
      "text/plain": []
     },
     "metadata": {},
     "output_type": "display_data"
    },
    {
     "name": "stderr",
     "output_type": "stream",
     "text": [
      "Finished [100%]: Average Loss = 1.3144e+05\n",
      "arviz - WARNING - Shape validation failed: input_shape: (1, 1000), minimum_shape: (chains=2, draws=4)\n",
      "Running variational inference on individiual bins...:  14%|█▍        | 8/56 [05:23<36:14, 45.30s/it]"
     ]
    },
    {
     "name": "stdout",
     "output_type": "stream",
     "text": [
      "\tObservations: 110220, Accidents: 75259\n"
     ]
    },
    {
     "data": {
      "text/html": [
       "<pre style=\"white-space:pre;overflow-x:auto;line-height:normal;font-family:Menlo,'DejaVu Sans Mono',consolas,'Courier New',monospace\"></pre>\n"
      ],
      "text/plain": []
     },
     "metadata": {},
     "output_type": "display_data"
    },
    {
     "name": "stderr",
     "output_type": "stream",
     "text": [
      "Finished [100%]: Average Loss = 1.2833e+05\n",
      "arviz - WARNING - Shape validation failed: input_shape: (1, 1000), minimum_shape: (chains=2, draws=4)\n",
      "Running variational inference on individiual bins...:  16%|█▌        | 9/56 [06:11<36:00, 45.97s/it]"
     ]
    },
    {
     "name": "stdout",
     "output_type": "stream",
     "text": [
      "\tObservations: 110219, Accidents: 69927\n"
     ]
    },
    {
     "data": {
      "text/html": [
       "<pre style=\"white-space:pre;overflow-x:auto;line-height:normal;font-family:Menlo,'DejaVu Sans Mono',consolas,'Courier New',monospace\"></pre>\n"
      ],
      "text/plain": []
     },
     "metadata": {},
     "output_type": "display_data"
    },
    {
     "name": "stderr",
     "output_type": "stream",
     "text": [
      "Finished [100%]: Average Loss = 1.2295e+05\n",
      "arviz - WARNING - Shape validation failed: input_shape: (1, 1000), minimum_shape: (chains=2, draws=4)\n",
      "Running variational inference on individiual bins...:  18%|█▊        | 10/56 [06:43<31:59, 41.74s/it]"
     ]
    },
    {
     "name": "stdout",
     "output_type": "stream",
     "text": [
      "\tObservations: 110214, Accidents: 69076\n"
     ]
    },
    {
     "data": {
      "text/html": [
       "<pre style=\"white-space:pre;overflow-x:auto;line-height:normal;font-family:Menlo,'DejaVu Sans Mono',consolas,'Courier New',monospace\"></pre>\n"
      ],
      "text/plain": []
     },
     "metadata": {},
     "output_type": "display_data"
    },
    {
     "name": "stderr",
     "output_type": "stream",
     "text": [
      "Finished [100%]: Average Loss = 1.2304e+05\n",
      "arviz - WARNING - Shape validation failed: input_shape: (1, 1000), minimum_shape: (chains=2, draws=4)\n",
      "Running variational inference on individiual bins...:  20%|█▉        | 11/56 [07:14<28:53, 38.52s/it]"
     ]
    },
    {
     "name": "stdout",
     "output_type": "stream",
     "text": [
      "\tObservations: 110213, Accidents: 67323\n"
     ]
    },
    {
     "data": {
      "text/html": [
       "<pre style=\"white-space:pre;overflow-x:auto;line-height:normal;font-family:Menlo,'DejaVu Sans Mono',consolas,'Courier New',monospace\"></pre>\n"
      ],
      "text/plain": []
     },
     "metadata": {},
     "output_type": "display_data"
    },
    {
     "name": "stderr",
     "output_type": "stream",
     "text": [
      "Finished [100%]: Average Loss = 1.2087e+05\n",
      "arviz - WARNING - Shape validation failed: input_shape: (1, 1000), minimum_shape: (chains=2, draws=4)\n",
      "Running variational inference on individiual bins...:  21%|██▏       | 12/56 [07:45<26:32, 36.19s/it]"
     ]
    },
    {
     "name": "stdout",
     "output_type": "stream",
     "text": [
      "\tObservations: 110224, Accidents: 62687\n"
     ]
    },
    {
     "data": {
      "text/html": [
       "<pre style=\"white-space:pre;overflow-x:auto;line-height:normal;font-family:Menlo,'DejaVu Sans Mono',consolas,'Courier New',monospace\"></pre>\n"
      ],
      "text/plain": []
     },
     "metadata": {},
     "output_type": "display_data"
    },
    {
     "name": "stderr",
     "output_type": "stream",
     "text": [
      "Finished [100%]: Average Loss = 1.1673e+05\n",
      "arviz - WARNING - Shape validation failed: input_shape: (1, 1000), minimum_shape: (chains=2, draws=4)\n",
      "Running variational inference on individiual bins...:  23%|██▎       | 13/56 [08:16<24:53, 34.74s/it]"
     ]
    },
    {
     "name": "stdout",
     "output_type": "stream",
     "text": [
      "\tObservations: 110201, Accidents: 62410\n"
     ]
    },
    {
     "data": {
      "text/html": [
       "<pre style=\"white-space:pre;overflow-x:auto;line-height:normal;font-family:Menlo,'DejaVu Sans Mono',consolas,'Courier New',monospace\"></pre>\n"
      ],
      "text/plain": []
     },
     "metadata": {},
     "output_type": "display_data"
    },
    {
     "name": "stderr",
     "output_type": "stream",
     "text": [
      "Finished [100%]: Average Loss = 1.1627e+05\n",
      "arviz - WARNING - Shape validation failed: input_shape: (1, 1000), minimum_shape: (chains=2, draws=4)\n",
      "Running variational inference on individiual bins...:  25%|██▌       | 14/56 [08:47<23:30, 33.58s/it]"
     ]
    },
    {
     "name": "stdout",
     "output_type": "stream",
     "text": [
      "\tObservations: 110223, Accidents: 58941\n"
     ]
    },
    {
     "data": {
      "text/html": [
       "<pre style=\"white-space:pre;overflow-x:auto;line-height:normal;font-family:Menlo,'DejaVu Sans Mono',consolas,'Courier New',monospace\"></pre>\n"
      ],
      "text/plain": []
     },
     "metadata": {},
     "output_type": "display_data"
    },
    {
     "name": "stderr",
     "output_type": "stream",
     "text": [
      "Finished [100%]: Average Loss = 1.1272e+05\n",
      "arviz - WARNING - Shape validation failed: input_shape: (1, 1000), minimum_shape: (chains=2, draws=4)\n",
      "Running variational inference on individiual bins...:  27%|██▋       | 15/56 [09:19<22:37, 33.11s/it]"
     ]
    },
    {
     "name": "stdout",
     "output_type": "stream",
     "text": [
      "\tObservations: 110220, Accidents: 58368\n"
     ]
    },
    {
     "data": {
      "text/html": [
       "<pre style=\"white-space:pre;overflow-x:auto;line-height:normal;font-family:Menlo,'DejaVu Sans Mono',consolas,'Courier New',monospace\"></pre>\n"
      ],
      "text/plain": []
     },
     "metadata": {},
     "output_type": "display_data"
    },
    {
     "name": "stderr",
     "output_type": "stream",
     "text": [
      "Finished [100%]: Average Loss = 1.1261e+05\n",
      "arviz - WARNING - Shape validation failed: input_shape: (1, 1000), minimum_shape: (chains=2, draws=4)\n",
      "Running variational inference on individiual bins...:  29%|██▊       | 16/56 [09:51<21:48, 32.71s/it]"
     ]
    },
    {
     "name": "stdout",
     "output_type": "stream",
     "text": [
      "\tObservations: 110223, Accidents: 46675\n"
     ]
    },
    {
     "data": {
      "text/html": [
       "<pre style=\"white-space:pre;overflow-x:auto;line-height:normal;font-family:Menlo,'DejaVu Sans Mono',consolas,'Courier New',monospace\"></pre>\n"
      ],
      "text/plain": []
     },
     "metadata": {},
     "output_type": "display_data"
    },
    {
     "name": "stderr",
     "output_type": "stream",
     "text": [
      "Finished [100%]: Average Loss = 97,564\n",
      "arviz - WARNING - Shape validation failed: input_shape: (1, 1000), minimum_shape: (chains=2, draws=4)\n",
      "Running variational inference on individiual bins...:  30%|███       | 17/56 [14:26<1:08:37, 105.58s/it]"
     ]
    },
    {
     "name": "stdout",
     "output_type": "stream",
     "text": [
      "\tObservations: 110217, Accidents: 42502\n"
     ]
    },
    {
     "data": {
      "text/html": [
       "<pre style=\"white-space:pre;overflow-x:auto;line-height:normal;font-family:Menlo,'DejaVu Sans Mono',consolas,'Courier New',monospace\"></pre>\n"
      ],
      "text/plain": []
     },
     "metadata": {},
     "output_type": "display_data"
    },
    {
     "name": "stderr",
     "output_type": "stream",
     "text": [
      "Finished [100%]: Average Loss = 92,591\n",
      "arviz - WARNING - Shape validation failed: input_shape: (1, 1000), minimum_shape: (chains=2, draws=4)\n",
      "Running variational inference on individiual bins...:  32%|███▏      | 18/56 [14:58<52:46, 83.34s/it]   "
     ]
    },
    {
     "name": "stdout",
     "output_type": "stream",
     "text": [
      "\tObservations: 110219, Accidents: 40985\n"
     ]
    },
    {
     "data": {
      "text/html": [
       "<pre style=\"white-space:pre;overflow-x:auto;line-height:normal;font-family:Menlo,'DejaVu Sans Mono',consolas,'Courier New',monospace\"></pre>\n"
      ],
      "text/plain": []
     },
     "metadata": {},
     "output_type": "display_data"
    },
    {
     "name": "stderr",
     "output_type": "stream",
     "text": [
      "Finished [100%]: Average Loss = 90,200\n",
      "arviz - WARNING - Shape validation failed: input_shape: (1, 1000), minimum_shape: (chains=2, draws=4)\n",
      "Running variational inference on individiual bins...:  34%|███▍      | 19/56 [15:28<41:37, 67.51s/it]"
     ]
    },
    {
     "name": "stdout",
     "output_type": "stream",
     "text": [
      "\tObservations: 110206, Accidents: 38373\n"
     ]
    },
    {
     "data": {
      "text/html": [
       "<pre style=\"white-space:pre;overflow-x:auto;line-height:normal;font-family:Menlo,'DejaVu Sans Mono',consolas,'Courier New',monospace\"></pre>\n"
      ],
      "text/plain": []
     },
     "metadata": {},
     "output_type": "display_data"
    },
    {
     "name": "stderr",
     "output_type": "stream",
     "text": [
      "Finished [100%]: Average Loss = 87,182\n",
      "arviz - WARNING - Shape validation failed: input_shape: (1, 1000), minimum_shape: (chains=2, draws=4)\n",
      "Running variational inference on individiual bins...:  36%|███▌      | 20/56 [15:59<33:49, 56.38s/it]"
     ]
    },
    {
     "name": "stdout",
     "output_type": "stream",
     "text": [
      "\tObservations: 110214, Accidents: 35556\n"
     ]
    },
    {
     "data": {
      "text/html": [
       "<pre style=\"white-space:pre;overflow-x:auto;line-height:normal;font-family:Menlo,'DejaVu Sans Mono',consolas,'Courier New',monospace\"></pre>\n"
      ],
      "text/plain": []
     },
     "metadata": {},
     "output_type": "display_data"
    },
    {
     "name": "stderr",
     "output_type": "stream",
     "text": [
      "Finished [100%]: Average Loss = 82,748\n",
      "arviz - WARNING - Shape validation failed: input_shape: (1, 1000), minimum_shape: (chains=2, draws=4)\n",
      "Running variational inference on individiual bins...:  38%|███▊      | 21/56 [16:30<28:30, 48.87s/it]"
     ]
    },
    {
     "name": "stdout",
     "output_type": "stream",
     "text": [
      "\tObservations: 110208, Accidents: 31208\n"
     ]
    },
    {
     "data": {
      "text/html": [
       "<pre style=\"white-space:pre;overflow-x:auto;line-height:normal;font-family:Menlo,'DejaVu Sans Mono',consolas,'Courier New',monospace\"></pre>\n"
      ],
      "text/plain": []
     },
     "metadata": {},
     "output_type": "display_data"
    },
    {
     "name": "stderr",
     "output_type": "stream",
     "text": [
      "Finished [100%]: Average Loss = 75,980\n",
      "arviz - WARNING - Shape validation failed: input_shape: (1, 1000), minimum_shape: (chains=2, draws=4)\n",
      "Running variational inference on individiual bins...:  39%|███▉      | 22/56 [17:01<24:39, 43.52s/it]"
     ]
    },
    {
     "name": "stdout",
     "output_type": "stream",
     "text": [
      "\tObservations: 110217, Accidents: 30578\n"
     ]
    },
    {
     "data": {
      "text/html": [
       "<pre style=\"white-space:pre;overflow-x:auto;line-height:normal;font-family:Menlo,'DejaVu Sans Mono',consolas,'Courier New',monospace\"></pre>\n"
      ],
      "text/plain": []
     },
     "metadata": {},
     "output_type": "display_data"
    },
    {
     "name": "stderr",
     "output_type": "stream",
     "text": [
      "Finished [100%]: Average Loss = 75,627\n",
      "arviz - WARNING - Shape validation failed: input_shape: (1, 1000), minimum_shape: (chains=2, draws=4)\n",
      "Running variational inference on individiual bins...:  41%|████      | 23/56 [17:32<21:48, 39.64s/it]"
     ]
    },
    {
     "name": "stdout",
     "output_type": "stream",
     "text": [
      "\tObservations: 110221, Accidents: 26589\n"
     ]
    },
    {
     "data": {
      "text/html": [
       "<pre style=\"white-space:pre;overflow-x:auto;line-height:normal;font-family:Menlo,'DejaVu Sans Mono',consolas,'Courier New',monospace\"></pre>\n"
      ],
      "text/plain": []
     },
     "metadata": {},
     "output_type": "display_data"
    },
    {
     "name": "stderr",
     "output_type": "stream",
     "text": [
      "Finished [100%]: Average Loss = 68,834\n",
      "arviz - WARNING - Shape validation failed: input_shape: (1, 1000), minimum_shape: (chains=2, draws=4)\n",
      "Running variational inference on individiual bins...:  43%|████▎     | 24/56 [18:03<19:44, 37.02s/it]"
     ]
    },
    {
     "name": "stdout",
     "output_type": "stream",
     "text": [
      "\tObservations: 110221, Accidents: 22786\n"
     ]
    },
    {
     "data": {
      "text/html": [
       "<pre style=\"white-space:pre;overflow-x:auto;line-height:normal;font-family:Menlo,'DejaVu Sans Mono',consolas,'Courier New',monospace\"></pre>\n"
      ],
      "text/plain": []
     },
     "metadata": {},
     "output_type": "display_data"
    },
    {
     "name": "stderr",
     "output_type": "stream",
     "text": [
      "Finished [100%]: Average Loss = 62,239\n",
      "arviz - WARNING - Shape validation failed: input_shape: (1, 1000), minimum_shape: (chains=2, draws=4)\n",
      "Running variational inference on individiual bins...:  45%|████▍     | 25/56 [18:34<18:11, 35.22s/it]"
     ]
    },
    {
     "name": "stdout",
     "output_type": "stream",
     "text": [
      "\tObservations: 110216, Accidents: 21531\n"
     ]
    },
    {
     "data": {
      "text/html": [
       "<pre style=\"white-space:pre;overflow-x:auto;line-height:normal;font-family:Menlo,'DejaVu Sans Mono',consolas,'Courier New',monospace\"></pre>\n"
      ],
      "text/plain": []
     },
     "metadata": {},
     "output_type": "display_data"
    },
    {
     "name": "stderr",
     "output_type": "stream",
     "text": [
      "Finished [100%]: Average Loss = 59,825\n",
      "arviz - WARNING - Shape validation failed: input_shape: (1, 1000), minimum_shape: (chains=2, draws=4)\n",
      "Running variational inference on individiual bins...:  46%|████▋     | 26/56 [19:04<16:51, 33.72s/it]"
     ]
    },
    {
     "name": "stdout",
     "output_type": "stream",
     "text": [
      "\tObservations: 110224, Accidents: 19692\n"
     ]
    },
    {
     "data": {
      "text/html": [
       "<pre style=\"white-space:pre;overflow-x:auto;line-height:normal;font-family:Menlo,'DejaVu Sans Mono',consolas,'Courier New',monospace\"></pre>\n"
      ],
      "text/plain": []
     },
     "metadata": {},
     "output_type": "display_data"
    },
    {
     "name": "stderr",
     "output_type": "stream",
     "text": [
      "Finished [100%]: Average Loss = 56,520\n",
      "arviz - WARNING - Shape validation failed: input_shape: (1, 1000), minimum_shape: (chains=2, draws=4)\n",
      "Running variational inference on individiual bins...:  48%|████▊     | 27/56 [19:35<15:50, 32.78s/it]"
     ]
    },
    {
     "name": "stdout",
     "output_type": "stream",
     "text": [
      "\tObservations: 110208, Accidents: 18097\n"
     ]
    },
    {
     "data": {
      "text/html": [
       "<pre style=\"white-space:pre;overflow-x:auto;line-height:normal;font-family:Menlo,'DejaVu Sans Mono',consolas,'Courier New',monospace\"></pre>\n"
      ],
      "text/plain": []
     },
     "metadata": {},
     "output_type": "display_data"
    },
    {
     "name": "stderr",
     "output_type": "stream",
     "text": [
      "Finished [100%]: Average Loss = 53,186\n",
      "arviz - WARNING - Shape validation failed: input_shape: (1, 1000), minimum_shape: (chains=2, draws=4)\n",
      "Running variational inference on individiual bins...:  50%|█████     | 28/56 [20:06<15:10, 32.51s/it]"
     ]
    },
    {
     "name": "stdout",
     "output_type": "stream",
     "text": [
      "\tObservations: 110221, Accidents: 16872\n"
     ]
    },
    {
     "data": {
      "text/html": [
       "<pre style=\"white-space:pre;overflow-x:auto;line-height:normal;font-family:Menlo,'DejaVu Sans Mono',consolas,'Courier New',monospace\"></pre>\n"
      ],
      "text/plain": []
     },
     "metadata": {},
     "output_type": "display_data"
    },
    {
     "name": "stderr",
     "output_type": "stream",
     "text": [
      "Finished [100%]: Average Loss = 50,857\n",
      "arviz - WARNING - Shape validation failed: input_shape: (1, 1000), minimum_shape: (chains=2, draws=4)\n",
      "Running variational inference on individiual bins...:  52%|█████▏    | 29/56 [20:37<14:26, 32.08s/it]"
     ]
    },
    {
     "name": "stdout",
     "output_type": "stream",
     "text": [
      "\tObservations: 110191, Accidents: 15239\n"
     ]
    },
    {
     "data": {
      "text/html": [
       "<pre style=\"white-space:pre;overflow-x:auto;line-height:normal;font-family:Menlo,'DejaVu Sans Mono',consolas,'Courier New',monospace\"></pre>\n"
      ],
      "text/plain": []
     },
     "metadata": {},
     "output_type": "display_data"
    },
    {
     "name": "stderr",
     "output_type": "stream",
     "text": [
      "Finished [100%]: Average Loss = 47,670\n",
      "arviz - WARNING - Shape validation failed: input_shape: (1, 1000), minimum_shape: (chains=2, draws=4)\n",
      "Running variational inference on individiual bins...:  54%|█████▎    | 30/56 [21:08<13:41, 31.59s/it]"
     ]
    },
    {
     "name": "stdout",
     "output_type": "stream",
     "text": [
      "\tObservations: 110163, Accidents: 12500\n"
     ]
    },
    {
     "data": {
      "text/html": [
       "<pre style=\"white-space:pre;overflow-x:auto;line-height:normal;font-family:Menlo,'DejaVu Sans Mono',consolas,'Courier New',monospace\"></pre>\n"
      ],
      "text/plain": []
     },
     "metadata": {},
     "output_type": "display_data"
    },
    {
     "name": "stderr",
     "output_type": "stream",
     "text": [
      "Finished [100%]: Average Loss = 41,399\n",
      "arviz - WARNING - Shape validation failed: input_shape: (1, 1000), minimum_shape: (chains=2, draws=4)\n",
      "Running variational inference on individiual bins...:  55%|█████▌    | 31/56 [21:40<13:09, 31.60s/it]"
     ]
    },
    {
     "name": "stdout",
     "output_type": "stream",
     "text": [
      "\tObservations: 110215, Accidents: 12339\n"
     ]
    },
    {
     "data": {
      "text/html": [
       "<pre style=\"white-space:pre;overflow-x:auto;line-height:normal;font-family:Menlo,'DejaVu Sans Mono',consolas,'Courier New',monospace\"></pre>\n"
      ],
      "text/plain": []
     },
     "metadata": {},
     "output_type": "display_data"
    },
    {
     "name": "stderr",
     "output_type": "stream",
     "text": [
      "Finished [100%]: Average Loss = 41,036\n",
      "arviz - WARNING - Shape validation failed: input_shape: (1, 1000), minimum_shape: (chains=2, draws=4)\n",
      "Running variational inference on individiual bins...:  57%|█████▋    | 32/56 [22:10<12:31, 31.29s/it]"
     ]
    },
    {
     "name": "stdout",
     "output_type": "stream",
     "text": [
      "\tObservations: 110206, Accidents: 11512\n"
     ]
    },
    {
     "data": {
      "text/html": [
       "<pre style=\"white-space:pre;overflow-x:auto;line-height:normal;font-family:Menlo,'DejaVu Sans Mono',consolas,'Courier New',monospace\"></pre>\n"
      ],
      "text/plain": []
     },
     "metadata": {},
     "output_type": "display_data"
    },
    {
     "name": "stderr",
     "output_type": "stream",
     "text": [
      "Finished [100%]: Average Loss = 39,005\n",
      "arviz - WARNING - Shape validation failed: input_shape: (1, 1000), minimum_shape: (chains=2, draws=4)\n",
      "Running variational inference on individiual bins...:  59%|█████▉    | 33/56 [22:41<11:53, 31.02s/it]"
     ]
    },
    {
     "name": "stdout",
     "output_type": "stream",
     "text": [
      "\tObservations: 110209, Accidents: 11284\n"
     ]
    },
    {
     "data": {
      "text/html": [
       "<pre style=\"white-space:pre;overflow-x:auto;line-height:normal;font-family:Menlo,'DejaVu Sans Mono',consolas,'Courier New',monospace\"></pre>\n"
      ],
      "text/plain": []
     },
     "metadata": {},
     "output_type": "display_data"
    },
    {
     "name": "stderr",
     "output_type": "stream",
     "text": [
      "Finished [100%]: Average Loss = 38,411\n",
      "arviz - WARNING - Shape validation failed: input_shape: (1, 1000), minimum_shape: (chains=2, draws=4)\n",
      "Running variational inference on individiual bins...:  61%|██████    | 34/56 [23:10<11:15, 30.69s/it]"
     ]
    },
    {
     "name": "stdout",
     "output_type": "stream",
     "text": [
      "\tObservations: 110207, Accidents: 10941\n"
     ]
    },
    {
     "data": {
      "text/html": [
       "<pre style=\"white-space:pre;overflow-x:auto;line-height:normal;font-family:Menlo,'DejaVu Sans Mono',consolas,'Courier New',monospace\"></pre>\n"
      ],
      "text/plain": []
     },
     "metadata": {},
     "output_type": "display_data"
    },
    {
     "name": "stderr",
     "output_type": "stream",
     "text": [
      "Finished [100%]: Average Loss = 37,625\n",
      "arviz - WARNING - Shape validation failed: input_shape: (1, 1000), minimum_shape: (chains=2, draws=4)\n",
      "Running variational inference on individiual bins...:  62%|██████▎   | 35/56 [23:41<10:45, 30.74s/it]"
     ]
    },
    {
     "name": "stdout",
     "output_type": "stream",
     "text": [
      "\tObservations: 110213, Accidents: 9893\n"
     ]
    },
    {
     "data": {
      "text/html": [
       "<pre style=\"white-space:pre;overflow-x:auto;line-height:normal;font-family:Menlo,'DejaVu Sans Mono',consolas,'Courier New',monospace\"></pre>\n"
      ],
      "text/plain": []
     },
     "metadata": {},
     "output_type": "display_data"
    },
    {
     "name": "stderr",
     "output_type": "stream",
     "text": [
      "Finished [100%]: Average Loss = 34,980\n",
      "arviz - WARNING - Shape validation failed: input_shape: (1, 1000), minimum_shape: (chains=2, draws=4)\n",
      "Running variational inference on individiual bins...:  64%|██████▍   | 36/56 [24:13<10:17, 30.89s/it]"
     ]
    },
    {
     "name": "stdout",
     "output_type": "stream",
     "text": [
      "\tObservations: 110212, Accidents: 8975\n"
     ]
    },
    {
     "data": {
      "text/html": [
       "<pre style=\"white-space:pre;overflow-x:auto;line-height:normal;font-family:Menlo,'DejaVu Sans Mono',consolas,'Courier New',monospace\"></pre>\n"
      ],
      "text/plain": []
     },
     "metadata": {},
     "output_type": "display_data"
    },
    {
     "name": "stderr",
     "output_type": "stream",
     "text": [
      "Finished [100%]: Average Loss = 32,448\n",
      "arviz - WARNING - Shape validation failed: input_shape: (1, 1000), minimum_shape: (chains=2, draws=4)\n",
      "Running variational inference on individiual bins...:  66%|██████▌   | 37/56 [24:44<09:48, 30.99s/it]"
     ]
    },
    {
     "name": "stdout",
     "output_type": "stream",
     "text": [
      "\tObservations: 110137, Accidents: 8722\n"
     ]
    },
    {
     "data": {
      "text/html": [
       "<pre style=\"white-space:pre;overflow-x:auto;line-height:normal;font-family:Menlo,'DejaVu Sans Mono',consolas,'Courier New',monospace\"></pre>\n"
      ],
      "text/plain": []
     },
     "metadata": {},
     "output_type": "display_data"
    },
    {
     "name": "stderr",
     "output_type": "stream",
     "text": [
      "Finished [100%]: Average Loss = 31,795\n",
      "arviz - WARNING - Shape validation failed: input_shape: (1, 1000), minimum_shape: (chains=2, draws=4)\n",
      "Running variational inference on individiual bins...:  68%|██████▊   | 38/56 [25:15<09:19, 31.10s/it]"
     ]
    },
    {
     "name": "stdout",
     "output_type": "stream",
     "text": [
      "\tObservations: 110202, Accidents: 7682\n"
     ]
    },
    {
     "data": {
      "text/html": [
       "<pre style=\"white-space:pre;overflow-x:auto;line-height:normal;font-family:Menlo,'DejaVu Sans Mono',consolas,'Courier New',monospace\"></pre>\n"
      ],
      "text/plain": []
     },
     "metadata": {},
     "output_type": "display_data"
    },
    {
     "name": "stderr",
     "output_type": "stream",
     "text": [
      "Finished [100%]: Average Loss = 29,091\n",
      "arviz - WARNING - Shape validation failed: input_shape: (1, 1000), minimum_shape: (chains=2, draws=4)\n",
      "Running variational inference on individiual bins...:  70%|██████▉   | 39/56 [25:46<08:48, 31.10s/it]"
     ]
    },
    {
     "name": "stdout",
     "output_type": "stream",
     "text": [
      "\tObservations: 110192, Accidents: 6619\n"
     ]
    },
    {
     "data": {
      "text/html": [
       "<pre style=\"white-space:pre;overflow-x:auto;line-height:normal;font-family:Menlo,'DejaVu Sans Mono',consolas,'Courier New',monospace\"></pre>\n"
      ],
      "text/plain": []
     },
     "metadata": {},
     "output_type": "display_data"
    },
    {
     "name": "stderr",
     "output_type": "stream",
     "text": [
      "Finished [100%]: Average Loss = 26,187\n",
      "arviz - WARNING - Shape validation failed: input_shape: (1, 1000), minimum_shape: (chains=2, draws=4)\n",
      "Running variational inference on individiual bins...:  71%|███████▏  | 40/56 [26:18<08:20, 31.29s/it]"
     ]
    },
    {
     "name": "stdout",
     "output_type": "stream",
     "text": [
      "\tObservations: 110147, Accidents: 5802\n"
     ]
    },
    {
     "data": {
      "text/html": [
       "<pre style=\"white-space:pre;overflow-x:auto;line-height:normal;font-family:Menlo,'DejaVu Sans Mono',consolas,'Courier New',monospace\"></pre>\n"
      ],
      "text/plain": []
     },
     "metadata": {},
     "output_type": "display_data"
    },
    {
     "name": "stderr",
     "output_type": "stream",
     "text": [
      "Finished [100%]: Average Loss = 23,654\n",
      "arviz - WARNING - Shape validation failed: input_shape: (1, 1000), minimum_shape: (chains=2, draws=4)\n",
      "Running variational inference on individiual bins...:  73%|███████▎  | 41/56 [26:50<07:51, 31.42s/it]"
     ]
    },
    {
     "name": "stdout",
     "output_type": "stream",
     "text": [
      "\tObservations: 110192, Accidents: 5210\n"
     ]
    },
    {
     "data": {
      "text/html": [
       "<pre style=\"white-space:pre;overflow-x:auto;line-height:normal;font-family:Menlo,'DejaVu Sans Mono',consolas,'Courier New',monospace\"></pre>\n"
      ],
      "text/plain": []
     },
     "metadata": {},
     "output_type": "display_data"
    },
    {
     "name": "stderr",
     "output_type": "stream",
     "text": [
      "Finished [100%]: Average Loss = 21,855\n",
      "arviz - WARNING - Shape validation failed: input_shape: (1, 1000), minimum_shape: (chains=2, draws=4)\n",
      "Running variational inference on individiual bins...:  75%|███████▌  | 42/56 [41:39<1:07:23, 288.80s/it]"
     ]
    },
    {
     "name": "stdout",
     "output_type": "stream",
     "text": [
      "\tObservations: 110132, Accidents: 4777\n"
     ]
    },
    {
     "data": {
      "text/html": [
       "<pre style=\"white-space:pre;overflow-x:auto;line-height:normal;font-family:Menlo,'DejaVu Sans Mono',consolas,'Courier New',monospace\"></pre>\n"
      ],
      "text/plain": []
     },
     "metadata": {},
     "output_type": "display_data"
    },
    {
     "name": "stderr",
     "output_type": "stream",
     "text": [
      "Finished [100%]: Average Loss = 20,434\n",
      "arviz - WARNING - Shape validation failed: input_shape: (1, 1000), minimum_shape: (chains=2, draws=4)\n",
      "Running variational inference on individiual bins...:  77%|███████▋  | 43/56 [42:10<45:50, 211.57s/it]  "
     ]
    },
    {
     "name": "stdout",
     "output_type": "stream",
     "text": [
      "\tObservations: 110013, Accidents: 4410\n"
     ]
    },
    {
     "data": {
      "text/html": [
       "<pre style=\"white-space:pre;overflow-x:auto;line-height:normal;font-family:Menlo,'DejaVu Sans Mono',consolas,'Courier New',monospace\"></pre>\n"
      ],
      "text/plain": []
     },
     "metadata": {},
     "output_type": "display_data"
    },
    {
     "name": "stderr",
     "output_type": "stream",
     "text": [
      "Finished [100%]: Average Loss = 19,326\n",
      "arviz - WARNING - Shape validation failed: input_shape: (1, 1000), minimum_shape: (chains=2, draws=4)\n",
      "Running variational inference on individiual bins...:  79%|███████▊  | 44/56 [42:41<31:28, 157.40s/it]"
     ]
    },
    {
     "name": "stdout",
     "output_type": "stream",
     "text": [
      "\tObservations: 110102, Accidents: 2417\n"
     ]
    },
    {
     "data": {
      "text/html": [
       "<pre style=\"white-space:pre;overflow-x:auto;line-height:normal;font-family:Menlo,'DejaVu Sans Mono',consolas,'Courier New',monospace\"></pre>\n"
      ],
      "text/plain": []
     },
     "metadata": {},
     "output_type": "display_data"
    },
    {
     "name": "stderr",
     "output_type": "stream",
     "text": [
      "Finished [100%]: Average Loss = 12,143\n",
      "arviz - WARNING - Shape validation failed: input_shape: (1, 1000), minimum_shape: (chains=2, draws=4)\n",
      "Running variational inference on individiual bins...:  80%|████████  | 45/56 [43:11<21:49, 119.03s/it]"
     ]
    },
    {
     "name": "stdout",
     "output_type": "stream",
     "text": [
      "\tObservations: 110050, Accidents: 1972\n"
     ]
    },
    {
     "data": {
      "text/html": [
       "<pre style=\"white-space:pre;overflow-x:auto;line-height:normal;font-family:Menlo,'DejaVu Sans Mono',consolas,'Courier New',monospace\"></pre>\n"
      ],
      "text/plain": []
     },
     "metadata": {},
     "output_type": "display_data"
    },
    {
     "name": "stderr",
     "output_type": "stream",
     "text": [
      "Finished [100%]: Average Loss = 10,348\n",
      "arviz - WARNING - Shape validation failed: input_shape: (1, 1000), minimum_shape: (chains=2, draws=4)\n",
      "Running variational inference on individiual bins...:  82%|████████▏ | 46/56 [43:43<15:29, 92.95s/it] "
     ]
    },
    {
     "name": "stdout",
     "output_type": "stream",
     "text": [
      "\tObservations: 110144, Accidents: 1909\n"
     ]
    },
    {
     "data": {
      "text/html": [
       "<pre style=\"white-space:pre;overflow-x:auto;line-height:normal;font-family:Menlo,'DejaVu Sans Mono',consolas,'Courier New',monospace\"></pre>\n"
      ],
      "text/plain": []
     },
     "metadata": {},
     "output_type": "display_data"
    },
    {
     "name": "stderr",
     "output_type": "stream",
     "text": [
      "Finished [100%]: Average Loss = 10,073\n",
      "arviz - WARNING - Shape validation failed: input_shape: (1, 1000), minimum_shape: (chains=2, draws=4)\n",
      "Running variational inference on individiual bins...:  84%|████████▍ | 47/56 [44:13<11:07, 74.20s/it]"
     ]
    },
    {
     "name": "stdout",
     "output_type": "stream",
     "text": [
      "\tObservations: 109956, Accidents: 1349\n"
     ]
    },
    {
     "data": {
      "text/html": [
       "<pre style=\"white-space:pre;overflow-x:auto;line-height:normal;font-family:Menlo,'DejaVu Sans Mono',consolas,'Courier New',monospace\"></pre>\n"
      ],
      "text/plain": []
     },
     "metadata": {},
     "output_type": "display_data"
    },
    {
     "name": "stderr",
     "output_type": "stream",
     "text": [
      "Finished [100%]: Average Loss = 7,719\n",
      "arviz - WARNING - Shape validation failed: input_shape: (1, 1000), minimum_shape: (chains=2, draws=4)\n",
      "Running variational inference on individiual bins...:  86%|████████▌ | 48/56 [44:45<08:10, 61.30s/it]"
     ]
    },
    {
     "name": "stdout",
     "output_type": "stream",
     "text": [
      "\tObservations: 109983, Accidents: 1149\n"
     ]
    },
    {
     "data": {
      "text/html": [
       "<pre style=\"white-space:pre;overflow-x:auto;line-height:normal;font-family:Menlo,'DejaVu Sans Mono',consolas,'Courier New',monospace\"></pre>\n"
      ],
      "text/plain": []
     },
     "metadata": {},
     "output_type": "display_data"
    },
    {
     "name": "stderr",
     "output_type": "stream",
     "text": [
      "Finished [100%]: Average Loss = 6,756.5\n",
      "arviz - WARNING - Shape validation failed: input_shape: (1, 1000), minimum_shape: (chains=2, draws=4)\n",
      "Running variational inference on individiual bins...:  88%|████████▊ | 49/56 [45:15<06:04, 52.08s/it]"
     ]
    },
    {
     "name": "stdout",
     "output_type": "stream",
     "text": [
      "\tObservations: 109582, Accidents: 1061\n"
     ]
    },
    {
     "data": {
      "text/html": [
       "<pre style=\"white-space:pre;overflow-x:auto;line-height:normal;font-family:Menlo,'DejaVu Sans Mono',consolas,'Courier New',monospace\"></pre>\n"
      ],
      "text/plain": []
     },
     "metadata": {},
     "output_type": "display_data"
    },
    {
     "name": "stderr",
     "output_type": "stream",
     "text": [
      "Finished [100%]: Average Loss = 6,385.2\n",
      "arviz - WARNING - Shape validation failed: input_shape: (1, 1000), minimum_shape: (chains=2, draws=4)\n",
      "Running variational inference on individiual bins...:  89%|████████▉ | 50/56 [45:46<04:33, 45.60s/it]"
     ]
    },
    {
     "name": "stdout",
     "output_type": "stream",
     "text": [
      "\tObservations: 110127, Accidents: 873\n"
     ]
    },
    {
     "data": {
      "text/html": [
       "<pre style=\"white-space:pre;overflow-x:auto;line-height:normal;font-family:Menlo,'DejaVu Sans Mono',consolas,'Courier New',monospace\"></pre>\n"
      ],
      "text/plain": []
     },
     "metadata": {},
     "output_type": "display_data"
    },
    {
     "name": "stderr",
     "output_type": "stream",
     "text": [
      "Finished [100%]: Average Loss = 5,462.1\n",
      "arviz - WARNING - Shape validation failed: input_shape: (1, 1000), minimum_shape: (chains=2, draws=4)\n",
      "Running variational inference on individiual bins...:  91%|█████████ | 51/56 [46:17<03:26, 41.39s/it]"
     ]
    },
    {
     "name": "stdout",
     "output_type": "stream",
     "text": [
      "\tObservations: 109622, Accidents: 767\n"
     ]
    },
    {
     "data": {
      "text/html": [
       "<pre style=\"white-space:pre;overflow-x:auto;line-height:normal;font-family:Menlo,'DejaVu Sans Mono',consolas,'Courier New',monospace\"></pre>\n"
      ],
      "text/plain": []
     },
     "metadata": {},
     "output_type": "display_data"
    },
    {
     "name": "stderr",
     "output_type": "stream",
     "text": [
      "Finished [100%]: Average Loss = 4,946.8\n",
      "arviz - WARNING - Shape validation failed: input_shape: (1, 1000), minimum_shape: (chains=2, draws=4)\n",
      "Running variational inference on individiual bins...:  93%|█████████▎| 52/56 [46:48<02:32, 38.07s/it]"
     ]
    },
    {
     "name": "stdout",
     "output_type": "stream",
     "text": [
      "\tObservations: 109384, Accidents: 488\n"
     ]
    },
    {
     "data": {
      "text/html": [
       "<pre style=\"white-space:pre;overflow-x:auto;line-height:normal;font-family:Menlo,'DejaVu Sans Mono',consolas,'Courier New',monospace\"></pre>\n"
      ],
      "text/plain": []
     },
     "metadata": {},
     "output_type": "display_data"
    },
    {
     "name": "stderr",
     "output_type": "stream",
     "text": [
      "Finished [100%]: Average Loss = 3,460.3\n",
      "arviz - WARNING - Shape validation failed: input_shape: (1, 1000), minimum_shape: (chains=2, draws=4)\n",
      "Running variational inference on individiual bins...:  95%|█████████▍| 53/56 [47:17<01:46, 35.42s/it]"
     ]
    },
    {
     "name": "stdout",
     "output_type": "stream",
     "text": [
      "\tObservations: 109454, Accidents: 348\n"
     ]
    },
    {
     "data": {
      "text/html": [
       "<pre style=\"white-space:pre;overflow-x:auto;line-height:normal;font-family:Menlo,'DejaVu Sans Mono',consolas,'Courier New',monospace\"></pre>\n"
      ],
      "text/plain": []
     },
     "metadata": {},
     "output_type": "display_data"
    },
    {
     "name": "stderr",
     "output_type": "stream",
     "text": [
      "Finished [100%]: Average Loss = 2,671.7\n",
      "arviz - WARNING - Shape validation failed: input_shape: (1, 1000), minimum_shape: (chains=2, draws=4)\n",
      "Running variational inference on individiual bins...:  96%|█████████▋| 54/56 [47:47<01:07, 33.73s/it]"
     ]
    },
    {
     "name": "stdout",
     "output_type": "stream",
     "text": [
      "\tObservations: 109303, Accidents: 201\n"
     ]
    },
    {
     "data": {
      "text/html": [
       "<pre style=\"white-space:pre;overflow-x:auto;line-height:normal;font-family:Menlo,'DejaVu Sans Mono',consolas,'Courier New',monospace\"></pre>\n"
      ],
      "text/plain": []
     },
     "metadata": {},
     "output_type": "display_data"
    },
    {
     "name": "stderr",
     "output_type": "stream",
     "text": [
      "Finished [100%]: Average Loss = 1,769.3\n",
      "arviz - WARNING - Shape validation failed: input_shape: (1, 1000), minimum_shape: (chains=2, draws=4)\n",
      "Running variational inference on individiual bins...:  98%|█████████▊| 55/56 [48:17<00:32, 32.59s/it]"
     ]
    },
    {
     "name": "stdout",
     "output_type": "stream",
     "text": [
      "\tObservations: 109107, Accidents: 115\n"
     ]
    },
    {
     "data": {
      "text/html": [
       "<pre style=\"white-space:pre;overflow-x:auto;line-height:normal;font-family:Menlo,'DejaVu Sans Mono',consolas,'Courier New',monospace\"></pre>\n"
      ],
      "text/plain": []
     },
     "metadata": {},
     "output_type": "display_data"
    },
    {
     "name": "stderr",
     "output_type": "stream",
     "text": [
      "Finished [100%]: Average Loss = 1,290.8\n",
      "arviz - WARNING - Shape validation failed: input_shape: (1, 1000), minimum_shape: (chains=2, draws=4)\n",
      "Running variational inference on individiual bins...: 100%|██████████| 56/56 [48:47<00:00, 52.27s/it]\n"
     ]
    }
   ],
   "source": [
    "results = non_spatial_models(observed_data, feature_columns)"
   ]
  },
  {
   "cell_type": "code",
   "execution_count": 3,
   "metadata": {},
   "outputs": [],
   "source": [
    "import arviz as az\n",
    "import pickle\n",
    "from pathlib import Path\n",
    "\n",
    "def save_model_results(results_dict, save_path):\n",
    "    \"\"\"Save model results with ArviZ for traces and pickle for metadata\"\"\"\n",
    "    save_path = Path(save_path)\n",
    "    save_path.mkdir(exist_ok=True)\n",
    "    \n",
    "    arviz_data = {}\n",
    "    metadata = {}\n",
    "    \n",
    "    for location_id, result in results_dict.items():\n",
    "        # Extract what we can serialize\n",
    "        metadata[location_id] = {\n",
    "            \"summary\": result[\"summary\"],\n",
    "            \"model_features\": result[\"model_features\"],\n",
    "            # Add any other serializable data\n",
    "        }\n",
    "        \n",
    "        # Convert approximation to InferenceData if possible\n",
    "        if \"approx\" in result:\n",
    "            try:\n",
    "                # Sample from the approximation for ArviZ\n",
    "                trace = result[\"approx\"].sample(1000)\n",
    "                idata = az.to_netcdf(trace=trace, model=result.get(\"model\"))\n",
    "                arviz_data[location_id] = idata\n",
    "            except Exception as e:\n",
    "                print(f\"Could not convert location {location_id} to ArviZ: {e}\")\n",
    "    \n",
    "    # Save ArviZ data\n",
    "    if arviz_data:\n",
    "        az.to_netcdf(arviz_data, save_path / \"model_traces.nc\")\n",
    "    \n",
    "    # Save metadata\n",
    "    with open(save_path / \"model_metadata.pkl\", \"wb\") as f:\n",
    "        pickle.dump(metadata, f)\n",
    "    \n",
    "    print(f\"Saved {len(arviz_data)} location traces and metadata to {save_path}\")\n",
    "\n",
    "def load_model_results(save_path):\n",
    "    \"\"\"Load saved model results\"\"\"\n",
    "    save_path = Path(save_path)\n",
    "    \n",
    "    # Load traces\n",
    "    try:\n",
    "        arviz_data = az.from_netcdf(save_path / \"model_traces.nc\")\n",
    "    except FileNotFoundError:\n",
    "        arviz_data = {}\n",
    "    \n",
    "    # Load metadata\n",
    "    with open(save_path / \"model_metadata.pkl\", \"rb\") as f:\n",
    "        metadata = pickle.load(f)\n",
    "    \n",
    "    return metadata, arviz_data"
   ]
  },
  {
   "cell_type": "code",
   "execution_count": null,
   "metadata": {},
   "outputs": [],
   "source": [
    "save_model_results(results, \"./results_non_spatial\")"
   ]
  },
  {
   "cell_type": "code",
   "execution_count": 6,
   "metadata": {},
   "outputs": [],
   "source": [
    "results = load_model_results(\"./results_non_spatial\")"
   ]
  },
  {
   "cell_type": "code",
   "execution_count": 19,
   "metadata": {},
   "outputs": [],
   "source": [
    "summaries = [results[x][\"summary\"] for x in results]"
   ]
  },
  {
   "cell_type": "code",
   "execution_count": 16,
   "metadata": {},
   "outputs": [
    {
     "ename": "KeyError",
     "evalue": "'elbo'",
     "output_type": "error",
     "traceback": [
      "\u001b[31m---------------------------------------------------------------------------\u001b[39m",
      "\u001b[31mKeyError\u001b[39m                                  Traceback (most recent call last)",
      "\u001b[36mCell\u001b[39m\u001b[36m \u001b[39m\u001b[32mIn[16]\u001b[39m\u001b[32m, line 5\u001b[39m\n\u001b[32m      3\u001b[39m location_data = observed_data[observed_data[\u001b[33m'\u001b[39m\u001b[33mlocation_id\u001b[39m\u001b[33m'\u001b[39m] == location_id]\n\u001b[32m      4\u001b[39m total_accidents = location_data[\u001b[33m'\u001b[39m\u001b[33maccident_count\u001b[39m\u001b[33m'\u001b[39m].sum()\n\u001b[32m----> \u001b[39m\u001b[32m5\u001b[39m elbo = \u001b[43mresult\u001b[49m\u001b[43m[\u001b[49m\u001b[33;43m'\u001b[39;49m\u001b[33;43melbo\u001b[39;49m\u001b[33;43m'\u001b[39;49m\u001b[43m]\u001b[49m\n\u001b[32m      6\u001b[39m loss_per_accident = elbo / total_accidents \u001b[38;5;28;01mif\u001b[39;00m total_accidents > \u001b[32m0\u001b[39m \u001b[38;5;28;01melse\u001b[39;00m \u001b[32m0\u001b[39m\n\u001b[32m      7\u001b[39m \u001b[38;5;28mprint\u001b[39m(\u001b[33mf\u001b[39m\u001b[33m\"\u001b[39m\u001b[33mLocation \u001b[39m\u001b[38;5;132;01m{\u001b[39;00mlocation_id\u001b[38;5;132;01m}\u001b[39;00m\u001b[33m: \u001b[39m\u001b[38;5;132;01m{\u001b[39;00mtotal_accidents\u001b[38;5;132;01m}\u001b[39;00m\u001b[33m accidents, loss/accident: \u001b[39m\u001b[38;5;132;01m{\u001b[39;00mloss_per_accident\u001b[38;5;132;01m:\u001b[39;00m\u001b[33m.2f\u001b[39m\u001b[38;5;132;01m}\u001b[39;00m\u001b[33m\"\u001b[39m)\n",
      "\u001b[31mKeyError\u001b[39m: 'elbo'"
     ]
    }
   ],
   "source": [
    "# Compare relative loss per accident\n",
    "for location_id, result in results.items():\n",
    "    location_data = observed_data[observed_data['location_id'] == location_id]\n",
    "    total_accidents = location_data['accident_count'].sum()\n",
    "    elbo = result['elbo']\n",
    "    loss_per_accident = elbo / total_accidents if total_accidents > 0 else 0\n",
    "    print(f\"Location {location_id}: {total_accidents} accidents, loss/accident: {loss_per_accident:.2f}\")"
   ]
  },
  {
   "cell_type": "markdown",
   "metadata": {},
   "source": [
    "### Model Learning (Checkpoint)\n",
    "\n",
    "We should save our models at this point."
   ]
  },
  {
   "cell_type": "code",
   "execution_count": 30,
   "metadata": {},
   "outputs": [
    {
     "name": "stdout",
     "output_type": "stream",
     "text": [
      "Available ArviZ conversion functions:\n",
      "['convert_to_dataset', 'convert_to_inference_data', 'from_beanmachine', 'from_cmdstan', 'from_cmdstanpy', 'from_datatree', 'from_dict', 'from_emcee', 'from_json', 'from_netcdf', 'from_numpyro', 'from_pyjags', 'from_pyro', 'from_pystan', 'from_pytree', 'from_zarr']\n",
      "Saved 40.75_-74.0 to traces_non_spatial/loc_40p75--74p0.nc\n",
      "Saved 40.7_-74.0 to traces_non_spatial/loc_40p7--74p0.nc\n",
      "Saved 40.7_-73.95 to traces_non_spatial/loc_40p7--73p95.nc\n",
      "Saved 40.85_-73.9 to traces_non_spatial/loc_40p85--73p9.nc\n",
      "Saved 40.8_-73.95 to traces_non_spatial/loc_40p8--73p95.nc\n",
      "Saved 40.65_-73.95 to traces_non_spatial/loc_40p65--73p95.nc\n",
      "Saved 40.75_-73.95 to traces_non_spatial/loc_40p75--73p95.nc\n",
      "Saved 40.65_-73.9 to traces_non_spatial/loc_40p65--73p9.nc\n",
      "Saved 40.75_-73.9 to traces_non_spatial/loc_40p75--73p9.nc\n",
      "Saved 40.7_-73.9 to traces_non_spatial/loc_40p7--73p9.nc\n",
      "Saved 40.75_-73.85 to traces_non_spatial/loc_40p75--73p85.nc\n",
      "Saved 40.7_-73.8 to traces_non_spatial/loc_40p7--73p8.nc\n",
      "Saved 40.65_-74.0 to traces_non_spatial/loc_40p65--74p0.nc\n",
      "Saved 40.85_-73.85 to traces_non_spatial/loc_40p85--73p85.nc\n",
      "Saved 40.7_-73.85 to traces_non_spatial/loc_40p7--73p85.nc\n",
      "Saved 40.6_-73.95 to traces_non_spatial/loc_40p6--73p95.nc\n",
      "Saved 40.8_-73.9 to traces_non_spatial/loc_40p8--73p9.nc\n",
      "Saved 40.6_-74.0 to traces_non_spatial/loc_40p6--74p0.nc\n",
      "Saved 40.7_-73.75 to traces_non_spatial/loc_40p7--73p75.nc\n",
      "Saved 40.75_-73.8 to traces_non_spatial/loc_40p75--73p8.nc\n",
      "Saved 40.85_-73.95 to traces_non_spatial/loc_40p85--73p95.nc\n",
      "Saved 40.9_-73.85 to traces_non_spatial/loc_40p9--73p85.nc\n",
      "Saved 40.75_-73.75 to traces_non_spatial/loc_40p75--73p75.nc\n",
      "Saved 40.65_-73.75 to traces_non_spatial/loc_40p65--73p75.nc\n",
      "Saved 40.6_-74.1 to traces_non_spatial/loc_40p6--74p1.nc\n",
      "Saved 40.9_-73.9 to traces_non_spatial/loc_40p9--73p9.nc\n",
      "Saved 40.65_-73.85 to traces_non_spatial/loc_40p65--73p85.nc\n",
      "Saved 40.65_-73.8 to traces_non_spatial/loc_40p65--73p8.nc\n",
      "Saved 40.8_-73.85 to traces_non_spatial/loc_40p8--73p85.nc\n",
      "Saved 40.6_-74.15 to traces_non_spatial/loc_40p6--74p15.nc\n",
      "Saved 40.8_-73.8 to traces_non_spatial/loc_40p8--73p8.nc\n",
      "Saved 40.6_-74.05 to traces_non_spatial/loc_40p6--74p05.nc\n",
      "Saved 40.65_-74.1 to traces_non_spatial/loc_40p65--74p1.nc\n",
      "Saved 40.55_-74.15 to traces_non_spatial/loc_40p55--74p15.nc\n",
      "Saved 40.8_-74.0 to traces_non_spatial/loc_40p8--74p0.nc\n",
      "Saved 40.6_-73.9 to traces_non_spatial/loc_40p6--73p9.nc\n",
      "Saved 40.75_-73.7 to traces_non_spatial/loc_40p75--73p7.nc\n",
      "Saved 40.6_-73.75 to traces_non_spatial/loc_40p6--73p75.nc\n",
      "Saved 40.55_-74.2 to traces_non_spatial/loc_40p55--74p2.nc\n",
      "Saved 40.65_-74.15 to traces_non_spatial/loc_40p65--74p15.nc\n",
      "Saved 40.6_-73.8 to traces_non_spatial/loc_40p6--73p8.nc\n",
      "Saved 40.55_-74.1 to traces_non_spatial/loc_40p55--74p1.nc\n",
      "Saved 40.65_-74.05 to traces_non_spatial/loc_40p65--74p05.nc\n",
      "Saved 40.85_-73.8 to traces_non_spatial/loc_40p85--73p8.nc\n",
      "Saved 40.5_-74.25 to traces_non_spatial/loc_40p5--74p25.nc\n",
      "Saved 40.6_-73.85 to traces_non_spatial/loc_40p6--73p85.nc\n",
      "Saved 40.6_-74.2 to traces_non_spatial/loc_40p6--74p2.nc\n",
      "Saved 40.9_-73.8 to traces_non_spatial/loc_40p9--73p8.nc\n",
      "Saved 40.5_-74.2 to traces_non_spatial/loc_40p5--74p2.nc\n",
      "Saved 40.55_-74.0 to traces_non_spatial/loc_40p55--74p0.nc\n",
      "Saved 40.55_-74.25 to traces_non_spatial/loc_40p55--74p25.nc\n",
      "Saved 40.8_-73.75 to traces_non_spatial/loc_40p8--73p75.nc\n",
      "Saved 40.7_-73.7 to traces_non_spatial/loc_40p7--73p7.nc\n",
      "Saved 40.55_-73.9 to traces_non_spatial/loc_40p55--73p9.nc\n",
      "Saved 40.65_-74.2 to traces_non_spatial/loc_40p65--74p2.nc\n",
      "Saved 40.55_-73.85 to traces_non_spatial/loc_40p55--73p85.nc\n"
     ]
    }
   ],
   "source": [
    "import os\n",
    "import json\n",
    "import pickle\n",
    "import arviz as az\n",
    "\n",
    "def save_traces_arviz(results, base_dir):\n",
    "    \"\"\"Save each location's trace as a separate file\"\"\"\n",
    "    # Create directory if it doesn't exist\n",
    "    os.makedirs(base_dir, exist_ok=True)\n",
    "    \n",
    "    saved_locations = {}\n",
    "    summaries = {}\n",
    "    \n",
    "    for location_id, result in results.items():\n",
    "        clean_id = location_id.replace('.', 'p').replace('_', '-')\n",
    "        filename = f\"{base_dir}/loc_{clean_id}.nc\"\n",
    "        \n",
    "        try:\n",
    "            # Sample from approximation to get trace\n",
    "            trace = result['approx'].sample(1000)\n",
    "            \n",
    "            # Try different ArviZ conversion methods\n",
    "            try:\n",
    "                # Option 1: Direct from trace (if it's already InferenceData)\n",
    "                if hasattr(trace, 'to_netcdf'):\n",
    "                    trace.to_netcdf(filename)\n",
    "                else:\n",
    "                    # Option 2: Convert to InferenceData first\n",
    "                    idata = az.convert_to_inference_data(trace)\n",
    "                    idata.to_netcdf(filename)\n",
    "            except:\n",
    "                # Option 3: Try az.from_dict if trace is a dictionary\n",
    "                idata = az.from_dict(trace)\n",
    "                idata.to_netcdf(filename)\n",
    "            \n",
    "            print(f\"Saved {location_id} to {filename}\")\n",
    "            saved_locations[location_id] = f\"loc_{clean_id}.nc\"\n",
    "            summaries[location_id] = result['summary']\n",
    "            \n",
    "        except Exception as e:\n",
    "            print(f\"Failed to save {location_id}: {e}\")\n",
    "            # Print trace type to help debug\n",
    "            print(f\"  Trace type: {type(result['approx'].sample(1000))}\")\n",
    "    \n",
    "    # Save metadata\n",
    "    if saved_locations:\n",
    "        sample_result = next(iter(results.values()))\n",
    "        metadata = {\n",
    "            'model_features': sample_result['model_features'],\n",
    "            'location_mapping': saved_locations,\n",
    "            'total_locations': len(results),\n",
    "            'saved_locations': len(saved_locations)\n",
    "        }\n",
    "        \n",
    "        with open(f\"{base_dir}/metadata.json\", 'w') as f:\n",
    "            json.dump(metadata, f, indent=2)\n",
    "        \n",
    "        with open(f\"{base_dir}/summaries.pkl\", \"wb\") as f:\n",
    "            pickle.dump(summaries, f)\n",
    "\n",
    "# Check what ArviZ functions are available\n",
    "print(\"Available ArviZ conversion functions:\")\n",
    "print([attr for attr in dir(az) if 'from_' in attr or 'convert' in attr])\n",
    "\n",
    "save_traces_arviz(results, 'traces_non_spatial')"
   ]
  },
  {
   "cell_type": "code",
   "execution_count": null,
   "metadata": {},
   "outputs": [
    {
     "name": "stdout",
     "output_type": "stream",
     "text": [
      "Loaded 40.75_-74.0\n",
      "Loaded 40.7_-74.0\n",
      "Loaded 40.7_-73.95\n",
      "Loaded 40.85_-73.9\n",
      "Loaded 40.8_-73.95\n",
      "Loaded 40.65_-73.95\n",
      "Loaded 40.75_-73.95\n",
      "Loaded 40.65_-73.9\n",
      "Loaded 40.75_-73.9\n",
      "Loaded 40.7_-73.9\n",
      "Loaded 40.75_-73.85\n",
      "Loaded 40.7_-73.8\n",
      "Loaded 40.65_-74.0\n",
      "Loaded 40.85_-73.85\n",
      "Loaded 40.7_-73.85\n",
      "Loaded 40.6_-73.95\n",
      "Loaded 40.8_-73.9\n",
      "Loaded 40.6_-74.0\n",
      "Loaded 40.7_-73.75\n",
      "Loaded 40.75_-73.8\n",
      "Loaded 40.85_-73.95\n",
      "Loaded 40.9_-73.85\n",
      "Loaded 40.75_-73.75\n",
      "Loaded 40.65_-73.75\n",
      "Loaded 40.6_-74.1\n",
      "Loaded 40.9_-73.9\n",
      "Loaded 40.65_-73.85\n",
      "Loaded 40.65_-73.8\n",
      "Loaded 40.8_-73.85\n",
      "Loaded 40.6_-74.15\n",
      "Loaded 40.8_-73.8\n",
      "Loaded 40.6_-74.05\n",
      "Loaded 40.65_-74.1\n",
      "Loaded 40.55_-74.15\n",
      "Loaded 40.8_-74.0\n",
      "Loaded 40.6_-73.9\n",
      "Loaded 40.75_-73.7\n",
      "Loaded 40.6_-73.75\n",
      "Loaded 40.55_-74.2\n",
      "Loaded 40.65_-74.15\n",
      "Loaded 40.6_-73.8\n",
      "Loaded 40.55_-74.1\n",
      "Loaded 40.65_-74.05\n",
      "Loaded 40.85_-73.8\n",
      "Loaded 40.5_-74.25\n",
      "Loaded 40.6_-73.85\n",
      "Loaded 40.6_-74.2\n",
      "Loaded 40.9_-73.8\n",
      "Loaded 40.5_-74.2\n",
      "Loaded 40.55_-74.0\n",
      "Loaded 40.55_-74.25\n",
      "Loaded 40.8_-73.75\n",
      "Loaded 40.7_-73.7\n",
      "Loaded 40.55_-73.9\n",
      "Loaded 40.65_-74.2\n",
      "Loaded 40.55_-73.85\n"
     ]
    }
   ],
   "source": [
    "import json\n",
    "import arviz as az\n",
    "\n",
    "def load_all_results(base_dir):\n",
    "    \"\"\"Load all saved results\"\"\"\n",
    "    \n",
    "    # Load metadata; JSON files should be opened in text mode\n",
    "    with open(f\"{base_dir}/metadata.json\", 'r') as f:\n",
    "        metadata = json.load(f)\n",
    "    \n",
    "    # Load all location results\n",
    "    location_mapping = metadata[\"location_mapping\"]\n",
    "    loaded_results = {}\n",
    "    for name in location_mapping:\n",
    "        mapped_filename = location_mapping[name]\n",
    "        filepath = f\"{base_dir}/{mapped_filename}\"\n",
    "        \n",
    "        # NetCDF files need arviz to deserialize\n",
    "        try:\n",
    "            trace = az.from_netcdf(filepath)  # Deserialize traces\n",
    "            loaded_results[name] = {\n",
    "                'trace': trace,\n",
    "                'location_id': name\n",
    "            }\n",
    "            print(f\"Loaded {name}\")\n",
    "        except Exception as e:\n",
    "            print(f\"Failed to load {name}: {e}\")\n",
    "    \n",
    "    return loaded_results, metadata['model_features']\n",
    "\n",
    "# Usage\n",
    "loaded_results, loaded_features = load_all_results('traces')"
   ]
  },
  {
   "cell_type": "markdown",
   "metadata": {},
   "source": [
    "## Step 6: Model Inference"
   ]
  },
  {
   "cell_type": "code",
   "execution_count": 9,
   "metadata": {},
   "outputs": [],
   "source": [
    "def predict_accidents(location_id, new_features, results, model_features):\n",
    "    trace = results[location_id][\"trace\"]\n",
    "    \n",
    "    # Convert DataFrame to 1D array\n",
    "    new_features_array = new_features.values.flatten()  # This is the key fix\n",
    "    \n",
    "    predictions = []\n",
    "    n_samples = trace.posterior.dims['draw']\n",
    "    \n",
    "    for i in range(n_samples):\n",
    "        beta_sample = np.array([trace.posterior[f\"beta_{feat}\"].values[0, i] for feat in model_features])\n",
    "        \n",
    "        # Now dot product returns a scalar, not array\n",
    "        dot_product = np.dot(new_features_array, beta_sample)\n",
    "        mu = np.exp(dot_product)  # Works because dot_product is scalar\n",
    "        predictions.append(np.random.poisson(mu))\n",
    "    \n",
    "    return np.array(predictions)"
   ]
  },
  {
   "cell_type": "code",
   "execution_count": null,
   "metadata": {},
   "outputs": [],
   "source": [
    "new_data = pd.DataFrame(None, columns=[c for c in observed_data.columns if c not in ['accident_count', 'grid_lat', 'grid_lon', 'bin_id', 'location_id']])\n",
    "new_row = {\n",
    "    'is_weekend': 0,\n",
    "    'is_rush_hour': 1,\n",
    "    'rain_1h_category_Heavy Rain': 0,\n",
    "    'rain_1h_category_Light Rain': 1,\n",
    "    'rain_1h_category_Moderate Rain': 0,\n",
    "    'rain_1h_category_No Rain': 0,\n",
    "    'snow_1h_category_Light Snow': 0,\n",
    "    'snow_1h_category_Moderate Snow': 0,\n",
    "    'snow_1h_category_Heavy Snow': 0,\n",
    "    'snow_1h_category_No Snow': 0,\n",
    "    'wind_intensity_Light Wind': 0,\n",
    "    'wind_intensity_Moderate Wind': 1,\n",
    "    'wind_intensity_Strong Wind': 0,\n",
    "    'wind_intensity_Very Strong Wind': 0,\n",
    "    'visibility_category_Low Visibility': 0,\n",
    "    'visibility_category_Medium Visibility': 0,\n",
    "    'visibility_category_High Visibility': 1,\n",
    "}\n",
    "new_row = pd.DataFrame([new_row])\n",
    "new_data = pd.concat([new_data, new_row], ignore_index=True)\n",
    "\n",
    "arr = predict_accidents(\"40.75_-74.0\", new_data, loaded_results, loaded_features)\n",
    "arr.mean(), arr.std()"
   ]
  }
 ],
 "metadata": {
  "kernelspec": {
   "display_name": "data",
   "language": "python",
   "name": "python3"
  },
  "language_info": {
   "codemirror_mode": {
    "name": "ipython",
    "version": 3
   },
   "file_extension": ".py",
   "mimetype": "text/x-python",
   "name": "python",
   "nbconvert_exporter": "python",
   "pygments_lexer": "ipython3",
   "version": "3.11.13"
  }
 },
 "nbformat": 4,
 "nbformat_minor": 4
}
